{
 "cells": [
  {
   "cell_type": "code",
   "execution_count": 1,
   "metadata": {},
   "outputs": [],
   "source": [
    "#!/usr/bin/env python3\n",
    "#import your libraries\n",
    "from imblearn.over_sampling import SMOTE\n",
    "import matplotlib.pyplot as plt\n",
    "import numpy as np\n",
    "import pandas as pd\n",
    "import seaborn as sns\n",
    "import time\n",
    "import warnings\n",
    "warnings.filterwarnings(\"ignore\")\n",
    "from catboost import CatBoostClassifier, Pool\n",
    "from imblearn.under_sampling import RandomUnderSampler\n",
    "from sklearn.decomposition import PCA\n",
    "from sklearn.ensemble import RandomForestClassifier\n",
    "from sklearn.linear_model import LogisticRegression\n",
    "from sklearn.metrics import confusion_matrix\n",
    "from sklearn.metrics import classification_report\n",
    "from sklearn.metrics import roc_auc_score\n",
    "from sklearn.metrics import roc_curve\n",
    "from sklearn.metrics import recall_score\n",
    "from sklearn.metrics import precision_score\n",
    "from sklearn.model_selection import cross_val_score\n",
    "from sklearn.model_selection import train_test_split\n",
    "from sklearn.model_selection import RandomizedSearchCV\n",
    "from sklearn.preprocessing import binarize\n",
    "from sklearn.preprocessing import LabelEncoder\n",
    "from sklearn.preprocessing import StandardScaler\n",
    "from sklearn.svm import SVC\n",
    "from sklearn.tree import DecisionTreeClassifier\n",
    "from sklearn.utils import shuffle\n",
    "from xgboost import XGBClassifier"
   ]
  },
  {
   "cell_type": "code",
   "execution_count": 2,
   "metadata": {},
   "outputs": [],
   "source": [
    "train_transaction = pd.read_csv('/Users/krahman/work/fraud_detection/data/train_transaction.csv')\n",
    "train_identity = pd.read_csv('/Users/krahman/work/fraud_detection/data/train_identity.csv')\n",
    "# merging dataframes \n",
    "df_raw = train_transaction.merge(train_identity, on='TransactionID', how='left')\n",
    "df_train = df_raw.copy()"
   ]
  },
  {
   "cell_type": "markdown",
   "metadata": {},
   "source": [
    "### Assigning columns to specific lists (cat, num, date, etc.)"
   ]
  },
  {
   "cell_type": "code",
   "execution_count": 3,
   "metadata": {},
   "outputs": [
    {
     "name": "stdout",
     "output_type": "stream",
     "text": [
      "Total columns: 220\n"
     ]
    }
   ],
   "source": [
    "# dropping columns with more than 50% missing data\n",
    "length_df = df_train.shape[0]/2\n",
    "list_temp = []\n",
    "for val in df_train.columns:\n",
    "    if np.sum(df_train[val].isnull()) > length_df:\n",
    "        list_temp.append(val)   \n",
    "df_train = df_train.drop(list_temp, axis=1)\n",
    "\n",
    "###################################\n",
    "# c is num, ex, how many addresses associated with card\n",
    "col_c = [c for c in df_train.columns if c.startswith('C') and (len(c)==2 or len(c)==3)]\n",
    "# d is num, time/days between transactions\n",
    "col_d = [d for d in df_train.columns if d.startswith('D') and (len(d)==2 or len(d)==3)]\n",
    "# m is date of transaction\n",
    "col_m = [m for m in df_train.columns if m.startswith('M') and (len(m)==2 or len(m)==3)]\n",
    "# v is num, features created by vesta such as ranking, counting. entity relationships, etc. \n",
    "col_v = [v for v in df_train.columns if v.startswith('V') and (len(v)==2 or len(v)==3 or len(v)==4)]\n",
    "# i is identity information like network and digital signature associated with transaction\n",
    "col_i = [i for i in df_train.columns if i.startswith('id_') and len(i)==5]\n",
    "# ca is cat, card information such as card type, etc. \n",
    "col_card = [ca for ca in df_train.columns if ca.startswith('card')]\n",
    "\n",
    "# column id and target\n",
    "col_id = ['TransactionID']\n",
    "col_target = 'isFraud'\n",
    "\n",
    "# converting categorical columns with numerical values to string types.\n",
    "col_cat_to_obj = ['addr1','addr2','card1','card2', 'card3', 'card5']\n",
    "for val in col_cat_to_obj:\n",
    "    df_train[val] = df_train[val].astype(str)\n",
    "\n",
    "# categorical columns\n",
    "col_cat = ['addr1','addr2','ProductCD',\"P_emaildomain\"] + col_card + col_m\n",
    "\n",
    "# C counter, D is time elapsed between transactions, V feature engineered variables by firm\n",
    "col_num = ['TransactionAmt'] + col_c + col_d + col_v \n",
    "col_num.append(col_target)\n",
    "\n",
    "# figure out how to handle this. What do these dates mean? Do certain dates have more fraud occurences?\n",
    "col_date = ['TransactionDT'] \n",
    "\n",
    "# confirming all columns are accounted for\n",
    "print('Total columns: ' + str(len(col_cat + col_num + col_date + col_id + col_i)))"
   ]
  },
  {
   "cell_type": "code",
   "execution_count": 166,
   "metadata": {
    "scrolled": false
   },
   "outputs": [
    {
     "name": "stdout",
     "output_type": "stream",
     "text": [
      "There were 195 columns with null values.\n"
     ]
    }
   ],
   "source": [
    "class Preprocessing:\n",
    "    def __init__(self):\n",
    "        '''initialize variables and column names for null dataframe'''\n",
    "        self.df_train = df_train.copy()\n",
    "        self.list_col = []\n",
    "        self.list_total = []\n",
    "        self.dict_unique = {}\n",
    "        self.list_datatype = []\n",
    "        self.list_unique_val = []\n",
    "        self.list_mode_count = []\n",
    "        self.list_mode_value = []\n",
    "        self.list_mode_count_perc = []\n",
    "        self.list_unique_total = []\n",
    "        self.list_unique_first_10 = []\n",
    "        self.column_names = ['col_name', 'total_null', 'datatype', 'total_unique',\n",
    "                             'mode_value', 'mode_count', 'mode_percentage']\n",
    "\n",
    "    def missing_values(self):\n",
    "        '''check for null values and add to null dataframe if more than 0 nulls exist'''\n",
    "        self._correct_nan_value()\n",
    "        for val in df_train.columns:\n",
    "            total_null = np.sum(df_train[val].isnull())\n",
    "            if total_null > 0:\n",
    "                self.list_col.append(val)\n",
    "                self.list_total.append(total_null)\n",
    "                self.list_datatype.append(df_train[val].dtype)\n",
    "                self.list_unique_total.append(len(df_train[val].unique()))\n",
    "                self.list_unique_val.append(df_train[val].unique())\n",
    "                self.list_mode_value.append(df_train[val].mode()[0])\n",
    "                val_counts = max(df_train[val].value_counts())\n",
    "                self.list_mode_count.append(val_counts)\n",
    "                self.list_mode_count_perc.append(val_counts/len(df_train))\n",
    "                val_unique = df_train[val].unique()\n",
    "                self._create_dict(val_unique, df_train, val)\n",
    "        df_null_info = self._create_dataframe()\n",
    "        df_null_info = self._create_df_unique(df_null_info)\n",
    "        self._summary(df_null_info)\n",
    "        self._fillna(df_null_info)\n",
    "        return df_null_info\n",
    "    \n",
    "    def _create_dict(self, val_unique, df_train, val):\n",
    "        '''create dictionary of unique values for each column'''\n",
    "        if (len(val_unique) > 99) and isinstance(df_train[val], object):  \n",
    "            self.dict_unique.update([(val,0)])\n",
    "        if (len(val_unique) > 99) and not isinstance(df_train[val], object):\n",
    "            self.dict_unique.update([(val,0)])\n",
    "        if len(val_unique) < 100:\n",
    "            self.dict_unique.update([(val, val_unique)])\n",
    "\n",
    "    def _create_dataframe(self):\n",
    "        '''create main dataframe'''\n",
    "        df_null_info = pd.DataFrame()\n",
    "        counter = -1\n",
    "        for list_val in [self.list_col, self.list_total, self.list_datatype, self.list_unique_total,\n",
    "                        self.list_mode_value, self.list_mode_count, self.list_mode_count_perc]:\n",
    "            counter = counter + 1\n",
    "            col_title = self.column_names[counter]\n",
    "            df = pd.DataFrame(list_val, columns=[col_title])\n",
    "            df_null_info = pd.concat([df_null_info, df], axis=1)\n",
    "        return df_null_info\n",
    "    \n",
    "    def _summary(self, df_null_info):\n",
    "        val = df_null_info.shape[0]\n",
    "        print('There were ' + str(val) + ' columns with null values.')\n",
    "    \n",
    "    def _create_df_unique(self, df_null_info):\n",
    "        '''create unique values dataframe'''\n",
    "        series_unique = pd.Series(self.dict_unique)\n",
    "        df_unique = pd.DataFrame(series_unique).reset_index()\n",
    "        df_unique = df_unique.rename(columns={'index':'col_name', 0:'unique'})\n",
    "        df_null_info = df_null_info.merge(df_unique, how='left', \n",
    "                                          left_on='col_name', right_on='col_name')\n",
    "        df_null_info.to_csv('/Users/krahman/work/fraud_detection/saved_files/df_null_info.csv')\n",
    "        return df_null_info\n",
    "    \n",
    "    def _correct_nan_value(self):\n",
    "        '''correcting nan string values and converting to np.nan'''\n",
    "        for col in self.df_train.columns:\n",
    "            val_total_nan = self.df_train[self.df_train[col]=='nan']\n",
    "            val_total_nan = val_total_nan.shape[0]\n",
    "            if val_total_nan > 0:\n",
    "                index_nan = self.df_train[self.df_train[col]=='nan']\n",
    "                index_nan = index_nan.index \n",
    "                self.df_train.loc[index_nan, col] = np.nan\n",
    "    \n",
    "    def _fillna(self, df_null_info):\n",
    "        '''fill null values of df_train with mode'''\n",
    "        total_null_columns = sum(np.sum(self.df_train.isnull()))\n",
    "        if total_null_columns > 0:\n",
    "            for val in df_null_info.col_name:\n",
    "                if (val == 'P_emaildomain'): # testing\n",
    "                    self.df_train[val] = self.df_train[val].fillna('missing')\n",
    "                else:\n",
    "                    val_mode = self.df_train[val].mode()[0]\n",
    "                    self.df_train[val] = self.df_train[val].fillna(val_mode)\n",
    "    \n",
    "    def impute_features(self):\n",
    "        df_temp = pp.df_train\n",
    "        for val in col_cat:\n",
    "            total_unique_val = pp.df_train[val].unique().shape[0]\n",
    "            if len(df_temp[val].unique()) < 61:\n",
    "                print('dummies encoded: ' + str(val) + ' unique ' + str(total_unique_val))\n",
    "                df_dumm = pd.get_dummies(df_temp[val], prefix=val, drop_first=True)\n",
    "                df_temp = df_temp.drop(val,axis=1)\n",
    "                df_temp = pd.concat([df_temp, df_dumm], axis=1)\n",
    "            else:\n",
    "                le = LabelEncoder()\n",
    "                df_temp[val] = le.fit_transform(df_temp[val])\n",
    "                print('label encoded: ' + str(val) + ' unique ' + str(total_unique_val))\n",
    "        print('new dataframe shape:' + str(df_temp.shape))\n",
    "        return df_temp\n",
    "\n",
    "pp = Preprocessing()\n",
    "df_null_info = pp.missing_values()"
   ]
  },
  {
   "cell_type": "code",
   "execution_count": 167,
   "metadata": {},
   "outputs": [
    {
     "data": {
      "text/plain": [
       "65706"
      ]
     },
     "execution_count": 167,
     "metadata": {},
     "output_type": "execute_result"
    }
   ],
   "source": [
    "# pp.df_train.loc[0,'card2'] = np.nan\n",
    "np.sum(pp.df_train.addr1.isnull())\n",
    "# pp.df_train.card2"
   ]
  },
  {
   "cell_type": "code",
   "execution_count": 154,
   "metadata": {},
   "outputs": [],
   "source": [
    "for col in pp.df_train.columns:\n",
    "    if pp.df_train[pp.df_train[col].isnull()].shape[0] > 0:\n",
    "        print('NaN', col)\n",
    "    if pp.df_train[pp.df_train[col]=='nan'].shape[0] > 0:\n",
    "        print('nan', col)    \n",
    "    if pp.df_train[pp.df_train[col]=='None'].shape[0] > 0:\n",
    "        print('None', col)    "
   ]
  },
  {
   "cell_type": "code",
   "execution_count": 109,
   "metadata": {},
   "outputs": [
    {
     "name": "stdout",
     "output_type": "stream",
     "text": [
      "nan card2\n",
      "nan card3\n",
      "nan card5\n",
      "nan addr1\n",
      "nan addr2\n"
     ]
    }
   ],
   "source": [
    "for col in pp.df_train.columns:\n",
    "    if pp.df_train[pp.df_train[col]=='NaN'].shape[0] > 0:\n",
    "        print('NaN', col)\n",
    "    if pp.df_train[pp.df_train[col]=='nan'].shape[0] > 0:\n",
    "        print('nan', col)    \n",
    "    if pp.df_train[pp.df_train[col]=='None'].shape[0] > 0:\n",
    "        print('None', col)    "
   ]
  },
  {
   "cell_type": "code",
   "execution_count": 23,
   "metadata": {
    "scrolled": false
   },
   "outputs": [
    {
     "name": "stdout",
     "output_type": "stream",
     "text": [
      "label encoded: addr1 unique 333\n",
      "label encoded: addr2 unique 75\n",
      "dummies encoded: ProductCD unique 5\n",
      "label encoded: P_emaildomain unique 60\n"
     ]
    },
    {
     "ename": "KeyboardInterrupt",
     "evalue": "",
     "output_type": "error",
     "traceback": [
      "\u001b[0;31m--------------------------------------------------------------------\u001b[0m",
      "\u001b[0;31mKeyboardInterrupt\u001b[0m                  Traceback (most recent call last)",
      "\u001b[0;32m<ipython-input-23-d65e2c5e3306>\u001b[0m in \u001b[0;36m<module>\u001b[0;34m\u001b[0m\n\u001b[0;32m----> 1\u001b[0;31m \u001b[0mpp\u001b[0m\u001b[0;34m.\u001b[0m\u001b[0mdf_train\u001b[0m \u001b[0;34m=\u001b[0m \u001b[0mpp\u001b[0m\u001b[0;34m.\u001b[0m\u001b[0mimpute_features\u001b[0m\u001b[0;34m(\u001b[0m\u001b[0;34m)\u001b[0m\u001b[0;34m\u001b[0m\u001b[0;34m\u001b[0m\u001b[0m\n\u001b[0m\u001b[1;32m      2\u001b[0m \u001b[0mpp\u001b[0m\u001b[0;34m.\u001b[0m\u001b[0mdf_train\u001b[0m\u001b[0;34m.\u001b[0m\u001b[0mto_csv\u001b[0m\u001b[0;34m(\u001b[0m\u001b[0;34m'/Users/krahman/work/fraud_detection/saved_files/df_imputed.csv'\u001b[0m\u001b[0;34m)\u001b[0m\u001b[0;34m\u001b[0m\u001b[0;34m\u001b[0m\u001b[0m\n",
      "\u001b[0;32m<ipython-input-22-37c1154424d2>\u001b[0m in \u001b[0;36mimpute_features\u001b[0;34m(self)\u001b[0m\n\u001b[1;32m     98\u001b[0m             \u001b[0;32melse\u001b[0m\u001b[0;34m:\u001b[0m\u001b[0;34m\u001b[0m\u001b[0;34m\u001b[0m\u001b[0m\n\u001b[1;32m     99\u001b[0m                 \u001b[0mle\u001b[0m \u001b[0;34m=\u001b[0m \u001b[0mLabelEncoder\u001b[0m\u001b[0;34m(\u001b[0m\u001b[0;34m)\u001b[0m\u001b[0;34m\u001b[0m\u001b[0;34m\u001b[0m\u001b[0m\n\u001b[0;32m--> 100\u001b[0;31m                 \u001b[0mdf_temp\u001b[0m\u001b[0;34m[\u001b[0m\u001b[0mval\u001b[0m\u001b[0;34m]\u001b[0m \u001b[0;34m=\u001b[0m \u001b[0mle\u001b[0m\u001b[0;34m.\u001b[0m\u001b[0mfit_transform\u001b[0m\u001b[0;34m(\u001b[0m\u001b[0mdf_temp\u001b[0m\u001b[0;34m[\u001b[0m\u001b[0mval\u001b[0m\u001b[0;34m]\u001b[0m\u001b[0;34m)\u001b[0m\u001b[0;34m\u001b[0m\u001b[0;34m\u001b[0m\u001b[0m\n\u001b[0m\u001b[1;32m    101\u001b[0m                 \u001b[0mprint\u001b[0m\u001b[0;34m(\u001b[0m\u001b[0;34m'label encoded: '\u001b[0m \u001b[0;34m+\u001b[0m \u001b[0mstr\u001b[0m\u001b[0;34m(\u001b[0m\u001b[0mval\u001b[0m\u001b[0;34m)\u001b[0m \u001b[0;34m+\u001b[0m \u001b[0;34m' unique '\u001b[0m \u001b[0;34m+\u001b[0m \u001b[0mstr\u001b[0m\u001b[0;34m(\u001b[0m\u001b[0mtotal_unique_val\u001b[0m\u001b[0;34m)\u001b[0m\u001b[0;34m)\u001b[0m\u001b[0;34m\u001b[0m\u001b[0;34m\u001b[0m\u001b[0m\n\u001b[1;32m    102\u001b[0m         \u001b[0mprint\u001b[0m\u001b[0;34m(\u001b[0m\u001b[0;34m'new dataframe shape:'\u001b[0m \u001b[0;34m+\u001b[0m \u001b[0mstr\u001b[0m\u001b[0;34m(\u001b[0m\u001b[0mdf_temp\u001b[0m\u001b[0;34m.\u001b[0m\u001b[0mshape\u001b[0m\u001b[0;34m)\u001b[0m\u001b[0;34m)\u001b[0m\u001b[0;34m\u001b[0m\u001b[0;34m\u001b[0m\u001b[0m\n",
      "\u001b[0;32m~/opt/anaconda3/lib/python3.7/site-packages/sklearn/preprocessing/label.py\u001b[0m in \u001b[0;36mfit_transform\u001b[0;34m(self, y)\u001b[0m\n\u001b[1;32m    234\u001b[0m         \"\"\"\n\u001b[1;32m    235\u001b[0m         \u001b[0my\u001b[0m \u001b[0;34m=\u001b[0m \u001b[0mcolumn_or_1d\u001b[0m\u001b[0;34m(\u001b[0m\u001b[0my\u001b[0m\u001b[0;34m,\u001b[0m \u001b[0mwarn\u001b[0m\u001b[0;34m=\u001b[0m\u001b[0;32mTrue\u001b[0m\u001b[0;34m)\u001b[0m\u001b[0;34m\u001b[0m\u001b[0;34m\u001b[0m\u001b[0m\n\u001b[0;32m--> 236\u001b[0;31m         \u001b[0mself\u001b[0m\u001b[0;34m.\u001b[0m\u001b[0mclasses_\u001b[0m\u001b[0;34m,\u001b[0m \u001b[0my\u001b[0m \u001b[0;34m=\u001b[0m \u001b[0m_encode\u001b[0m\u001b[0;34m(\u001b[0m\u001b[0my\u001b[0m\u001b[0;34m,\u001b[0m \u001b[0mencode\u001b[0m\u001b[0;34m=\u001b[0m\u001b[0;32mTrue\u001b[0m\u001b[0;34m)\u001b[0m\u001b[0;34m\u001b[0m\u001b[0;34m\u001b[0m\u001b[0m\n\u001b[0m\u001b[1;32m    237\u001b[0m         \u001b[0;32mreturn\u001b[0m \u001b[0my\u001b[0m\u001b[0;34m\u001b[0m\u001b[0;34m\u001b[0m\u001b[0m\n\u001b[1;32m    238\u001b[0m \u001b[0;34m\u001b[0m\u001b[0m\n",
      "\u001b[0;32m~/opt/anaconda3/lib/python3.7/site-packages/sklearn/preprocessing/label.py\u001b[0m in \u001b[0;36m_encode\u001b[0;34m(values, uniques, encode)\u001b[0m\n\u001b[1;32m    103\u001b[0m     \u001b[0;32mif\u001b[0m \u001b[0mvalues\u001b[0m\u001b[0;34m.\u001b[0m\u001b[0mdtype\u001b[0m \u001b[0;34m==\u001b[0m \u001b[0mobject\u001b[0m\u001b[0;34m:\u001b[0m\u001b[0;34m\u001b[0m\u001b[0;34m\u001b[0m\u001b[0m\n\u001b[1;32m    104\u001b[0m         \u001b[0;32mtry\u001b[0m\u001b[0;34m:\u001b[0m\u001b[0;34m\u001b[0m\u001b[0;34m\u001b[0m\u001b[0m\n\u001b[0;32m--> 105\u001b[0;31m             \u001b[0mres\u001b[0m \u001b[0;34m=\u001b[0m \u001b[0m_encode_python\u001b[0m\u001b[0;34m(\u001b[0m\u001b[0mvalues\u001b[0m\u001b[0;34m,\u001b[0m \u001b[0muniques\u001b[0m\u001b[0;34m,\u001b[0m \u001b[0mencode\u001b[0m\u001b[0;34m)\u001b[0m\u001b[0;34m\u001b[0m\u001b[0;34m\u001b[0m\u001b[0m\n\u001b[0m\u001b[1;32m    106\u001b[0m         \u001b[0;32mexcept\u001b[0m \u001b[0mTypeError\u001b[0m\u001b[0;34m:\u001b[0m\u001b[0;34m\u001b[0m\u001b[0;34m\u001b[0m\u001b[0m\n\u001b[1;32m    107\u001b[0m             \u001b[0;32mraise\u001b[0m \u001b[0mTypeError\u001b[0m\u001b[0;34m(\u001b[0m\u001b[0;34m\"argument must be a string or number\"\u001b[0m\u001b[0;34m)\u001b[0m\u001b[0;34m\u001b[0m\u001b[0;34m\u001b[0m\u001b[0m\n",
      "\u001b[0;32m~/opt/anaconda3/lib/python3.7/site-packages/sklearn/preprocessing/label.py\u001b[0m in \u001b[0;36m_encode_python\u001b[0;34m(values, uniques, encode)\u001b[0m\n\u001b[1;32m     57\u001b[0m     \u001b[0;31m# only used in _encode below, see docstring there for details\u001b[0m\u001b[0;34m\u001b[0m\u001b[0;34m\u001b[0m\u001b[0;34m\u001b[0m\u001b[0m\n\u001b[1;32m     58\u001b[0m     \u001b[0;32mif\u001b[0m \u001b[0muniques\u001b[0m \u001b[0;32mis\u001b[0m \u001b[0;32mNone\u001b[0m\u001b[0;34m:\u001b[0m\u001b[0;34m\u001b[0m\u001b[0;34m\u001b[0m\u001b[0m\n\u001b[0;32m---> 59\u001b[0;31m         \u001b[0muniques\u001b[0m \u001b[0;34m=\u001b[0m \u001b[0msorted\u001b[0m\u001b[0;34m(\u001b[0m\u001b[0mset\u001b[0m\u001b[0;34m(\u001b[0m\u001b[0mvalues\u001b[0m\u001b[0;34m)\u001b[0m\u001b[0;34m)\u001b[0m\u001b[0;34m\u001b[0m\u001b[0;34m\u001b[0m\u001b[0m\n\u001b[0m\u001b[1;32m     60\u001b[0m         \u001b[0muniques\u001b[0m \u001b[0;34m=\u001b[0m \u001b[0mnp\u001b[0m\u001b[0;34m.\u001b[0m\u001b[0marray\u001b[0m\u001b[0;34m(\u001b[0m\u001b[0muniques\u001b[0m\u001b[0;34m,\u001b[0m \u001b[0mdtype\u001b[0m\u001b[0;34m=\u001b[0m\u001b[0mvalues\u001b[0m\u001b[0;34m.\u001b[0m\u001b[0mdtype\u001b[0m\u001b[0;34m)\u001b[0m\u001b[0;34m\u001b[0m\u001b[0;34m\u001b[0m\u001b[0m\n\u001b[1;32m     61\u001b[0m     \u001b[0;32mif\u001b[0m \u001b[0mencode\u001b[0m\u001b[0;34m:\u001b[0m\u001b[0;34m\u001b[0m\u001b[0;34m\u001b[0m\u001b[0m\n",
      "\u001b[0;31mKeyboardInterrupt\u001b[0m: "
     ]
    }
   ],
   "source": [
    "pp.df_train = pp.impute_features()\n",
    "pp.df_train.to_csv('/Users/krahman/work/fraud_detection/saved_files/df_imputed.csv')"
   ]
  },
  {
   "cell_type": "code",
   "execution_count": 20,
   "metadata": {},
   "outputs": [],
   "source": [
    "df_features = pd.read_csv('/Users/krahman/work/fraud_detection/saved_files/df_imputed.csv')\n",
    "df_features = df_features.drop('Unnamed: 0', axis=1)"
   ]
  },
  {
   "cell_type": "code",
   "execution_count": 21,
   "metadata": {},
   "outputs": [
    {
     "data": {
      "text/plain": [
       "array([31, 16, 36, 54, 29,  1, 19, 49,  2, 30,  9, 35, 10,  8, 43, 38, 12,\n",
       "       23, 26, 15, 25,  3, 24, 59, 44,  4, 32, 41, 55,  6, 46, 11, 21,  7,\n",
       "       42, 34, 17, 47, 14, 51, 13, 37, 28, 33,  0, 50, 48,  5, 58, 56, 57,\n",
       "       45, 40, 27, 53, 22, 20, 18, 39, 52])"
      ]
     },
     "execution_count": 21,
     "metadata": {},
     "output_type": "execute_result"
    }
   ],
   "source": [
    "df_features.P_emaildomain.unique()"
   ]
  },
  {
   "cell_type": "markdown",
   "metadata": {},
   "source": [
    "## Splitting features dataframe"
   ]
  },
  {
   "cell_type": "code",
   "execution_count": null,
   "metadata": {},
   "outputs": [],
   "source": [
    "# # create features, target and split the dataframe\n",
    "# X = pp.df_train.drop(col_target, axis=1)\n",
    "# X = X.drop(col_id, axis=1)\n",
    "# y = pp.df_train[col_target]\n",
    "# X_train, X_test, y_train, y_test = train_test_split(X, y, test_size=.1, random_state=42)"
   ]
  },
  {
   "cell_type": "code",
   "execution_count": null,
   "metadata": {},
   "outputs": [],
   "source": [
    "# X = df_features.drop(col_target, axis=1)\n",
    "# X = X.drop(col_id, axis=1)\n",
    "# y = df_features[col_target]\n",
    "# X_train, X_test, y_train, y_test = train_test_split(X, y, test_size=.2, random_state=42)"
   ]
  },
  {
   "cell_type": "markdown",
   "metadata": {},
   "source": [
    "### EDA"
   ]
  },
  {
   "cell_type": "markdown",
   "metadata": {},
   "source": [
    "### Feature Engineering Class"
   ]
  },
  {
   "cell_type": "code",
   "execution_count": 10,
   "metadata": {
    "scrolled": true
   },
   "outputs": [
    {
     "name": "stdout",
     "output_type": "stream",
     "text": [
      "after running final_features, run create_final_df.\n",
      "after running final_features, run create_final_df.\n",
      "keeping original feature card5\n",
      "keeping original feature V317\n",
      "keeping original feature V69\n",
      "keeping original feature D1\n",
      "keeping original feature D3\n",
      "keeping original feature D4\n",
      "keeping original feature D11\n",
      "dropping columns:  ['addr1', 'addr2', 'card2', 'card3', 'C1', 'V294', 'V279', 'C14', 'V306', 'D2', 'D10', 'C4']\n",
      "downsampling applied.\n",
      "smote applied.\n",
      "bool_apply_pca set to false.\n",
      "bool_apply_pca set to false.\n",
      "creating tuning dataframe...\n",
      "downsampling applied.\n",
      "smote applied.\n",
      "final dataframe created.\n",
      "To test a model use the mod.create_df_score_model(model_current)\n",
      "method where, for example, model_current = LogisticRegression().\n"
     ]
    }
   ],
   "source": [
    "class FeatureEngineering():\n",
    "    '''create new features for columns without ordinal values'''\n",
    "    def __init__(self):\n",
    "        self.list_fraud_perc = []\n",
    "        self.df_feat = df_features.copy()\n",
    "        self.df_raw = df_raw.copy()\n",
    "        self.len_df_feat = self.df_feat.shape[0]\n",
    "        self.dict_all_feat = {}\n",
    "        self.new_col = []\n",
    "        self.col = []\n",
    "        self.col_fe = []\n",
    "        self.df_new_feat = pd.DataFrame()\n",
    "        self.list_drop_col = []\n",
    "        self.str_list_col_fe = []\n",
    "        self.list_feat = []\n",
    "\n",
    "    def feature_testing(self, bool_drop_col, list_feat):\n",
    "        '''testing and scoring new potential features'''\n",
    "        print(\"While running feature_testing, do not run final_features.\")            \n",
    "        if list_feat:\n",
    "            for col in list_feat:\n",
    "                self.col_fe = col\n",
    "                bool_predict_proba = False\n",
    "                if col in df_features.columns:\n",
    "                    df_feat = self.create_test_feature(bool_drop_col, col)\n",
    "                    if df_feat_1000:\n",
    "                        df_feat = df_feat[0:1000]\n",
    "                    df_feat = df_feat.drop(self.list_drop_col[-1], axis=1)\n",
    "                    self._apply_df_transform(df_feat)\n",
    "                    model_lr = LogisticRegression(random_state=42, n_jobs=-1)\n",
    "                    self._convert_list_to_string(list_feat)\n",
    "                    mod.create_df_score_model(model_lr)\n",
    "                else:\n",
    "                    print(\"\\nColumn\", col, \"does not exist in dataframe.\\n\")\n",
    "            self.col_fe = []\n",
    "        self.list_drop_col = []\n",
    "            \n",
    "    def final_features(self, bool_drop_col, list_feat):\n",
    "        '''creates final new features'''\n",
    "        print('after running final_features, run create_final_df.')\n",
    "        self.list_feat = list_feat\n",
    "        df_feat = self.create_feature(bool_drop_col, list_feat)  \n",
    "        if df_feat_1000:\n",
    "            df_feat = df_feat[0:1000]\n",
    "        for col in list_feat:\n",
    "            col_fe = self._append_col_lists(col)\n",
    "            df_feat[col] = self._fill_na(df_feat, col_fe)\n",
    "            self._concat_df_new_feat(df_feat, col_fe)\n",
    "        self._convert_list_to_string(list_feat)\n",
    "        return df_feat\n",
    "    \n",
    "    def _append_col_lists(self, col):\n",
    "        '''appending columns and new feature column names'''\n",
    "        col_fe = col + '_fe'\n",
    "        self.col.append(col)\n",
    "        self.col_fe.append(col_fe)\n",
    "        return col_fe\n",
    "\n",
    "    def _fill_na(self, df_feat, col_fe):\n",
    "        '''fill na values for new features'''\n",
    "        col_mode = df_feat[col_fe].mode()[0]\n",
    "        return df_feat[col_fe].fillna(col_mode)\n",
    "        \n",
    "    def _concat_df_new_feat(self, df_feat, col_fe):\n",
    "        '''adding new feauture columns to one dataframe'''  \n",
    "        df_temp = df_feat[col_fe]\n",
    "        self.df_new_feat = pd.concat([self.df_new_feat, df_temp], axis=1)\n",
    "    \n",
    "    def _convert_list_to_string(self, list_feat):\n",
    "        '''convert list to string to print later'''\n",
    "        str_temp = ''\n",
    "        for val in list_feat:\n",
    "            str_temp = str_temp + val + ' '\n",
    "        self.str_list_col_fe = str_temp\n",
    "\n",
    "    def create_final_df(self):\n",
    "        '''creates final dataframe after creating final_features'''\n",
    "        df_feat = pd.concat([df_features, self.df_new_feat], axis=1)\n",
    "        if df_feat_1000:\n",
    "            df_feat = pd.concat([df_features[0:1000], self.df_new_feat], axis=1)\n",
    "        print('dropping columns: ', self.list_drop_col)\n",
    "        df_feat = df_feat.drop(self.list_drop_col, axis=1)\n",
    "        self._apply_df_transform(df_feat)\n",
    "        self._create_tuning_df(df_feat)\n",
    "        self.list_drop_col = []\n",
    "        self._final_df_summary()\n",
    "        \n",
    "    def _shuffle_df(self, X, y):\n",
    "        '''shuffle dataframe'''\n",
    "        y = pd.Series(y)\n",
    "        X = pd.DataFrame(X)\n",
    "        df_temp = pd.concat([X, y], keys=['features','target'], axis=1)\n",
    "        df_temp = shuffle(df_temp).reset_index(drop=True)\n",
    "        X = df_temp.features\n",
    "        y = df_temp.target\n",
    "        return X, y\n",
    "        \n",
    "    def _final_df_summary(self):\n",
    "        print(\"final dataframe created.\")\n",
    "        print(\"To test a model use the mod.create_df_score_model(model_current)\")\n",
    "        print(\"method where, for example, model_current = LogisticRegression().\")\n",
    "\n",
    "    def _apply_df_transform(self, df_feat):\n",
    "        '''create dataframe, apply pca, apply smote'''\n",
    "        self.df_feat = df_feat\n",
    "        X, y = self._drop_col_id_target(df_feat)\n",
    "        X_train, X_test, y_train, y_test = self._split_dataframe(X, y)\n",
    "        X_train, y_train = self._sampling_techniques(X_train, y_train)\n",
    "        mod.X_train, mod.y_train = self._apply_pca(X_train, y_train)          # apply to train set\n",
    "        mod.X_test , mod.y_test = self._apply_pca(X_test, y_test) \n",
    "        \n",
    "    def _sampling_techniques(self, X_train, y_train):\n",
    "        '''applying resampling techniques and shuffle'''\n",
    "        X_train, y_train = self._apply_downsampling(X_train, y_train) # apply only train set\n",
    "        X_train, y_train = self._apply_smote(X_train, y_train)\n",
    "        X_train, y_train = self._shuffle_df(X_train, y_train)\n",
    "        return X_train, y_train\n",
    "    \n",
    "    def _create_tuning_df(self, df_feat):\n",
    "        '''whole dataframe used for model tuning'''\n",
    "        if bool_create_tuning_df:\n",
    "            print(\"creating tuning dataframe...\")\n",
    "            X, y = self._drop_col_id_target(df_feat)\n",
    "            X, y = self._apply_downsampling(X, y)\n",
    "            X, y = self._apply_smote(X, y)\n",
    "            mod.X_features, mod.y_target = self._shuffle_df(X, y)\n",
    "        else:\n",
    "            print('bool_create_tuning_df set to false.')\n",
    "\n",
    "    def _split_dataframe(self, X, y):\n",
    "        '''splitting dataframe into training and test set'''\n",
    "        X_train, X_test, y_train, y_test = train_test_split(X, \n",
    "                                                            y, \n",
    "                                                            test_size=0.1, \n",
    "                                                            random_state=42)\n",
    "        return X_train, X_test, y_train, y_test\n",
    "        \n",
    "    def _drop_col_id_target(self, df_feat):\n",
    "        '''dropping col id and target from features and creating target dataframe'''\n",
    "        X = df_feat.drop(col_target, axis=1)\n",
    "        X = X.drop(col_id, axis=1)\n",
    "        y = df_feat[col_target]\n",
    "        return X, y\n",
    "    \n",
    "    def _apply_downsampling(self, X, y):\n",
    "        '''down sampling majority class'''\n",
    "        if bool_apply_downsampling:\n",
    "            len_y_one = len(y[y==1])\n",
    "            X_col_names = X.columns\n",
    "            sampler = RandomUnderSampler(random_state=42, ratio={0:95000, 1:len_y_one})\n",
    "            X, y = sampler.fit_sample(X, y)\n",
    "            X = self._apply_col_names(X, X_col_names)\n",
    "            print(\"downsampling applied.\")\n",
    "            return X, y\n",
    "        else:\n",
    "            print(\"bool_apply_downsampling set to false.\")\n",
    "            return X, y\n",
    "            \n",
    "    def _apply_smote(self, X, y):\n",
    "        '''applying smote to split training set'''\n",
    "        if bool_apply_smote:\n",
    "            X_col_names = X.columns\n",
    "            sm = SMOTE(random_state=42, n_jobs=-1)\n",
    "            X, y = sm.fit_sample(X, y)\n",
    "            X = self._apply_col_names(X, X_col_names)\n",
    "            print(\"smote applied.\")\n",
    "            return X, y\n",
    "        else:\n",
    "            print(\"bool_apply_smote set to false.\")\n",
    "            return X, y\n",
    "        \n",
    "    def _apply_col_names(self, X, X_col_names):\n",
    "        '''adding column names back to dataset'''\n",
    "        X = pd.DataFrame(X, columns=X_col_names)\n",
    "        return X\n",
    "    \n",
    "    def _apply_pca(self, X, y):\n",
    "        '''applying PCA and creating train and test set'''\n",
    "        if bool_apply_pca:\n",
    "            X = self._pca(X)\n",
    "            print('pca applied to training set, then test set.')\n",
    "            return X, y\n",
    "        else:\n",
    "            print(\"bool_apply_pca set to false.\")\n",
    "            return X, y\n",
    "\n",
    "    def _pca(self, X):\n",
    "        '''applying pca features dataframe'''\n",
    "        scaled_X = StandardScaler().fit_transform(X)\n",
    "        pca = PCA(n_components=250) #set value\n",
    "        pcomponents = pca.fit_transform(scaled_X)\n",
    "        X_pca = pd.DataFrame(data=pcomponents)\n",
    "        return X_pca\n",
    "        \n",
    "    def _convert_to_matrix(self):\n",
    "        '''converting X_test to matrix so columns match X_train'''\n",
    "        if bool_apply_downsampling or bool_apply_smote:\n",
    "            mod.X_test = pd.DataFrame(mod.X_test.values)\n",
    "            \n",
    "    def create_test_feature(self, bool_drop_col, col):\n",
    "        '''creates correllated ratio to target column'''\n",
    "        df_feat = df_features.copy()        \n",
    "        df_feat = self._calculate_target_perc(col, df_feat) \n",
    "        df_feat = self._map_col(col, df_feat)\n",
    "        df_feat = self._create_ratio(df_feat)\n",
    "        df_feat = self._drop_column(bool_drop_col, col, df_feat)\n",
    "        return df_feat\n",
    "    \n",
    "    def create_feature(self, bool_drop_col, list_col):\n",
    "        '''creating new feature'''\n",
    "        df_feat = self.df_feat       \n",
    "        for col in list_col:\n",
    "            df_feat = self._check_col_exist(col, df_feat)\n",
    "            df_feat = self._calculate_target_perc(col, df_feat) \n",
    "            df_feat = self._map_col(col, df_feat)\n",
    "            df_feat = self._create_ratio(df_feat)\n",
    "            df_feat = self._drop_column(bool_drop_col, col, df_feat)\n",
    "        return df_feat \n",
    "    \n",
    "    def _check_col_exist(self, col, df_feat):\n",
    "        '''recreates original column from original dataframe'''\n",
    "        if col not in df_feat.columns:\n",
    "            df_feat[col] = df_raw[col]\n",
    "            df_feat[col] = self._fill_na(df_feat, col)\n",
    "            df_feat[col] = self._label_encode(df_feat, col)\n",
    "        return df_feat\n",
    "    \n",
    "    def _label_encode(self, df_feat, col):\n",
    "        '''label encoding columns pulled from original df_raw'''\n",
    "        le = LabelEncoder()\n",
    "        df_feat[col] = le.fit_transform(df_feat[col])\n",
    "        return df_feat[col]\n",
    "    \n",
    "    def _drop_column(self, bool_drop_col, col, df_feat):\n",
    "        '''dropping or keeping columns'''\n",
    "        if bool_drop_col:\n",
    "            if (col in df_features.columns):    \n",
    "                self.list_drop_col.append(col) \n",
    "        else:\n",
    "            print(\"keeping original feature\", col)\n",
    "        return df_feat\n",
    "\n",
    "    def aggregate_features(self, list_col, val_aggreg):\n",
    "        #del this method?\n",
    "        for col in list_col:\n",
    "            df_groupby = self.df_raw.groupby(col).mean()\n",
    "            dict_aggreg_col = df_groupby[[val_aggreg]].to_dict()\n",
    "            self.df_feat[col + '_fe'] = self.df_raw[col].map(dict_aggreg_col['TransactionAmt'])\n",
    "            col_mode = self.df_feat[col + '_fe'].mode()[0]\n",
    "            self.df_feat[col + '_fe'] = self.df_feat[col + '_fe'].fillna(col_mode)\n",
    "\n",
    "    def _calculate_target_perc(self, col_val, df_feat):\n",
    "        '''calculate fraud percentage for each column'''\n",
    "        list_perc = []\n",
    "        dict_feat = {}\n",
    "        unique_col_values = df_feat[col_val].unique()\n",
    "        for val in unique_col_values:\n",
    "            list_perc = self._append_fraud_percentage(df_feat, col_val, val, list_perc)    \n",
    "        self._create_dict(col_val, list_perc, unique_col_values)\n",
    "        return df_feat\n",
    "    \n",
    "    def _append_fraud_percentage(self, df_feat, col_val, val, list_perc):\n",
    "        '''calculating fraud percentage and adding to list'''\n",
    "        fraud_total = df_feat[(df_feat[col_val]==val) \n",
    "                            & (df_feat[col_target]==1)].shape[0]\n",
    "        non_fraud_total = df_feat[(df_feat[col_val]==val) \n",
    "                                & (df_feat[col_target]==0)].shape[0]\n",
    "        if (non_fraud_total==0):\n",
    "            list_perc.append(0)\n",
    "        else: \n",
    "            list_perc.append(fraud_total/non_fraud_total)\n",
    "        return list_perc\n",
    "\n",
    "    def _create_dict(self, col_val, list_perc, unique_col_values):\n",
    "        '''create dictionary for original values to new fraud percent values'''\n",
    "        col_name = col_val + '_fraud_perc'\n",
    "        series_perc = pd.Series(list_perc, name=col_name)\n",
    "        series_col = pd.Series(unique_col_values, name=col_val)\n",
    "        df_feat = pd.concat([series_col, series_perc], axis=1)\n",
    "        df_feat = df_feat.sort_values(col_name, ascending=False) \n",
    "        dict_feat = df_feat.set_index(col_val).to_dict()\n",
    "        self.dict_all_feat.update(dict_feat)\n",
    "\n",
    "    def _map_col(self, col, df_feat):\n",
    "        '''map dictionary values to new features'''\n",
    "        dict_keys = self.dict_all_feat.keys()\n",
    "        for val in dict_keys:\n",
    "            df_feat[col + '_fe'] = df_feat[col].map(self.dict_all_feat[val])\n",
    "            self.new_col.append(col + '_fe')\n",
    "        return df_feat\n",
    "            \n",
    "    def _create_ratio(self, df_feat):\n",
    "        '''finalize new features with ranking values'''\n",
    "        for val in self.new_col:\n",
    "            col_min_val = df_feat[df_feat[val] > 0][val].min()\n",
    "            df_feat[val] = df_feat[val]/col_min_val\n",
    "        self.new_col = []\n",
    "        return df_feat\n",
    "    \n",
    "mod = Model()\n",
    "fe = FeatureEngineering()\n",
    "\n",
    "bool_predict_proba = False\n",
    "bool_thres_cost = False\n",
    "bool_apply_pca = False\n",
    "bool_apply_smote = True\n",
    "bool_apply_downsampling = True\n",
    "\n",
    "bool_create_tuning_df = True\n",
    "bool_drop_col = True\n",
    "df_feat_1000 = False\n",
    "fe.final_features(bool_drop_col, list_feat=['addr1','addr2','card2','card3','C1','P_emaildomain', \n",
    "                                            'card6', 'V294','V279','C14','V306','D2','D10'])\n",
    "bool_drop_col = False\n",
    "fe.final_features(bool_drop_col, list_feat=['card5', 'V317', 'V69', 'D1','D3','D4','D11'])\n",
    "fe.list_drop_col.append('C4')\n",
    "fe.create_final_df()\n",
    "\n",
    "\n",
    "# testing - lines below are for testing\n",
    "# df_feat_1000 = False\n",
    "# fe.final_features(bool_drop_col, list_feat=['addr1'])\n",
    "# fe.create_final_df()\n",
    "# fe.feature_testing(bool_drop_col, list_feat=['addr1'])\n",
    "\n",
    "# NEXT, we need to fix our tuning dataframe. method, decide how we are going to tune our model, then \n",
    "# we also need to decide how this effects our results. Should we tune on the hold outset? If we applied\n",
    "# smote and undersampling, etc. how does this effect our outcome?\n",
    "# pca did not work properly. \n"
   ]
  },
  {
   "cell_type": "code",
   "execution_count": null,
   "metadata": {},
   "outputs": [],
   "source": [
    "bool_predict_proba = False\n",
    "model_current = LogisticRegression(random_state=42, n_jobs=-1)\n",
    "mod.create_df_score_model(model_current)"
   ]
  },
  {
   "cell_type": "code",
   "execution_count": 11,
   "metadata": {},
   "outputs": [],
   "source": [
    "# save data\n",
    "mod.X_train = pd.DataFrame(mod.X_train)\n",
    "mod.y_train = pd.DataFrame(mod.y_train)\n",
    "mod.X_test = pd.DataFrame(mod.X_test)\n",
    "mod.y_test = pd.DataFrame(mod.y_test)\n",
    "mod.X_train.to_csv('/Users/krahman/work/fraud_detection/saved_files/X_train.csv')\n",
    "mod.y_train.to_csv('/Users/krahman/work/fraud_detection/saved_files/y_train.csv')\n",
    "mod.X_test.to_csv('/Users/krahman/work/fraud_detection/saved_files/X_test.csv')\n",
    "mod.y_test.to_csv('/Users/krahman/work/fraud_detection/saved_files/y_test.csv')\n",
    "mod.X_features = pd.DataFrame(mod.X_features)\n",
    "mod.y_target = pd.DataFrame(mod.y_target)\n",
    "mod.X_features.to_csv('/Users/krahman/work/fraud_detection/saved_files/X_features.csv')\n",
    "mod.y_target.to_csv('/Users/krahman/work/fraud_detection/saved_files/y_target.csv')\n"
   ]
  },
  {
   "cell_type": "code",
   "execution_count": 12,
   "metadata": {},
   "outputs": [],
   "source": [
    "#read data\n",
    "mod.X_train = pd.read_csv('/Users/krahman/work/fraud_detection/saved_files/X_train.csv').drop('Unnamed: 0',axis=1)\n",
    "mod.y_train = pd.read_csv('/Users/krahman/work/fraud_detection/saved_files/y_train.csv').drop('Unnamed: 0',axis=1)\n",
    "mod.X_test = pd.read_csv('/Users/krahman/work/fraud_detection/saved_files/X_test.csv').drop('Unnamed: 0',axis=1)\n",
    "mod.y_test = pd.read_csv('/Users/krahman/work/fraud_detection/saved_files/y_test.csv').drop('Unnamed: 0',axis=1)\n",
    "mod.X_features = pd.read_csv('/Users/krahman/work/fraud_detection/saved_files/X_features.csv').drop('Unnamed: 0',axis=1)\n",
    "mod.y_target = pd.read_csv('/Users/krahman/work/fraud_detection/saved_files/y_target.csv').drop('Unnamed: 0',axis=1)\n",
    "\n",
    "# mod.X_features = pd.read_csv('/Users/krahman/work/fraud_detection/saved_files/X_features.csv').drop('Unnamed: 0', axis=1)\n",
    "# mod.y_target = pd.read_csv('/Users/krahman/work/fraud_detection/saved_files/y_target.csv').drop('Unnamed: 0', axis=1)\n",
    "# mod.X_features.info(memory_usage='deep')\n",
    "# mod.y_target.info(memory_usage='deep')\n"
   ]
  },
  {
   "cell_type": "markdown",
   "metadata": {},
   "source": [
    "### Testing Tuned Models"
   ]
  },
  {
   "cell_type": "code",
   "execution_count": null,
   "metadata": {},
   "outputs": [],
   "source": [
    "# bool_predict_proba = True\n",
    "# model_current = LogisticRegression(random_state=42, n_jobs=-1)\n",
    "# mod.create_df_score_model(model_current)"
   ]
  },
  {
   "cell_type": "code",
   "execution_count": null,
   "metadata": {},
   "outputs": [],
   "source": [
    "# # testing LogisticRegression\n",
    "# bool_predict_proba = False\n",
    "# model_current =  LogisticRegression(C=0.1, class_weight=None, dual=False, fit_intercept=False,\n",
    "#                                    intercept_scaling=0.1, l1_ratio=1e-06, max_iter=150,\n",
    "#                                    multi_class='multinomial', n_jobs=-1, penalty='none',\n",
    "#                                    random_state=42, solver='lbfgs', tol=1e-05, verbose=0,\n",
    "#                                    warm_start=False)\n",
    "# mod.create_df_score_model(model_current)\n"
   ]
  },
  {
   "cell_type": "code",
   "execution_count": null,
   "metadata": {},
   "outputs": [],
   "source": [
    "# testing LogisticRegression\n",
    "bool_predict_proba = True\n",
    "model_current =  LogisticRegression(C=1.0, class_weight=None, dual=False, fit_intercept=True,\n",
    "                                   intercept_scaling=0.1, l1_ratio=0.01, max_iter=100,\n",
    "                                   multi_class='auto', n_jobs=-1, penalty='none',\n",
    "                                   random_state=42, solver='newton-cg', tol=1e-06, verbose=0,\n",
    "                                   warm_start=False)\n",
    "mod.create_df_score_model(model_current)"
   ]
  },
  {
   "cell_type": "code",
   "execution_count": null,
   "metadata": {
    "scrolled": true
   },
   "outputs": [],
   "source": [
    "# TESTING XGBClassifier n_estimators=150\n",
    "bool_predict_proba = False\n",
    "model_current = XGBClassifier(base_score=0.4, booster='gbtree', colsample_bylevel=0.3,\n",
    "                              colsample_bynode=0.5, colsample_bytree=0.7, gamma=0,\n",
    "                              learning_rate=0.1, max_delta_step=0, max_depth=13,\n",
    "                              min_child_weight=1, missing=None, n_estimators=150, n_jobs=-1,\n",
    "                              nthread=None, objective='binary:logistic', random_state=42,\n",
    "                              reg_alpha=3, reg_lambda=5, scale_pos_weight=5, seed=None,\n",
    "                              silent=None, subsample=0.5, verbosity=1)\n",
    "mod.create_df_score_model(model_current)"
   ]
  },
  {
   "cell_type": "code",
   "execution_count": null,
   "metadata": {},
   "outputs": [],
   "source": [
    "# testing XGBClassifier 200 n_estimators\n",
    "model_current = XGBClassifier(base_score=0.4, booster='gbtree', colsample_bylevel=0.3,\n",
    "                              colsample_bynode=0.5, colsample_bytree=0.7, gamma=0,\n",
    "                              learning_rate=0.1, max_delta_step=0, max_depth=13,\n",
    "                              min_child_weight=1, missing=None, n_estimators=200, n_jobs=-1,\n",
    "                              nthread=None, objective='binary:logistic', random_state=42,\n",
    "                              reg_alpha=3, reg_lambda=5, scale_pos_weight=5, seed=None,\n",
    "                              silent=None, subsample=0.5, verbosity=1)\n",
    "mod.create_df_score_model(model_current)\n"
   ]
  },
  {
   "cell_type": "code",
   "execution_count": null,
   "metadata": {
    "scrolled": true
   },
   "outputs": [],
   "source": [
    "# RETUNE testing RandomForestClassifier\n",
    "model_current = RandomForestClassifier(bootstrap=True, class_weight=None,\n",
    "                                       criterion='gini', max_depth=5, max_features='auto',\n",
    "                                       max_leaf_nodes=9,\n",
    "                                       min_impurity_decrease=0.1, min_impurity_split=None,\n",
    "                                       min_samples_leaf=4, min_samples_split=3,\n",
    "                                       min_weight_fraction_leaf=0.3, n_estimators=100,\n",
    "                                       n_jobs=-1, oob_score=False, random_state=42, verbose=1,\n",
    "                                       warm_start=False)\n",
    "mod.create_df_score_model(model_current)\n"
   ]
  },
  {
   "cell_type": "code",
   "execution_count": null,
   "metadata": {},
   "outputs": [],
   "source": [
    "# testing RandomForestClassifier n_estimators=150\n",
    "model_current = RandomForestClassifier(bootstrap=True, class_weight=None,\n",
    "                                       criterion='gini', max_depth=5, max_features='auto',\n",
    "                                       max_leaf_nodes=9,\n",
    "                                       min_impurity_decrease=0.1, min_impurity_split=None,\n",
    "                                       min_samples_leaf=4, min_samples_split=3,\n",
    "                                       min_weight_fraction_leaf=0.3, n_estimators=150,\n",
    "                                       n_jobs=-1, oob_score=False, random_state=42, verbose=1,\n",
    "                                       warm_start=False)\n",
    "mod.create_df_score_model(model_current)\n"
   ]
  },
  {
   "cell_type": "code",
   "execution_count": null,
   "metadata": {},
   "outputs": [],
   "source": [
    "# testing DecisionTreeClassifier max_depth=11\n",
    "model_current = DecisionTreeClassifier(class_weight='balanced',\n",
    "                                       criterion='entropy', max_depth=11, max_features=None,\n",
    "                                       max_leaf_nodes=None, min_impurity_decrease=0.0,\n",
    "                                       min_impurity_split=None, min_samples_leaf=9,\n",
    "                                       min_samples_split=5, min_weight_fraction_leaf=0,\n",
    "                                       presort='auto', random_state=42, splitter='best')\n",
    "\n",
    "mod.create_df_score_model(model_current)"
   ]
  },
  {
   "cell_type": "code",
   "execution_count": null,
   "metadata": {
    "scrolled": false
   },
   "outputs": [],
   "source": [
    "# testing DecisionTreeClassifier max_depth=13\n",
    "model_current = DecisionTreeClassifier(class_weight='balanced',\n",
    "                                       criterion='entropy', max_depth=13, max_features=None,\n",
    "                                       max_leaf_nodes=None, min_impurity_decrease=0.0,\n",
    "                                       min_impurity_split=None, min_samples_leaf=9,\n",
    "                                       min_samples_split=5, min_weight_fraction_leaf=0,\n",
    "                                       presort='auto', random_state=42, splitter='best')\n",
    "\n",
    "mod.create_df_score_model(model_current)\n",
    "\n",
    "# NEXT, Create read me and presentation!"
   ]
  },
  {
   "cell_type": "code",
   "execution_count": null,
   "metadata": {
    "scrolled": false
   },
   "outputs": [],
   "source": [
    "# base score LogisticRegression threshold\n",
    "bool_predict_proba = True\n",
    "model_current = LogisticRegression(random_state=42, n_jobs=-1)\n",
    "mod.create_df_score_model(model_current)\n",
    "bool_predict_proba = False\n"
   ]
  },
  {
   "cell_type": "code",
   "execution_count": null,
   "metadata": {},
   "outputs": [],
   "source": [
    "# base model LogisticRegression\n",
    "model_current = LogisticRegression(random_state=42, n_jobs=-1)\n",
    "mod.create_df_score_model(model_current)"
   ]
  },
  {
   "cell_type": "code",
   "execution_count": null,
   "metadata": {
    "scrolled": true
   },
   "outputs": [],
   "source": [
    "# base DecisionTreeClassifier\n",
    "bool_predict_proba = False\n",
    "model_current = DecisionTreeClassifier(random_state=42)\n",
    "mod.create_df_score_model(model_current)\n"
   ]
  },
  {
   "cell_type": "code",
   "execution_count": null,
   "metadata": {},
   "outputs": [],
   "source": [
    "# COMPLETE RandomForestClassifier - tuned\n",
    "bool_predict_proba = True\n",
    "model_current = RandomForestClassifier(bootstrap=True, class_weight=None, criterion='gini',\n",
    "                       max_depth=None, max_features='auto', max_leaf_nodes=None,\n",
    "                       min_impurity_decrease=0.0, min_impurity_split=None,\n",
    "                       min_samples_leaf=1, min_samples_split=2,\n",
    "                       min_weight_fraction_leaf=0.0, n_estimators=150,\n",
    "                       n_jobs=-1, oob_score=False, random_state=42, verbose=1,\n",
    "                       warm_start=False)\n",
    "mod.create_df_score_model(model_current)\n"
   ]
  },
  {
   "cell_type": "code",
   "execution_count": null,
   "metadata": {},
   "outputs": [],
   "source": [
    "# COMPLETE RandomForestClassifier - base\n",
    "bool_predict_proba = True\n",
    "model_current = RandomForestClassifier(n_jobs=-1, random_state=42, verbose=1)\n",
    "mod.create_df_score_model(model_current)"
   ]
  },
  {
   "cell_type": "code",
   "execution_count": null,
   "metadata": {},
   "outputs": [],
   "source": [
    "# base XGBClassifier threshold\n",
    "bool_predict_proba = True\n",
    "model_current = XGBClassifier(random_state=42, n_jobs=-1)\n",
    "mod.create_df_score_model(model_current)"
   ]
  },
  {
   "cell_type": "code",
   "execution_count": null,
   "metadata": {
    "scrolled": true
   },
   "outputs": [],
   "source": [
    "# base XGBClassifier\n",
    "bool_predict_proba = False\n",
    "model_current = XGBClassifier(random_state=42, n_jobs=-1)\n",
    "mod.create_df_score_model(model_current)"
   ]
  },
  {
   "cell_type": "code",
   "execution_count": null,
   "metadata": {},
   "outputs": [],
   "source": [
    "# predict_proba CatBoostClassifier\n",
    "bool_predict_proba = True\n",
    "model_current = CatBoostClassifier(random_state=42, verbose=0)\n",
    "mod.create_df_score_model(model_current)"
   ]
  },
  {
   "cell_type": "markdown",
   "metadata": {},
   "source": [
    "# Model Class"
   ]
  },
  {
   "cell_type": "code",
   "execution_count": 5,
   "metadata": {
    "scrolled": true
   },
   "outputs": [],
   "source": [
    "class Model():\n",
    "    def __init__(self):\n",
    "        self.X_train = pd.DataFrame()\n",
    "        self.y_train = pd.DataFrame()\n",
    "        self.X_test = pd.DataFrame()\n",
    "        self.y_test = pd.DataFrame()\n",
    "        self.X_features = pd.DataFrame()\n",
    "        self.y_target = pd.DataFrame()\n",
    "        self.dict_results = {'index':[0], 'threshold':[], 'roc_auc_score':[], \n",
    "                             'total_cost':[], 'fn':[], 'fp':[]}\n",
    "        self.X_train = pd.read_csv('/Users/krahman/work/fraud_detection/saved_files/X_train.csv').drop('Unnamed: 0',axis=1)\n",
    "        self.y_train = pd.read_csv('/Users/krahman/work/fraud_detection/saved_files/y_train.csv').drop('Unnamed: 0',axis=1)\n",
    "        self.X_test = pd.read_csv('/Users/krahman/work/fraud_detection/saved_files/X_test.csv').drop('Unnamed: 0',axis=1)\n",
    "        self.y_test = pd.read_csv('/Users/krahman/work/fraud_detection/saved_files/y_test.csv').drop('Unnamed: 0',axis=1)\n",
    "        self.X_features = pd.read_csv('/Users/krahman/work/fraud_detection/saved_files/X_features.csv').drop('Unnamed: 0',axis=1)\n",
    "        self.y_target = pd.read_csv('/Users/krahman/work/fraud_detection/saved_files/y_target.csv').drop('Unnamed: 0',axis=1)\n",
    "        \n",
    "    def create_df_score_model(self, model):\n",
    "        '''scores model'''\n",
    "        print(\"Fitting model:\\n\", model)\n",
    "        y_pred, elapsed_time, model = self.add_model(model) \n",
    "        df_scores, df_temp, y_pred = self._score_model(y_pred, elapsed_time)\n",
    "        self._save_results(df_scores, df_temp, y_pred)\n",
    "        self._feature_importance(model)\n",
    "        fe.col_fe = []\n",
    "        \n",
    "    def add_model(self, model):        \n",
    "        '''fitting model and calculating time elapsed'''\n",
    "        start_time = time.time()\n",
    "        model.fit(mod.X_train, mod.y_train)\n",
    "        y_pred, model = self._predict(model)\n",
    "        bool_predict_proba = False\n",
    "        elapsed_time = (time.time() - start_time) / 60\n",
    "        return y_pred, elapsed_time, model\n",
    "    \n",
    "    def _predict(self, model):\n",
    "        '''make prediction'''\n",
    "        if bool_predict_proba:\n",
    "            print(model)\n",
    "            y_pred, model = self._predict_proba(model)\n",
    "            y_pred = self._predict_proba_threshold(y_pred)\n",
    "            return y_pred, model\n",
    "        else:\n",
    "            y_pred = model.predict(mod.X_test)\n",
    "            return y_pred, model\n",
    "        \n",
    "    def _predict_proba(self, model):\n",
    "        try:\n",
    "            y_pred_prob = model.predict_proba(mod.X_test)\n",
    "            return y_pred_prob, model\n",
    "        except:\n",
    "            print(\"Model does not have predict_proba attribute.\")\n",
    "\n",
    "    def _predict_proba_threshold(self, y_pred):\n",
    "        '''create prediction for each threshold'''\n",
    "        df_results = pd.DataFrame()\n",
    "        list_threshold = [.05, .1, .15, .2, .25, .3, \n",
    "                          .35, .4, .45, .5, .55, .6]\n",
    "        for threshold in list_threshold:\n",
    "            df_temp = self._compute_thres_df(y_pred, threshold)\n",
    "            df_results = pd.concat([df_results, df_temp], axis=0)\n",
    "        df_results = df_results.drop('index', axis=1).reset_index(drop=True)\n",
    "        val_thres_cost, val_thres_auc = self._calc_and_plot_results(df_results)\n",
    "        y_pred_class = self._y_pred_class(y_pred, val_thres_cost, val_thres_auc)\n",
    "        print('threshold results dataframe:\\n', df_results)\n",
    "        return y_pred_class\n",
    "        \n",
    "    def _compute_thres_df(self, y_pred_prob, threshold):\n",
    "        '''compute the values for each threshold'''\n",
    "        y_pred_class = binarize(y_pred_prob, threshold)[:,1]\n",
    "        df_conf_matrix = self._compute_conf_matrix(y_pred_class)\n",
    "        df_dict_results = self._compute_results(df_conf_matrix, y_pred_class, threshold)\n",
    "        return df_dict_results\n",
    "    \n",
    "    def _compute_conf_matrix(self, y_pred_class):\n",
    "        '''compute the confusion matrix for the current threshold'''\n",
    "        conf_matr = confusion_matrix(self.y_test, y_pred_class)\n",
    "        df_conf_matrix = pd.DataFrame(conf_matr)\n",
    "        return df_conf_matrix\n",
    "    \n",
    "    def _compute_results(self, df_conf_matrix, y_pred_class, threshold):\n",
    "        '''compute results for each threshold and save to dictionary'''\n",
    "        val_fn = df_conf_matrix[0][1]\n",
    "        val_fp = df_conf_matrix[1][0]\n",
    "        val_cost = 3000*val_fn + 20*val_fp\n",
    "        val_score = roc_auc_score(self.y_test, y_pred_class)\n",
    "        self.dict_results.update([('threshold', threshold)])\n",
    "        self.dict_results.update([('roc_auc_score', val_score)])\n",
    "        self.dict_results.update([('total_cost', val_cost)])\n",
    "        self.dict_results.update([('fn', val_fn)])\n",
    "        self.dict_results.update([('fp', val_fp)])\n",
    "        df_dict_results = pd.DataFrame.from_dict(self.dict_results)\n",
    "        return df_dict_results\n",
    "    \n",
    "    def _calc_and_plot_results(self, df_results):\n",
    "        '''plot results and calculate best threshold for auc and cost'''\n",
    "        self._plot_thres_auc(df_results)\n",
    "        self._plot_thres_score(df_results)\n",
    "        val_thres_cost = self._calc_best_thres_cost(df_results)\n",
    "        val_thres_auc = self._calc_best_thres_auc(df_results)\n",
    "        return val_thres_cost, val_thres_auc\n",
    "        \n",
    "    def _plot_thres_auc(self, df_results):\n",
    "        '''plot auc roc score by threshold'''\n",
    "        plt.figure(figsize=(12,4))\n",
    "        plt.title(\"Threshold by Auc Roc Score\", fontsize=14)\n",
    "        plt.xlabel('Threshold', fontsize=13)\n",
    "        plt.ylabel(\"Auc Roc Score\", fontsize=13)\n",
    "        plt.plot('threshold', 'roc_auc_score', data=df_results)\n",
    "        plt.show()\n",
    "\n",
    "    def _plot_thres_score(self, df_results):\n",
    "        '''plot cost by threshold'''\n",
    "        plt.figure(figsize=(12,4))\n",
    "        plt.title(\"Threshold by Cost\", fontsize=14)\n",
    "        plt.xlabel('Threshold', fontsize=13)\n",
    "        plt.ylabel(\"Cost in Dollars\", fontsize=13)\n",
    "        plt.plot('threshold', 'total_cost', data=df_results)\n",
    "        plt.show()\n",
    "    \n",
    "    def _calc_best_thres_cost(self, df_results):\n",
    "        '''calculate the best threshold by cost'''\n",
    "        val_min_cost = df_results.total_cost.min()\n",
    "        index_min_cost = df_results[df_results.total_cost==val_min_cost].index[0]\n",
    "        val_threshold_min_cost = df_results.loc[index_min_cost,:].threshold.item()\n",
    "        print(\"Best threshold by cost:\", val_threshold_min_cost)\n",
    "        return val_threshold_min_cost\n",
    "\n",
    "    def _calc_best_thres_auc(self, df_results):\n",
    "        '''calculate the best threshold by highest auc roc score'''\n",
    "        val_max_roc_auc = df_results.roc_auc_score.max()\n",
    "        index_max_roc_auc = df_results[df_results.roc_auc_score==val_max_roc_auc].index[0]\n",
    "        val_threshold_roc_auc = df_results.loc[index_max_roc_auc,:].threshold.item()\n",
    "        print(\"Best threshold by roc auc score:\", val_threshold_roc_auc, '\\n')\n",
    "        return val_threshold_roc_auc\n",
    "    \n",
    "    def _y_pred_class(self, y_pred_prob, val_thres_cost, val_thres_auc):\n",
    "        '''calculate y_pred_class depending on if we want cost or auc threshold'''\n",
    "        if bool_thres_cost:\n",
    "            y_pred_class = binarize(y_pred_prob, val_thres_cost)[:,1]\n",
    "            return y_pred_class\n",
    "        else:\n",
    "            y_pred_class = binarize(y_pred_prob, val_thres_auc)[:,1]\n",
    "            return y_pred_class\n",
    "\n",
    "    def _score_model(self, y_pred, elapsed_time):      \n",
    "        '''creating dataframe with score results'''\n",
    "        col_recall, col_precision, col_time, col_auc = self._calc_scores(y_pred, \n",
    "                                                                         elapsed_time) \n",
    "        df_conf_matrix = self._confusion_matrix(y_pred)\n",
    "        df_temp = pd.concat([col_auc, col_recall, col_precision, \n",
    "                             df_conf_matrix, col_time], axis=1)\n",
    "        if fe.col_fe:\n",
    "            df_temp = self._concat_new_feat(df_temp)\n",
    "        df_scores = self._read_create_score_file(df_temp)\n",
    "        return df_scores, df_temp, y_pred\n",
    "\n",
    "    def _calc_scores(self, y_pred, elapsed_time):\n",
    "        '''calculating recall, precision and elapsed time'''\n",
    "        col_auc = pd.Series(roc_auc_score(mod.y_test, y_pred), name='roc_auc_score')\n",
    "        col_recall = pd.Series(recall_score(mod.y_test, y_pred), name='recall')\n",
    "        col_precision = pd.Series(precision_score(mod.y_test, y_pred), name='precision')\n",
    "        col_time = pd.Series(elapsed_time, name='time_elapsed (min)')\n",
    "        print('\\nroc auc score:', roc_auc_score(mod.y_test, y_pred), '\\n')\n",
    "        return col_recall, col_precision, col_time, col_auc\n",
    "    \n",
    "    def _confusion_matrix(self, y_pred):\n",
    "        '''creating confusion matrix dataframe'''\n",
    "        df_conf_matrix = pd.DataFrame(confusion_matrix(mod.y_test, y_pred))\n",
    "        val_tp = pd.Series(df_conf_matrix[0][0], name='tp')\n",
    "        val_fn = pd.Series(df_conf_matrix[0][1], name='fn')\n",
    "        val_fp = pd.Series(df_conf_matrix[1][0], name='fp')\n",
    "        val_tn = pd.Series(df_conf_matrix[1][1], name='tn')\n",
    "        return pd.concat([val_fn, val_fp, val_tp, val_tn], axis=1)\n",
    "\n",
    "    def _concat_new_feat(self, df_temp):\n",
    "        '''concatenate scoring results'''        \n",
    "        print(\"\\nThe following new features have been created:\", fe.col_fe, '\\n')\n",
    "        if len(fe.col_fe) > 1: \n",
    "            fe.col_fe = \"model score\"\n",
    "        col_fe = pd.Series(fe.col_fe, name='feat_tested')\n",
    "        return pd.concat([col_fe, df_temp], axis=1)\n",
    "    \n",
    "    def _read_create_score_file(self, df_temp):\n",
    "        '''reading or creating df_scores file'''\n",
    "        try: \n",
    "            df_scores = pd.read_csv('/Users/krahman/work/fraud_detection/saved_files/df_scores.csv')\n",
    "            df_scores = df_scores.drop('Unnamed: 0', axis=1)\n",
    "        except:\n",
    "            print(\"\\nCreating df_scores.csv file.\") \n",
    "            df_scores = df_temp\n",
    "        return df_scores\n",
    "            \n",
    "    def _save_results(self, df_scores, df_temp, y_pred):\n",
    "        '''printing scores for new features'''            \n",
    "        df_scores = pd.concat([df_scores, df_temp], axis=0)\n",
    "        df_scores.to_csv('/Users/krahman/work/fraud_detection/saved_files/df_scores.csv')\n",
    "        classif_report = classification_report(mod.y_test, y_pred)\n",
    "        self._print_summary(classif_report, df_scores)\n",
    "        self._save_summary(classif_report)\n",
    "\n",
    "    def _print_summary(self, classif_report, df_scores):\n",
    "        '''print last 5 rows of previous score results'''\n",
    "        print(classif_report)\n",
    "        print('\\ndf_scores:\\n\\n', df_scores.tail(5))\n",
    "    \n",
    "    def _save_summary(self, classif_report):\n",
    "        '''save score result summary to text file'''\n",
    "        file_summary = open('/Users/krahman/work/fraud_detection/saved_files/df_scores_summary.txt', \"a\")\n",
    "        file_summary.write('New features created from: ' \n",
    "                           + fe.str_list_col_fe \n",
    "                           + '\\n')\n",
    "        file_summary.write(classif_report)\n",
    "        file_summary.close()\n",
    "        \n",
    "    def _feature_importance(self, model):\n",
    "        '''create feature importance dataframe and bar plot'''\n",
    "        try:\n",
    "            self._feat_import_method(model)\n",
    "        except:\n",
    "            print(\"\\nmodel does not have _feature_importance attribute.\")\n",
    "    \n",
    "    def _feat_import_method(self, model):\n",
    "        '''run feature importance methods'''\n",
    "        df_feat_rank = self._feat_import_create_df(model)\n",
    "        df_feat_rank = self._feat_import_create_plot(df_feat_rank)\n",
    "        \n",
    "    def _feat_import_create_df(self, model):\n",
    "        '''creating dataframe of important features'''\n",
    "        col_name = pd.Series(mod.X_train.columns, name='col')\n",
    "        col_feat_rank = pd.Series(model.feature_importances_, \n",
    "                                  name='feat_rank')\n",
    "        df_feat_rank = pd.concat([col_name, col_feat_rank], axis=1)\n",
    "        df_feat_rank = df_feat_rank.sort_values('feat_rank', ascending=False)\n",
    "        return df_feat_rank.reset_index(drop=True)\n",
    "    \n",
    "    def _feat_import_create_plot(self, df_feat_rank):\n",
    "        '''create feature importance bar plot'''\n",
    "        plt.figure(figsize=(5,6))\n",
    "        sns.barplot(df_feat_rank.feat_rank[0:10],\n",
    "                    df_feat_rank.col[0:10],\n",
    "                    palette='Blues_d')\n",
    "        plt.title('Feature Importance')\n",
    "        plt.show()\n",
    "        print(df_feat_rank[0:20])\n",
    "        \n",
    "mod = Model()\n"
   ]
  },
  {
   "cell_type": "code",
   "execution_count": null,
   "metadata": {},
   "outputs": [],
   "source": [
    "# iterations=300\n",
    "iterations = [100,200,300]\n",
    "for val in iterations:\n",
    "    model_current = CatBoostClassifier(random_state=42, iterations=val, verbose=0, \n",
    "                                       max_depth=9)\n",
    "    mod.create_df_score_model(model_current)"
   ]
  },
  {
   "cell_type": "code",
   "execution_count": null,
   "metadata": {},
   "outputs": [],
   "source": [
    "# bagging_temperature=1e-3, 0.8849\n",
    "# bagging_temperature, n_estimators,  \n",
    "bagging_temperature = [1e-1,1e-2,1e-3]\n",
    "for val in iterations:\n",
    "    model_current = CatBoostClassifier(random_state=42, bagging_temperature=val, verbose=0)\n",
    "    mod.create_df_score_model(model_current)"
   ]
  },
  {
   "cell_type": "code",
   "execution_count": null,
   "metadata": {},
   "outputs": [],
   "source": [
    "# bootstrap_type = 'Bernoulli' 0.886326\n",
    "bootstrap_type = ['Bayesian', 'Bernoulli', 'MVS', None]\n",
    "for val in bootstrap_type:\n",
    "#     print(val+'\\n')\n",
    "    model_current = CatBoostClassifier(random_state=42, bootstrap_type=val, verbose=0)\n",
    "    mod.create_df_score_model(model_current)"
   ]
  },
  {
   "cell_type": "code",
   "execution_count": null,
   "metadata": {},
   "outputs": [],
   "source": [
    "# boosting_type = 'Plain' 0.884913\n",
    "boosting_type = ['Ordered', 'Plain']\n",
    "for val in boosting_type:\n",
    "    print(val+'\\n')\n",
    "    model_current = CatBoostClassifier(random_state=42, boosting_type=val, verbose=0)\n",
    "    mod.create_df_score_model(model_current)"
   ]
  },
  {
   "cell_type": "code",
   "execution_count": null,
   "metadata": {},
   "outputs": [],
   "source": [
    "# grow_policy = ['SymmetricTree', 'Depthwise']\n",
    "# for val in grow_policy:\n",
    "#     print(val+'\\n')\n",
    "#     model_current = CatBoostClassifier(random_state=42, grow_policy=val, verbose=0)\n",
    "#     mod.create_df_score_model(model_current)"
   ]
  },
  {
   "cell_type": "code",
   "execution_count": null,
   "metadata": {},
   "outputs": [],
   "source": [
    "# min_child_samples = [2,3,4]\n",
    "# for val in min_child_samples:\n",
    "#     print(val)\n",
    "#     model_current = CatBoostClassifier(random_state=42, min_child_samples=val, verbose=0)\n",
    "#     mod.create_df_score_model(model_current)"
   ]
  },
  {
   "cell_type": "code",
   "execution_count": null,
   "metadata": {},
   "outputs": [],
   "source": [
    "# max_leaves = [2,3,4]\n",
    "# for val in max_leaves:\n",
    "#     print(val)\n",
    "#     model_current = CatBoostClassifier(random_state=42, max_leaves=val, verbose=0)\n",
    "#     mod.create_df_score_model(model_current)"
   ]
  },
  {
   "cell_type": "code",
   "execution_count": null,
   "metadata": {},
   "outputs": [],
   "source": [
    "# colsample_bylevel = .1 best? 0.884395\n",
    "colsample_bylevel = [1e-1,1e-2,1e-3,.2,.5,.9]\n",
    "colsample_bylevel = [.1,.2,.3]\n",
    "for val in colsample_bylevel:\n",
    "    print(val)\n",
    "    model_current = CatBoostClassifier(random_state=42, colsample_bylevel=val, verbose=0)\n",
    "    mod.create_df_score_model(model_current)"
   ]
  },
  {
   "cell_type": "code",
   "execution_count": null,
   "metadata": {},
   "outputs": [],
   "source": [
    "# RERUN when you have a moment. \n",
    "# subsample = .4\n",
    "# subsample = [1e-1,1e-2,1e-3]\n",
    "# subsample = [.1,.2,.3,.4]\n",
    "subsample = [.1,.2,.3,.4,.5,.6,.7,.8,.9,.99]\n",
    "for val in subsample:\n",
    "    print(val)\n",
    "    model_current = CatBoostClassifier(random_state=42, subsample=val, verbose=0)\n",
    "    mod.create_df_score_model(model_current)"
   ]
  },
  {
   "cell_type": "code",
   "execution_count": 13,
   "metadata": {},
   "outputs": [
    {
     "name": "stdout",
     "output_type": "stream",
     "text": [
      "Fitting model:\n",
      " <catboost.core.CatBoostClassifier object at 0x1a28d423d0>\n",
      "<catboost.core.CatBoostClassifier object at 0x1a28d423d0>\n"
     ]
    },
    {
     "data": {
      "image/png": "[encoded data removed]",
      "text/plain": [
       "<Figure size 864x288 with 1 Axes>"
      ]
     },
     "metadata": {
      "needs_background": "light"
     },
     "output_type": "display_data"
    },
    {
     "data": {
      "image/png": "[encoded data removed]",
      "text/plain": [
       "<Figure size 864x288 with 1 Axes>"
      ]
     },
     "metadata": {
      "needs_background": "light"
     },
     "output_type": "display_data"
    },
    {
     "name": "stdout",
     "output_type": "stream",
     "text": [
      "Best threshold by cost: 0.05\n",
      "Best threshold by roc auc score: 0.2 \n",
      "\n",
      "threshold results dataframe:\n",
      "     threshold  roc_auc_score  total_cost   fn     fp\n",
      "0        0.05       0.856203      534180   84  14109\n",
      "1        0.10       0.892623      672620  174   7531\n",
      "2        0.15       0.901385      805180  236   4859\n",
      "3        0.20       0.903800      905460  279   3423\n",
      "4        0.25       0.901288     1016960  322   2548\n",
      "5        0.30       0.897468     1121600  361   1930\n",
      "6        0.35       0.892235     1224540  398   1527\n",
      "7        0.40       0.886966     1320180  432   1209\n",
      "8        0.45       0.878932     1441800  474    990\n",
      "9        0.50       0.869826     1573240  519    812\n",
      "10       0.55       0.862749     1677920  555    646\n",
      "11       0.60       0.851395     1831700  607    535\n",
      "\n",
      "roc auc score: 0.9037995910056208 \n",
      "\n",
      "\n",
      "The following new features have been created: ['addr1_fe', 'addr2_fe', 'card2_fe', 'card3_fe', 'C1_fe', 'P_emaildomain_fe', 'card6_fe', 'V294_fe', 'V279_fe', 'C14_fe', 'V306_fe', 'D2_fe', 'D10_fe', 'card5_fe', 'V317_fe', 'V69_fe', 'D1_fe', 'D3_fe', 'D4_fe', 'D11_fe'] \n",
      "\n",
      "              precision    recall  f1-score   support\n",
      "\n",
      "           0       0.99      0.94      0.97     56945\n",
      "           1       0.35      0.87      0.50      2109\n",
      "\n",
      "    accuracy                           0.94     59054\n",
      "   macro avg       0.67      0.90      0.73     59054\n",
      "weighted avg       0.97      0.94      0.95     59054\n",
      "\n",
      "\n",
      "df_scores:\n",
      "\n",
      "      feat_tested   fn    fp  precision    recall  roc_auc_score  \\\n",
      "229          NaN  489   774   0.676692  0.768137       0.877272   \n",
      "230          NaN  516   789   0.668766  0.755334       0.870739   \n",
      "231          NaN  500   742   0.684390  0.762921       0.874945   \n",
      "232          NaN  486   740   0.686839  0.769559       0.878282   \n",
      "0    model score  279  3423   0.348372  0.867710       0.903800   \n",
      "\n",
      "     time_elapsed (min)    tn     tp  \n",
      "229           34.530213  1620  56171  \n",
      "230           13.705623  1593  56156  \n",
      "231           29.944391  1609  56203  \n",
      "232           54.533861  1623  56205  \n",
      "0              6.799756  1830  53522  \n"
     ]
    },
    {
     "data": {
      "image/png": "[encoded data removed]",
      "text/plain": [
       "<Figure size 360x432 with 1 Axes>"
      ]
     },
     "metadata": {
      "needs_background": "light"
     },
     "output_type": "display_data"
    },
    {
     "name": "stdout",
     "output_type": "stream",
     "text": [
      "                        col  feat_rank\n",
      "0   P_emaildomain_gmail.com   4.656434\n",
      "1                  card2_fe   4.243194\n",
      "2                     C1_fe   4.090005\n",
      "3                      M6_T   3.418353\n",
      "4                   V279_fe   2.966773\n",
      "5                card4_visa   2.853815\n",
      "6                   V294_fe   2.354405\n",
      "7                       V13   2.335893\n",
      "8                    C14_fe   2.291513\n",
      "9                     card1   2.290404\n",
      "10            TransactionDT   2.265565\n",
      "11           TransactionAmt   2.207124\n",
      "12                 addr1_fe   2.191637\n",
      "13              card6_debit   2.071744\n",
      "14                       C2   1.992660\n",
      "15              ProductCD_W   1.990797\n",
      "16                      C13   1.951870\n",
      "17                      V96   1.838520\n",
      "18                  V306_fe   1.643107\n",
      "19                      V95   1.443103\n",
      "Fitting model:\n",
      " <catboost.core.CatBoostClassifier object at 0x1a28d46350>\n",
      "<catboost.core.CatBoostClassifier object at 0x1a28d46350>\n"
     ]
    },
    {
     "data": {
      "image/png": "[encoded data removed]",
      "text/plain": [
       "<Figure size 864x288 with 1 Axes>"
      ]
     },
     "metadata": {
      "needs_background": "light"
     },
     "output_type": "display_data"
    },
    {
     "data": {
      "image/png": "[encoded data removed]",
      "text/plain": [
       "<Figure size 864x288 with 1 Axes>"
      ]
     },
     "metadata": {
      "needs_background": "light"
     },
     "output_type": "display_data"
    },
    {
     "name": "stdout",
     "output_type": "stream",
     "text": [
      "Best threshold by cost: 0.05\n",
      "Best threshold by roc auc score: 0.2 \n",
      "\n",
      "threshold results dataframe:\n",
      "     threshold  roc_auc_score  total_cost   fn     fp\n",
      "0        0.05       0.868179      531500   94  12475\n",
      "1        0.10       0.902571      630280  166   6614\n",
      "2        0.15       0.907698      778500  231   4275\n",
      "3        0.20       0.909472      870400  270   3020\n",
      "4        0.25       0.907434      966060  307   2253\n",
      "5        0.30       0.899637     1111740  359   1737\n",
      "6        0.35       0.891901     1242520  405   1376\n",
      "7        0.40       0.888002     1317820  432   1091\n",
      "8        0.45       0.883270     1395020  459    901\n",
      "9        0.50       0.875182     1511840  499    742\n",
      "10       0.55       0.868895     1604880  531    594\n",
      "11       0.60       0.858622     1743900  578    495\n",
      "\n",
      "roc auc score: 0.9094718057290438 \n",
      "\n",
      "              precision    recall  f1-score   support\n",
      "\n",
      "           0       1.00      0.95      0.97     56945\n",
      "           1       0.38      0.87      0.53      2109\n",
      "\n",
      "    accuracy                           0.94     59054\n",
      "   macro avg       0.69      0.91      0.75     59054\n",
      "weighted avg       0.97      0.94      0.95     59054\n",
      "\n",
      "\n",
      "df_scores:\n",
      "\n",
      "      feat_tested   fn    fp  precision    recall  roc_auc_score  \\\n",
      "230          NaN  516   789   0.668766  0.755334       0.870739   \n",
      "231          NaN  500   742   0.684390  0.762921       0.874945   \n",
      "232          NaN  486   740   0.686839  0.769559       0.878282   \n",
      "233  model score  279  3423   0.348372  0.867710       0.903800   \n",
      "0            NaN  270  3020   0.378473  0.871977       0.909472   \n",
      "\n",
      "     time_elapsed (min)    tn     tp  \n",
      "230           13.705623  1593  56156  \n",
      "231           29.944391  1609  56203  \n",
      "232           54.533861  1623  56205  \n",
      "233            6.799756  1830  53522  \n",
      "0             21.499863  1839  53925  \n"
     ]
    },
    {
     "data": {
      "image/png": "[encoded data removed]",
      "text/plain": [
       "<Figure size 360x432 with 1 Axes>"
      ]
     },
     "metadata": {
      "needs_background": "light"
     },
     "output_type": "display_data"
    },
    {
     "name": "stdout",
     "output_type": "stream",
     "text": [
      "                        col  feat_rank\n",
      "0   P_emaildomain_gmail.com   5.728647\n",
      "1                  card2_fe   4.490900\n",
      "2                card4_visa   4.201418\n",
      "3                     C1_fe   3.221476\n",
      "4                     card1   2.923953\n",
      "5             TransactionDT   2.847223\n",
      "6            TransactionAmt   2.772896\n",
      "7                  addr1_fe   2.690843\n",
      "8                      M6_T   2.554771\n",
      "9                   V279_fe   2.553516\n",
      "10                   C14_fe   2.500072\n",
      "11                      C13   2.454294\n",
      "12                      V97   2.281153\n",
      "13                       C2   2.150315\n",
      "14                      V95   1.939679\n",
      "15                  V294_fe   1.902664\n",
      "16                 card6_fe   1.890968\n",
      "17         card4_mastercard   1.890838\n",
      "18             card6_credit   1.791092\n",
      "19                  V306_fe   1.688621\n",
      "Fitting model:\n",
      " <catboost.core.CatBoostClassifier object at 0x1a36aee810>\n",
      "<catboost.core.CatBoostClassifier object at 0x1a36aee810>\n"
     ]
    },
    {
     "data": {
      "image/png": "[encoded data removed]",
      "text/plain": [
       "<Figure size 864x288 with 1 Axes>"
      ]
     },
     "metadata": {
      "needs_background": "light"
     },
     "output_type": "display_data"
    },
    {
     "data": {
      "image/png": "[encoded data removed]",
      "text/plain": [
       "<Figure size 864x288 with 1 Axes>"
      ]
     },
     "metadata": {
      "needs_background": "light"
     },
     "output_type": "display_data"
    },
    {
     "name": "stdout",
     "output_type": "stream",
     "text": [
      "Best threshold by cost: 0.05\n",
      "Best threshold by roc auc score: 0.15 \n",
      "\n",
      "threshold results dataframe:\n",
      "     threshold  roc_auc_score  total_cost   fn     fp\n",
      "0        0.05       0.877908      543780  108  10989\n",
      "1        0.10       0.905820      659780  181   5839\n",
      "2        0.15       0.912089      766040  230   3802\n",
      "3        0.20       0.911570      870540  272   2727\n",
      "4        0.25       0.909103      962260  307   2063\n",
      "5        0.30       0.902052     1091480  353   1624\n",
      "6        0.35       0.896476     1190280  388   1314\n",
      "7        0.40       0.891971     1269420  416   1071\n",
      "8        0.45       0.885570     1367640  450    882\n",
      "9        0.50       0.878238     1472900  486    745\n",
      "10       0.55       0.869466     1596200  528    610\n",
      "11       0.60       0.863320     1684000  558    500\n",
      "\n",
      "roc auc score: 0.912088698631577 \n",
      "\n",
      "              precision    recall  f1-score   support\n",
      "\n",
      "           0       1.00      0.93      0.96     56945\n",
      "           1       0.33      0.89      0.48      2109\n",
      "\n",
      "    accuracy                           0.93     59054\n",
      "   macro avg       0.66      0.91      0.72     59054\n",
      "weighted avg       0.97      0.93      0.95     59054\n",
      "\n",
      "\n",
      "df_scores:\n",
      "\n",
      "      feat_tested   fn    fp  precision    recall  roc_auc_score  \\\n",
      "231          NaN  500   742   0.684390  0.762921       0.874945   \n",
      "232          NaN  486   740   0.686839  0.769559       0.878282   \n",
      "233  model score  279  3423   0.348372  0.867710       0.903800   \n",
      "234          NaN  270  3020   0.378473  0.871977       0.909472   \n",
      "0            NaN  230  3802   0.330752  0.890944       0.912089   \n",
      "\n",
      "     time_elapsed (min)    tn     tp  \n",
      "231           29.944391  1609  56203  \n",
      "232           54.533861  1623  56205  \n",
      "233            6.799756  1830  53522  \n",
      "234           21.499863  1839  53925  \n",
      "0             32.121112  1879  53143  \n"
     ]
    },
    {
     "data": {
      "image/png": "[encoded data removed]",
      "text/plain": [
       "<Figure size 360x432 with 1 Axes>"
      ]
     },
     "metadata": {
      "needs_background": "light"
     },
     "output_type": "display_data"
    },
    {
     "name": "stdout",
     "output_type": "stream",
     "text": [
      "                        col  feat_rank\n",
      "0                  card2_fe   5.011202\n",
      "1             TransactionDT   3.807281\n",
      "2                     C1_fe   3.792985\n",
      "3                     card1   3.700149\n",
      "4            TransactionAmt   3.349901\n",
      "5                  addr1_fe   3.282719\n",
      "6   P_emaildomain_gmail.com   2.965988\n",
      "7                       C13   2.774734\n",
      "8                    C14_fe   2.586358\n",
      "9                        C2   2.439811\n",
      "10                     M6_T   2.399338\n",
      "11               card4_visa   2.203424\n",
      "12                  V306_fe   2.123856\n",
      "13         card4_mastercard   1.909662\n",
      "14                      V75   1.903117\n",
      "15                  V294_fe   1.897588\n",
      "16                 card6_fe   1.722351\n",
      "17              ProductCD_W   1.635572\n",
      "18             card6_credit   1.606335\n",
      "19                    card5   1.583425\n",
      "Fitting model:\n",
      " <catboost.core.CatBoostClassifier object at 0x1a36b383d0>\n",
      "<catboost.core.CatBoostClassifier object at 0x1a36b383d0>\n"
     ]
    },
    {
     "data": {
      "image/png": "[encoded data removed]",
      "text/plain": [
       "<Figure size 864x288 with 1 Axes>"
      ]
     },
     "metadata": {
      "needs_background": "light"
     },
     "output_type": "display_data"
    },
    {
     "data": {
      "image/png": "[encoded data removed]",
      "text/plain": [
       "<Figure size 864x288 with 1 Axes>"
      ]
     },
     "metadata": {
      "needs_background": "light"
     },
     "output_type": "display_data"
    },
    {
     "name": "stdout",
     "output_type": "stream",
     "text": [
      "Best threshold by cost: 0.05\n",
      "Best threshold by roc auc score: 0.15 \n",
      "\n",
      "threshold results dataframe:\n",
      "     threshold  roc_auc_score  total_cost   fn    fp\n",
      "0        0.05       0.890490      542180  119  9259\n",
      "1        0.10       0.906645      719400  206  5070\n",
      "2        0.15       0.908647      847680  260  3384\n",
      "3        0.20       0.908216      934760  295  2488\n",
      "4        0.25       0.905819     1016480  326  1924\n",
      "5        0.30       0.899549     1129160  366  1558\n",
      "6        0.35       0.895273     1210240  395  1262\n",
      "7        0.40       0.891910     1272020  417  1051\n",
      "8        0.45       0.887950     1340080  441   854\n",
      "9        0.50       0.880433     1448220  478   711\n",
      "10       0.55       0.875700     1518040  502   602\n",
      "11       0.60       0.869931     1600060  530   503\n",
      "\n",
      "roc auc score: 0.9086465311936796 \n",
      "\n",
      "              precision    recall  f1-score   support\n",
      "\n",
      "           0       1.00      0.94      0.97     56945\n",
      "           1       0.35      0.88      0.50      2109\n",
      "\n",
      "    accuracy                           0.94     59054\n",
      "   macro avg       0.67      0.91      0.74     59054\n",
      "weighted avg       0.97      0.94      0.95     59054\n",
      "\n",
      "\n",
      "df_scores:\n",
      "\n",
      "      feat_tested   fn    fp  precision    recall  roc_auc_score  \\\n",
      "232          NaN  486   740   0.686839  0.769559       0.878282   \n",
      "233  model score  279  3423   0.348372  0.867710       0.903800   \n",
      "234          NaN  270  3020   0.378473  0.871977       0.909472   \n",
      "235          NaN  230  3802   0.330752  0.890944       0.912089   \n",
      "0            NaN  260  3384   0.353335  0.876719       0.908647   \n",
      "\n",
      "     time_elapsed (min)    tn     tp  \n",
      "232           54.533861  1623  56205  \n",
      "233            6.799756  1830  53522  \n",
      "234           21.499863  1839  53925  \n",
      "235           32.121112  1879  53143  \n",
      "0             57.057349  1849  53561  \n"
     ]
    },
    {
     "data": {
      "image/png": "[encoded data removed]",
      "text/plain": [
       "<Figure size 360x432 with 1 Axes>"
      ]
     },
     "metadata": {
      "needs_background": "light"
     },
     "output_type": "display_data"
    },
    {
     "name": "stdout",
     "output_type": "stream",
     "text": [
      "                        col  feat_rank\n",
      "0                  card2_fe   5.411206\n",
      "1             TransactionDT   4.526731\n",
      "2                     card1   4.330261\n",
      "3            TransactionAmt   4.050926\n",
      "4                  addr1_fe   3.465538\n",
      "5                     C1_fe   3.367102\n",
      "6   P_emaildomain_gmail.com   3.239339\n",
      "7                        C2   3.068802\n",
      "8                    C14_fe   2.821214\n",
      "9               ProductCD_W   2.507686\n",
      "10                      C13   2.498822\n",
      "11         card4_mastercard   2.396469\n",
      "12                     M6_T   2.261945\n",
      "13                 card6_fe   2.232802\n",
      "14                      V95   1.967902\n",
      "15                    card5   1.899028\n",
      "16               card4_visa   1.779313\n",
      "17                      V12   1.549337\n",
      "18                  V306_fe   1.533841\n",
      "19                      D15   1.418375\n",
      "Fitting model:\n",
      " <catboost.core.CatBoostClassifier object at 0x1a39326e90>\n",
      "<catboost.core.CatBoostClassifier object at 0x1a39326e90>\n"
     ]
    },
    {
     "data": {
      "image/png": "[encoded data removed]",
      "text/plain": [
       "<Figure size 864x288 with 1 Axes>"
      ]
     },
     "metadata": {
      "needs_background": "light"
     },
     "output_type": "display_data"
    },
    {
     "data": {
      "image/png": "[encoded data removed]",
      "text/plain": [
       "<Figure size 864x288 with 1 Axes>"
      ]
     },
     "metadata": {
      "needs_background": "light"
     },
     "output_type": "display_data"
    },
    {
     "name": "stdout",
     "output_type": "stream",
     "text": [
      "Best threshold by cost: 0.05\n",
      "Best threshold by roc auc score: 0.15 \n",
      "\n",
      "threshold results dataframe:\n",
      "     threshold  roc_auc_score  total_cost   fn    fp\n",
      "0        0.05       0.898752      577480  141  7724\n",
      "1        0.10       0.909569      744720  219  4386\n",
      "2        0.15       0.909595      865200  268  3060\n",
      "3        0.20       0.907373      963740  306  2287\n",
      "4        0.25       0.903281     1059160  341  1808\n",
      "5        0.30       0.899488     1139140  370  1457\n",
      "6        0.35       0.896089     1205920  394  1196\n",
      "7        0.40       0.892911     1264820  415   991\n",
      "8        0.45       0.886650     1357800  447   840\n",
      "9        0.50       0.882356     1424160  470   708\n",
      "10       0.55       0.876903     1503000  497   600\n",
      "11       0.60       0.871793     1576140  522   507\n",
      "\n",
      "roc auc score: 0.9095947480122423 \n",
      "\n",
      "              precision    recall  f1-score   support\n",
      "\n",
      "           0       1.00      0.95      0.97     56945\n",
      "           1       0.38      0.87      0.53      2109\n",
      "\n",
      "    accuracy                           0.94     59054\n",
      "   macro avg       0.69      0.91      0.75     59054\n",
      "weighted avg       0.97      0.94      0.95     59054\n",
      "\n",
      "\n",
      "df_scores:\n",
      "\n",
      "      feat_tested   fn    fp  precision    recall  roc_auc_score  \\\n",
      "233  model score  279  3423   0.348372  0.867710       0.903800   \n",
      "234          NaN  270  3020   0.378473  0.871977       0.909472   \n",
      "235          NaN  230  3802   0.330752  0.890944       0.912089   \n",
      "236          NaN  260  3384   0.353335  0.876719       0.908647   \n",
      "0            NaN  268  3060   0.375638  0.872926       0.909595   \n",
      "\n",
      "     time_elapsed (min)    tn     tp  \n",
      "233            6.799756  1830  53522  \n",
      "234           21.499863  1839  53925  \n",
      "235           32.121112  1879  53143  \n",
      "236           57.057349  1849  53561  \n",
      "0            115.246066  1841  53885  \n"
     ]
    },
    {
     "data": {
      "image/png": "[encoded data removed]",
      "text/plain": [
       "<Figure size 360x432 with 1 Axes>"
      ]
     },
     "metadata": {
      "needs_background": "light"
     },
     "output_type": "display_data"
    },
    {
     "name": "stdout",
     "output_type": "stream",
     "text": [
      "                        col  feat_rank\n",
      "0                  card2_fe   5.538361\n",
      "1             TransactionDT   5.134947\n",
      "2                     card1   5.099596\n",
      "3            TransactionAmt   4.556743\n",
      "4                  addr1_fe   3.831154\n",
      "5                     C1_fe   3.457373\n",
      "6                    C14_fe   3.047184\n",
      "7   P_emaildomain_gmail.com   2.967048\n",
      "8                       C13   2.813848\n",
      "9                        C2   2.741855\n",
      "10                     M6_T   2.629304\n",
      "11                    card5   2.182030\n",
      "12               card4_visa   1.921240\n",
      "13              ProductCD_W   1.887230\n",
      "14                  V306_fe   1.680758\n",
      "15             card6_credit   1.657129\n",
      "16                  V317_fe   1.656583\n",
      "17                  V279_fe   1.606132\n",
      "18                       C6   1.496205\n",
      "19                      C11   1.418156\n"
     ]
    }
   ],
   "source": [
    "#current, then test with \"missing\" value \n",
    "# max_depth = 10\n",
    "bool_predict_proba = True\n",
    "bool_thres_cost = False\n",
    "max_depth = [9,10,11,12,13]\n",
    "for val in max_depth:\n",
    "    model_current = CatBoostClassifier(random_state=42, max_depth=val, verbose=0)\n",
    "    mod.create_df_score_model(model_current)"
   ]
  },
  {
   "cell_type": "code",
   "execution_count": null,
   "metadata": {},
   "outputs": [],
   "source": [
    "# base CatBoostClassifier\n",
    "bool_predict_proba = True\n",
    "model_current = CatBoostClassifier(\n",
    "                                   iterations=300, \n",
    "                                   bagging_temperature=1e-3, \n",
    "                                   bootstrap_type='Bayesian', \n",
    "                                   boosting_type='Plain',\n",
    "                                   colsample_bylevel=.1, \n",
    "                                   subsample=.4,  \n",
    "                                   max_depth=10,\n",
    "                                   random_state=42, \n",
    "                                   verbose=0)\n",
    "mod.create_df_score_model(model_current)"
   ]
  },
  {
   "cell_type": "code",
   "execution_count": null,
   "metadata": {},
   "outputs": [],
   "source": [
    "# no bagging, baysian\n",
    "\n",
    "model_current = CatBoostClassifier(\n",
    "#                                    bootstrap_type='Bernoulli', R: 0.904748\n",
    "    \n",
    "                                   boosting_type='Plain', #R:0.904748, 5.98min, \n",
    "                                   colsample_bylevel=.3, #keep, reduces training time\n",
    "#                                    subsample=.4, #0.905090 7.49\n",
    "                                   max_depth=10,\n",
    "                                   random_state=42, \n",
    "                                   verbose=0)\n",
    "mod.create_df_score_model(model_current)"
   ]
  },
  {
   "cell_type": "code",
   "execution_count": 34,
   "metadata": {},
   "outputs": [
    {
     "name": "stdout",
     "output_type": "stream",
     "text": [
      "Fitting model:\n",
      " <catboost.core.CatBoostClassifier object at 0x1a2e7cda50>\n",
      "\n",
      "roc auc score: 0.8750507308654367 \n",
      "\n",
      "              precision    recall  f1-score   support\n",
      "\n",
      "           0       0.99      0.99      0.99     56945\n",
      "           1       0.67      0.76      0.72      2109\n",
      "\n",
      "    accuracy                           0.98     59054\n",
      "   macro avg       0.83      0.88      0.85     59054\n",
      "weighted avg       0.98      0.98      0.98     59054\n",
      "\n",
      "\n",
      "df_scores:\n",
      "\n",
      "      feat_tested   fn   fp  precision    recall  roc_auc_score  \\\n",
      "223  model score  500  742   0.684390  0.762921       0.874945   \n",
      "224          NaN  640  971   0.602049  0.696539       0.839744   \n",
      "225          NaN  500  755   0.680626  0.762921       0.874831   \n",
      "226          NaN  489  774   0.676692  0.768137       0.877272   \n",
      "0            NaN  498  784   0.672651  0.763869       0.875051   \n",
      "\n",
      "     time_elapsed (min)    tn     tp  \n",
      "223           46.300068  1609  56203  \n",
      "224            5.697695  1469  55974  \n",
      "225           31.219427  1609  56190  \n",
      "226           33.618625  1620  56171  \n",
      "0             10.905158  1611  56161  \n"
     ]
    },
    {
     "data": {
      "image/png": "[encoded data removed]",
      "text/plain": [
       "<Figure size 360x432 with 1 Axes>"
      ]
     },
     "metadata": {
      "needs_background": "light"
     },
     "output_type": "display_data"
    },
    {
     "name": "stdout",
     "output_type": "stream",
     "text": [
      "                        col  feat_rank\n",
      "0                  card2_fe   4.259901\n",
      "1                     C1_fe   3.640037\n",
      "2                        C2   2.947682\n",
      "3               card6_debit   2.944541\n",
      "4   P_emaildomain_gmail.com   2.768790\n",
      "5             TransactionDT   2.721803\n",
      "6            TransactionAmt   2.642148\n",
      "7                     card1   2.637849\n",
      "8                      M6_T   2.608143\n",
      "9                  addr1_fe   2.514183\n",
      "10                   C14_fe   2.407720\n",
      "11                      C13   2.338259\n",
      "12                     V280   2.253850\n",
      "13               card4_visa   2.191980\n",
      "14         card4_mastercard   2.120391\n",
      "15              ProductCD_W   2.083186\n",
      "16                  V306_fe   1.983042\n",
      "17                     V291   1.675853\n",
      "18                      V12   1.659627\n",
      "19                       C6   1.627289\n"
     ]
    }
   ],
   "source": [
    "# no bagging, baysian\n",
    "\n",
    "model_current = CatBoostClassifier(\n",
    "#                                    bootstrap_type='Bernoulli', R: 0.904748\n",
    "    \n",
    "                                   boosting_type='Plain', #R:0.904748, 5.98min, \n",
    "                                   colsample_bylevel=.4, #keep, reduces training time\n",
    "#                                    subsample=.4, #0.905090 7.49\n",
    "                                   max_depth=10,\n",
    "                                   random_state=42, \n",
    "                                   verbose=0)\n",
    "mod.create_df_score_model(model_current)"
   ]
  },
  {
   "cell_type": "code",
   "execution_count": 35,
   "metadata": {},
   "outputs": [
    {
     "name": "stdout",
     "output_type": "stream",
     "text": [
      "Fitting model:\n",
      " <catboost.core.CatBoostClassifier object at 0x1a2e42e150>\n",
      "\n",
      "roc auc score: 0.8747521805393899 \n",
      "\n",
      "              precision    recall  f1-score   support\n",
      "\n",
      "           0       0.99      0.99      0.99     56945\n",
      "           1       0.68      0.76      0.72      2109\n",
      "\n",
      "    accuracy                           0.98     59054\n",
      "   macro avg       0.83      0.87      0.85     59054\n",
      "weighted avg       0.98      0.98      0.98     59054\n",
      "\n",
      "\n",
      "df_scores:\n",
      "\n",
      "     feat_tested   fn   fp  precision    recall  roc_auc_score  \\\n",
      "224         NaN  640  971   0.602049  0.696539       0.839744   \n",
      "225         NaN  500  755   0.680626  0.762921       0.874831   \n",
      "226         NaN  489  774   0.676692  0.768137       0.877272   \n",
      "227         NaN  498  784   0.672651  0.763869       0.875051   \n",
      "0           NaN  500  764   0.678045  0.762921       0.874752   \n",
      "\n",
      "     time_elapsed (min)    tn     tp  \n",
      "224            5.697695  1469  55974  \n",
      "225           31.219427  1609  56190  \n",
      "226           33.618625  1620  56171  \n",
      "227           10.905158  1611  56161  \n",
      "0             12.217110  1609  56181  \n"
     ]
    },
    {
     "data": {
      "image/png": "[encoded data removed]",
      "text/plain": [
       "<Figure size 360x432 with 1 Axes>"
      ]
     },
     "metadata": {
      "needs_background": "light"
     },
     "output_type": "display_data"
    },
    {
     "name": "stdout",
     "output_type": "stream",
     "text": [
      "                        col  feat_rank\n",
      "0                  card2_fe   4.325616\n",
      "1                     C1_fe   3.992234\n",
      "2              card6_credit   3.944567\n",
      "3                       V95   3.539953\n",
      "4   P_emaildomain_gmail.com   3.394699\n",
      "5             TransactionDT   2.857815\n",
      "6                     card1   2.716591\n",
      "7            TransactionAmt   2.669488\n",
      "8                  addr1_fe   2.553286\n",
      "9                      M6_T   2.548785\n",
      "10                      C13   2.439742\n",
      "11                   C14_fe   2.435040\n",
      "12                      V97   2.151525\n",
      "13                       C2   2.069908\n",
      "14               card4_visa   1.928373\n",
      "15                  V306_fe   1.896566\n",
      "16         card4_mastercard   1.854627\n",
      "17                      C11   1.721101\n",
      "18                      V12   1.508778\n",
      "19                      V53   1.507201\n"
     ]
    }
   ],
   "source": [
    "# no bagging, baysian\n",
    "\n",
    "model_current = CatBoostClassifier(\n",
    "#                                    bootstrap_type='Bernoulli', R: 0.904748\n",
    "    \n",
    "                                   boosting_type='Plain', #R:0.904748, 5.98min, \n",
    "                                   colsample_bylevel=.5, #keep, reduces training time\n",
    "#                                    subsample=.4, #0.905090 7.49\n",
    "                                   max_depth=10,\n",
    "                                   random_state=42, \n",
    "                                   verbose=0)\n",
    "mod.create_df_score_model(model_current)"
   ]
  },
  {
   "cell_type": "code",
   "execution_count": 36,
   "metadata": {},
   "outputs": [
    {
     "name": "stdout",
     "output_type": "stream",
     "text": [
      "Fitting model:\n",
      " <catboost.core.CatBoostClassifier object at 0x1a2e485390>\n",
      "\n",
      "roc auc score: 0.8772722475468892 \n",
      "\n",
      "              precision    recall  f1-score   support\n",
      "\n",
      "           0       0.99      0.99      0.99     56945\n",
      "           1       0.68      0.77      0.72      2109\n",
      "\n",
      "    accuracy                           0.98     59054\n",
      "   macro avg       0.83      0.88      0.85     59054\n",
      "weighted avg       0.98      0.98      0.98     59054\n",
      "\n",
      "\n",
      "df_scores:\n",
      "\n",
      "     feat_tested   fn   fp  precision    recall  roc_auc_score  \\\n",
      "225         NaN  500  755   0.680626  0.762921       0.874831   \n",
      "226         NaN  489  774   0.676692  0.768137       0.877272   \n",
      "227         NaN  498  784   0.672651  0.763869       0.875051   \n",
      "228         NaN  500  764   0.678045  0.762921       0.874752   \n",
      "0           NaN  489  774   0.676692  0.768137       0.877272   \n",
      "\n",
      "     time_elapsed (min)    tn     tp  \n",
      "225           31.219427  1609  56190  \n",
      "226           33.618625  1620  56171  \n",
      "227           10.905158  1611  56161  \n",
      "228           12.217110  1609  56181  \n",
      "0             34.530213  1620  56171  \n"
     ]
    },
    {
     "data": {
      "image/png": "[encoded data removed]",
      "text/plain": [
       "<Figure size 360x432 with 1 Axes>"
      ]
     },
     "metadata": {
      "needs_background": "light"
     },
     "output_type": "display_data"
    },
    {
     "name": "stdout",
     "output_type": "stream",
     "text": [
      "                        col  feat_rank\n",
      "0                  card2_fe   4.721289\n",
      "1   P_emaildomain_gmail.com   3.841173\n",
      "2          card4_mastercard   3.734478\n",
      "3                     C1_fe   3.412337\n",
      "4             TransactionDT   2.991233\n",
      "5                     card1   2.928217\n",
      "6            TransactionAmt   2.734303\n",
      "7                      M6_T   2.672296\n",
      "8                       C13   2.606553\n",
      "9                   V279_fe   2.598352\n",
      "10                   C14_fe   2.570790\n",
      "11              ProductCD_W   2.512355\n",
      "12                 addr1_fe   2.468201\n",
      "13                       C2   2.268566\n",
      "14             card6_credit   2.141023\n",
      "15                  V306_fe   2.132419\n",
      "16                 card6_fe   1.908333\n",
      "17                      V97   1.879282\n",
      "18                     V128   1.683833\n",
      "19                      C11   1.517001\n"
     ]
    }
   ],
   "source": [
    "# no bagging, baysian\n",
    "\n",
    "model_current = CatBoostClassifier(\n",
    "#                                    bootstrap_type='Bernoulli', R: 0.904748\n",
    "    \n",
    "                                   boosting_type='Plain', #R:0.904748, 5.98min, \n",
    "                                   colsample_bylevel=.99, #keep, reduces training time\n",
    "#                                    subsample=.4, #0.905090 7.49\n",
    "                                   max_depth=10,\n",
    "                                   random_state=42, \n",
    "                                   verbose=0)\n",
    "mod.create_df_score_model(model_current)"
   ]
  },
  {
   "cell_type": "code",
   "execution_count": 32,
   "metadata": {},
   "outputs": [
    {
     "name": "stdout",
     "output_type": "stream",
     "text": [
      "Fitting model:\n",
      " <catboost.core.CatBoostClassifier object at 0x1a2e7afad0>\n",
      "\n",
      "roc auc score: 0.8748312041586715 \n",
      "\n",
      "              precision    recall  f1-score   support\n",
      "\n",
      "           0       0.99      0.99      0.99     56945\n",
      "           1       0.68      0.76      0.72      2109\n",
      "\n",
      "    accuracy                           0.98     59054\n",
      "   macro avg       0.84      0.87      0.85     59054\n",
      "weighted avg       0.98      0.98      0.98     59054\n",
      "\n",
      "\n",
      "df_scores:\n",
      "\n",
      "      feat_tested   fn   fp  precision    recall  roc_auc_score  \\\n",
      "221  model score  482  773   0.677917  0.771456       0.878941   \n",
      "222  model score  500  756   0.680338  0.762921       0.874822   \n",
      "223  model score  500  742   0.684390  0.762921       0.874945   \n",
      "224          NaN  640  971   0.602049  0.696539       0.839744   \n",
      "0            NaN  500  755   0.680626  0.762921       0.874831   \n",
      "\n",
      "     time_elapsed (min)    tn     tp  \n",
      "221           26.526832  1627  56172  \n",
      "222           23.418415  1609  56189  \n",
      "223           46.300068  1609  56203  \n",
      "224            5.697695  1469  55974  \n",
      "0             31.219427  1609  56190  \n"
     ]
    },
    {
     "data": {
      "image/png": "[encoded data removed]",
      "text/plain": [
       "<Figure size 360x432 with 1 Axes>"
      ]
     },
     "metadata": {
      "needs_background": "light"
     },
     "output_type": "display_data"
    },
    {
     "name": "stdout",
     "output_type": "stream",
     "text": [
      "                        col  feat_rank\n",
      "0   P_emaildomain_gmail.com   5.162478\n",
      "1                  card2_fe   4.480724\n",
      "2                card4_visa   3.675941\n",
      "3                     C1_fe   3.555260\n",
      "4             TransactionDT   2.993635\n",
      "5               ProductCD_W   2.942631\n",
      "6            TransactionAmt   2.717743\n",
      "7                     card1   2.705408\n",
      "8                  addr1_fe   2.615191\n",
      "9              card6_credit   2.428849\n",
      "10                   C14_fe   2.393734\n",
      "11                     M6_T   2.328132\n",
      "12                      C13   2.307301\n",
      "13                  V306_fe   2.286215\n",
      "14         card4_mastercard   2.096860\n",
      "15                      C11   1.895403\n",
      "16                  V279_fe   1.848713\n",
      "17                       C2   1.780492\n",
      "18                      V95   1.596698\n",
      "19                      V97   1.397030\n"
     ]
    }
   ],
   "source": [
    "# no bagging, baysian\n",
    "\n",
    "model_current = CatBoostClassifier(\n",
    "#                                    bootstrap_type='Bernoulli', R: 0.904748\n",
    "    \n",
    "                                   boosting_type='Plain', #R:0.904748, 5.98min, \n",
    "                                   colsample_bylevel=.9, #keep, reduces training time\n",
    "#                                    subsample=.4, #0.905090 7.49\n",
    "                                   max_depth=10,\n",
    "                                   random_state=42, \n",
    "                                   verbose=0)\n",
    "mod.create_df_score_model(model_current)"
   ]
  },
  {
   "cell_type": "code",
   "execution_count": 31,
   "metadata": {},
   "outputs": [
    {
     "name": "stdout",
     "output_type": "stream",
     "text": [
      "Fitting model:\n",
      " <catboost.core.CatBoostClassifier object at 0x1a2e7e1190>\n",
      "\n",
      "roc auc score: 0.8397435514732444 \n",
      "\n",
      "              precision    recall  f1-score   support\n",
      "\n",
      "           0       0.99      0.98      0.99     56945\n",
      "           1       0.60      0.70      0.65      2109\n",
      "\n",
      "    accuracy                           0.97     59054\n",
      "   macro avg       0.80      0.84      0.82     59054\n",
      "weighted avg       0.97      0.97      0.97     59054\n",
      "\n",
      "\n",
      "df_scores:\n",
      "\n",
      "      feat_tested   fn    fp  precision    recall  roc_auc_score  \\\n",
      "220          NaN  316  4575   0.281564  0.850166       0.884913   \n",
      "221  model score  482   773   0.677917  0.771456       0.878941   \n",
      "222  model score  500   756   0.680338  0.762921       0.874822   \n",
      "223  model score  500   742   0.684390  0.762921       0.874945   \n",
      "0            NaN  640   971   0.602049  0.696539       0.839744   \n",
      "\n",
      "     time_elapsed (min)    tn     tp  \n",
      "220            3.934398  1793  52370  \n",
      "221           26.526832  1627  56172  \n",
      "222           23.418415  1609  56189  \n",
      "223           46.300068  1609  56203  \n",
      "0              5.697695  1469  55974  \n"
     ]
    },
    {
     "data": {
      "image/png": "[encoded data removed]",
      "text/plain": [
       "<Figure size 360x432 with 1 Axes>"
      ]
     },
     "metadata": {
      "needs_background": "light"
     },
     "output_type": "display_data"
    },
    {
     "name": "stdout",
     "output_type": "stream",
     "text": [
      "                        col  feat_rank\n",
      "0                  card6_fe   6.467999\n",
      "1   P_emaildomain_gmail.com   5.839304\n",
      "2                card4_visa   5.356216\n",
      "3                       V97   4.689775\n",
      "4                      M6_T   3.840866\n",
      "5                   V279_fe   3.782978\n",
      "6              card6_credit   3.562657\n",
      "7                   V294_fe   2.853342\n",
      "8                        C8   2.768678\n",
      "9                  card2_fe   2.767283\n",
      "10                    C1_fe   2.735527\n",
      "11                  V306_fe   2.587147\n",
      "12              ProductCD_W   2.398244\n",
      "13                   C14_fe   2.171840\n",
      "14                     V308   1.952102\n",
      "15                      V54   1.848789\n",
      "16                      V53   1.708855\n",
      "17                      C13   1.586240\n",
      "18                     M3_T   1.563645\n",
      "19                       C2   1.546923\n"
     ]
    }
   ],
   "source": [
    "# CatBoostClassifier not tuned\n",
    "model_current = CatBoostClassifier(\n",
    "#                                    bootstrap_type='Bernoulli', R: 0.904748\n",
    "    \n",
    "#                                    boosting_type='Plain', #R:0.904748, 5.98min, \n",
    "#                                    colsample_bylevel=.6, #keep, reduces training time\n",
    "                                   subsample=.4, #0.905090 7.49\n",
    "#                                    max_depth=10,\n",
    "                                   random_state=42, \n",
    "                                   verbose=0)\n",
    "mod.create_df_score_model(model_current)"
   ]
  },
  {
   "cell_type": "code",
   "execution_count": 30,
   "metadata": {},
   "outputs": [
    {
     "name": "stdout",
     "output_type": "stream",
     "text": [
      "Fitting model:\n",
      " <catboost.core.CatBoostClassifier object at 0x1a2ee67bd0>\n",
      "\n",
      "roc auc score: 0.874945349386523 \n",
      "\n",
      "\n",
      "The following new features have been created: ['addr1_fe', 'addr2_fe', 'card2_fe', 'card3_fe', 'C1_fe', 'P_emaildomain_fe', 'card6_fe', 'V294_fe', 'V279_fe', 'C14_fe', 'V306_fe', 'D2_fe', 'D10_fe', 'card5_fe', 'V317_fe', 'V69_fe', 'D1_fe', 'D3_fe', 'D4_fe', 'D11_fe'] \n",
      "\n",
      "              precision    recall  f1-score   support\n",
      "\n",
      "           0       0.99      0.99      0.99     56945\n",
      "           1       0.68      0.76      0.72      2109\n",
      "\n",
      "    accuracy                           0.98     59054\n",
      "   macro avg       0.84      0.87      0.86     59054\n",
      "weighted avg       0.98      0.98      0.98     59054\n",
      "\n",
      "\n",
      "df_scores:\n",
      "\n",
      "      feat_tested   fn    fp  precision    recall  roc_auc_score  \\\n",
      "219          NaN  218  4298   0.305542  0.896633       0.910579   \n",
      "220          NaN  316  4575   0.281564  0.850166       0.884913   \n",
      "221  model score  482   773   0.677917  0.771456       0.878941   \n",
      "222  model score  500   756   0.680338  0.762921       0.874822   \n",
      "0    model score  500   742   0.684390  0.762921       0.874945   \n",
      "\n",
      "     time_elapsed (min)    tn     tp  \n",
      "219           22.220707  1891  52647  \n",
      "220            3.934398  1793  52370  \n",
      "221           26.526832  1627  56172  \n",
      "222           23.418415  1609  56189  \n",
      "0             46.300068  1609  56203  \n"
     ]
    },
    {
     "data": {
      "image/png": "[encoded data removed]",
      "text/plain": [
       "<Figure size 360x432 with 1 Axes>"
      ]
     },
     "metadata": {
      "needs_background": "light"
     },
     "output_type": "display_data"
    },
    {
     "name": "stdout",
     "output_type": "stream",
     "text": [
      "                        col  feat_rank\n",
      "0                  card2_fe   4.546320\n",
      "1   P_emaildomain_gmail.com   4.215045\n",
      "2                     C1_fe   3.840295\n",
      "3             TransactionDT   2.911087\n",
      "4                  card6_fe   2.861849\n",
      "5                card4_visa   2.823394\n",
      "6                     card1   2.807473\n",
      "7                      M6_T   2.747165\n",
      "8            TransactionAmt   2.742178\n",
      "9                   V279_fe   2.644687\n",
      "10                 addr1_fe   2.582000\n",
      "11              ProductCD_W   2.372703\n",
      "12                   C14_fe   2.368735\n",
      "13                      C13   2.203682\n",
      "14                      V97   2.186039\n",
      "15                       C2   1.995372\n",
      "16         card4_mastercard   1.967970\n",
      "17                  V306_fe   1.683405\n",
      "18              card6_debit   1.544301\n",
      "19                      V13   1.543564\n"
     ]
    }
   ],
   "source": [
    "# CatBoostClassifier TUNED\n",
    "model_current = CatBoostClassifier(\n",
    "                                   max_depth=10,\n",
    "                                   random_state=42, \n",
    "                                   verbose=0)\n",
    "mod.create_df_score_model(model_current)\n",
    "\n",
    "# Does plain cut training time?"
   ]
  },
  {
   "cell_type": "code",
   "execution_count": null,
   "metadata": {},
   "outputs": [],
   "source": [
    "# no bagging, baysian\n",
    "\n",
    "model_current = CatBoostClassifier(\n",
    "#                                    bootstrap_type='Bernoulli', R: 0.904748\n",
    "    \n",
    "#                                    boosting_type='Plain', #R:0.904748, 5.98min, \n",
    "                                   colsample_bylevel=.7, #keep, reduces training time\n",
    "#                                    subsample=.4, #0.905090 7.49\n",
    "                                   max_depth=10,\n",
    "                                   random_state=42, \n",
    "                                   verbose=0)\n",
    "mod.create_df_score_model(model_current)"
   ]
  },
  {
   "cell_type": "code",
   "execution_count": null,
   "metadata": {},
   "outputs": [],
   "source": [
    "# no bagging, baysian\n",
    "\n",
    "model_current = CatBoostClassifier(\n",
    "#                                    bootstrap_type='Bernoulli', R: 0.904748\n",
    "    \n",
    "                                   boosting_type='Plain', #R:0.904748, 5.98min, \n",
    "                                   colsample_bylevel=.8, #keep, reduces training time\n",
    "#                                    subsample=.4, #0.905090 7.49\n",
    "                                   max_depth=10,\n",
    "                                   random_state=42, \n",
    "                                   verbose=0)\n",
    "mod.create_df_score_model(model_current)"
   ]
  },
  {
   "cell_type": "markdown",
   "metadata": {},
   "source": [
    "## Model Tuning"
   ]
  },
  {
   "cell_type": "code",
   "execution_count": null,
   "metadata": {
    "scrolled": true
   },
   "outputs": [],
   "source": [
    "### Tuning XGBClassifier READY ###\n",
    "print('tuning xgbc')\n",
    "xgbc = XGBClassifier(n_jobs=-1, random_state=42)\n",
    "\n",
    "max_depth = [2,3,5,7,9,11,13]\n",
    "# learning_rate = [0,.1,.3,.5,.7,.9]\n",
    "booster = ['gbtree', 'gblinear', 'dart']\n",
    "subsample = [.1,.3,.5,.7]\n",
    "colsample_bytree = [.1,.3,.5,.7]\n",
    "colsample_bylevel = [0,.1,.3,.5,.7,.9,1]\n",
    "colsample_bynode = [.1,.3,.5,.7]\n",
    "reg_alpha = [0,1,3,5,7]\n",
    "reg_lambda = [1,3,5,7]\n",
    "scale_pos_weight = [1,3,5,7]\n",
    "base_score = [.1,.2,.3,.4,.5]\n",
    "\n",
    "hyperparameters = dict(max_depth=max_depth, \n",
    "#                        learning_rate=learning_rate, \n",
    "                       booster=booster, \n",
    "                       subsample=subsample, \n",
    "                       colsample_bytree=colsample_bytree, colsample_bylevel=colsample_bylevel, \n",
    "                       colsample_bynode=colsample_bynode, reg_alpha=reg_alpha, reg_lambda=reg_lambda, \n",
    "                       scale_pos_weight=scale_pos_weight,\n",
    "                       base_score=base_score\n",
    "                      )\n",
    "\n",
    "clf = RandomizedSearchCV(xgbc, hyperparameters, random_state=42, cv=10, verbose=10, n_jobs=1, scoring='roc_auc')\n",
    "best_model = clf.fit(mod.X_features, mod.y_target)\n",
    "\n",
    "# best hyper parameters\n",
    "print('Best max_depth:', best_model.best_estimator_.get_params()['max_depth'])\n",
    "print('Best learning_rate:', best_model.best_estimator_.get_params()['learning_rate'])\n",
    "print('Best booster:', best_model.best_estimator_.get_params()['booster'])\n",
    "print('Best subsample:', best_model.best_estimator_.get_params()['subsample'])\n",
    "print('Best colsample_bytree:', best_model.best_estimator_.get_params()['colsample_bytree'])\n",
    "print('Best colsample_bylevel:', best_model.best_estimator_.get_params()['colsample_bylevel'])\n",
    "print('Best colsample_bynode:', best_model.best_estimator_.get_params()['colsample_bynode'])\n",
    "print('Best reg_alpha:', best_model.best_estimator_.get_params()['reg_alpha'])\n",
    "print('Best reg_lambda:', best_model.best_estimator_.get_params()['reg_lambda'])\n",
    "print('Best scale_pos_weight:', best_model.best_estimator_.get_params()['scale_pos_weight'])\n",
    "print('Best base_score:', best_model.best_estimator_.get_params()['base_score'])\n",
    "print(clf.best_estimator_)\n",
    "pd.DataFrame(clf.cv_results_)\n"
   ]
  },
  {
   "cell_type": "code",
   "execution_count": null,
   "metadata": {},
   "outputs": [],
   "source": [
    "print(clf.best_estimator_)\n",
    "pd.DataFrame(clf.cv_results_)"
   ]
  },
  {
   "cell_type": "code",
   "execution_count": null,
   "metadata": {},
   "outputs": [],
   "source": [
    "###### testing manual tuning ######\n",
    "### manual xbgc tuning\n",
    "max_depth = [3,5,7,9,11,13,15]\n",
    "# max_depth = [1,3,5]\n",
    "list_time_elapsed = []\n",
    "list_roc_auc_score = []\n",
    "for val in max_depth:\n",
    "    model_xgbc = XGBClassifier(max_depth=val, n_jobs=-1, random_state=42)\n",
    "    \n",
    "    start_time = time.time()\n",
    "    model_xgbc.fit(mod.X_train_test, mod.y_train)\n",
    "    y_pred_xgbc = model_xgbc.predict(mod.X_test)\n",
    "    elapsed_time = (time.time() - start_time) / 60\n",
    "    \n",
    "    score_roc_auc = roc_auc_score(mod.y_test, y_pred_xgbc)\n",
    "\n",
    "    list_time_elapsed.append(elapsed_time)\n",
    "    list_roc_auc_score.append(score_roc_auc)\n",
    "    print('max depth: ', val)\n",
    "    print(confusion_matrix(mod.y_test, y_pred_xgbc))\n",
    "\n",
    "col_time_elapsed = pd.Series(list_time_elapsed)\n",
    "col_roc_score = pd.Series(list_roc_auc_score)\n",
    "col_max_depth = pd.Series(max_depth)\n",
    "df_results_xgbc = pd.concat([col_max_depth, col_roc_score,col_time_elapsed], \n",
    "                            keys=['max_depth', 'roc_auc_score', 'time_elap'], \n",
    "                            axis=1)\n",
    "print(df_results_xgbc)\n",
    "\n",
    "sns.lineplot(x='max_depth', y='roc_auc_score', data=df_results_xgbc)\n",
    "plt.title(\"XGBC manual tuning\")\n",
    "plt.show()"
   ]
  },
  {
   "cell_type": "code",
   "execution_count": null,
   "metadata": {
    "scrolled": true
   },
   "outputs": [],
   "source": [
    "#### Tuning RandomForestClassifier READY ####\n",
    "rfc = RandomForestClassifier(oob_score=False, n_jobs=1, random_state=42, verbose=1)\n",
    "\n",
    "n_estimators = [50,75,100,125,150,200]\n",
    "criterion = ['gini', 'entropy']\n",
    "max_depth = [3,5,7,9,11,13,15]\n",
    "min_samples_split = [2,3,5,7,9]\n",
    "min_samples_leaf = [1,2,4,6,8,10]\n",
    "min_weight_fraction_leaf = [0,.1,.2,.3,.4,.5]\n",
    "max_features = ['auto', 'sqrt', 'log2', None]\n",
    "max_leaf_nodes = [2,3,5,7,9,None]\n",
    "min_impurity_decrease = [0,.1,.3,.5,.7,.9]\n",
    "\n",
    "hyperparameters = dict(n_estimators=n_estimators, criterion=criterion, max_depth=max_depth, \n",
    "                       min_samples_split=min_samples_split,\n",
    "                       min_samples_leaf=min_samples_leaf, min_weight_fraction_leaf=min_weight_fraction_leaf,\n",
    "                       max_features=max_features, max_leaf_nodes=max_leaf_nodes,\n",
    "                       min_impurity_decrease=min_impurity_decrease\n",
    "                      )\n",
    "\n",
    "clf = RandomizedSearchCV(rfc, hyperparameters, random_state=42, cv=5, verbose=5, n_jobs=1, scoring='roc_auc')\n",
    "best_model = clf.fit(mod.X_features, mod.y_target)\n",
    "\n",
    "# best hyper parameters\n",
    "print('Best n_estimators:', best_model.best_estimator_.get_params()['n_estimators'])\n",
    "print('Best criterion:', best_model.best_estimator_.get_params()['criterion'])\n",
    "print('Best max_depth:', best_model.best_estimator_.get_params()['max_depth'])\n",
    "print('Best min_samples_split:', best_model.best_estimator_.get_params()['min_samples_split'])\n",
    "print('Best min_samples_leaf:', best_model.best_estimator_.get_params()['min_samples_leaf'])\n",
    "print('Best min_weight_fraction_leaf:', best_model.best_estimator_.get_params()['min_weight_fraction_leaf'])\n",
    "print('Best max_features:', best_model.best_estimator_.get_params()['max_features'])\n",
    "print('Best max_leaf_nodes:', best_model.best_estimator_.get_params()['max_leaf_nodes'])\n",
    "print('Best min_impurity_decrease:', best_model.best_estimator_.get_params()['min_impurity_decrease'])\n",
    "print(clf.best_estimator_)\n",
    "pd.DataFrame(clf.cv_results_)\n"
   ]
  },
  {
   "cell_type": "code",
   "execution_count": null,
   "metadata": {
    "scrolled": true
   },
   "outputs": [],
   "source": [
    "#### LR Tuning ####\n",
    "lr = LogisticRegression(random_state=42, n_jobs=-1)\n",
    "\n",
    "penalty = ['l1', 'l2', 'elasticnet','none']\n",
    "tol = [1e-1,1e-2,1e-3,1e-4,1e-5,1e-6,1e-7]\n",
    "C = [1e-1,.2,.3,.5,.7,1]\n",
    "fit_intercept = [True,False]\n",
    "intercept_scaling = [1,.1,.01,.001]\n",
    "class_weight = ['balanced', None]\n",
    "solver = ['newton-cg', 'lbfgs', 'sag']#, 'liblinear','saga']\n",
    "max_iter = [50,75,100,150,200]\n",
    "multi_class = ['auto', 'ovr', 'multinomial']\n",
    "l1_ratio = [1e-1,1e-2,1e-3,1e-4,1e-5,1e-6,1e-7]\n",
    "\n",
    "\n",
    "hyperparameters = dict(penalty=penalty, \n",
    "#                        tol=tol, \n",
    "#                        C=C, \n",
    "#                        fit_intercept=fit_intercept,\n",
    "                       intercept_scaling=intercept_scaling, \n",
    "                       class_weight=class_weight,\n",
    "                       solver=solver, \n",
    "#                        max_iter=max_iter\n",
    "                       multi_class=multi_class, \n",
    "                       l1_ratio=l1_ratio\n",
    "                      )\n",
    "\n",
    "clf = RandomizedSearchCV(lr, hyperparameters, random_state=42, cv=10, verbose=10, n_jobs=1, scoring='roc_auc')\n",
    "best_model = clf.fit(mod.X_features, mod.y_target)\n",
    "# best_model = clf.fit(mod.X_features_test, mod.y_target_test) #testing\n",
    "\n",
    "# best hyper parameters\n",
    "print('Best penalty:', best_model.best_estimator_.get_params()['penalty'])\n",
    "print('Best tol:', best_model.best_estimator_.get_params()['tol'])\n",
    "print('Best C:', best_model.best_estimator_.get_params()['C'])\n",
    "print('Best fit_intercept:', best_model.best_estimator_.get_params()['fit_intercept'])\n",
    "print('Best intercept_scaling:', best_model.best_estimator_.get_params()['intercept_scaling'])\n",
    "print('Best class_weight:', best_model.best_estimator_.get_params()['class_weight'])\n",
    "print('Best solver:', best_model.best_estimator_.get_params()['solver'])\n",
    "print('Best max_iter:', best_model.best_estimator_.get_params()['max_iter'])\n",
    "print('Best multi_class:', best_model.best_estimator_.get_params()['multi_class'])\n",
    "print('Best l1_ratio:', best_model.best_estimator_.get_params()['l1_ratio'])\n",
    "print(clf.best_estimator_)\n",
    "pd.DataFrame(clf.cv_results_)\n"
   ]
  },
  {
   "cell_type": "code",
   "execution_count": null,
   "metadata": {
    "scrolled": true
   },
   "outputs": [],
   "source": [
    "#### Tuning DTC READY ####\n",
    "dt = DecisionTreeClassifier(random_state=42, n_jobs=-1)\n",
    "\n",
    "criterion = ['gini', 'entropy']\n",
    "splitter = ['best', 'random']\n",
    "max_depth = [3,5,7,9,11]\n",
    "min_samples_split = [2,3,5,7,9]\n",
    "min_samples_leaf = [1,3,5,7,9]\n",
    "min_weight_fraction_leaf = [0,.1,.2,.3,.4,.5]\n",
    "max_features = ['auto', 'sqrt', 'log2', None]\n",
    "class_weight = ['balanced', None]\n",
    "\n",
    "hyperparameters = dict(criterion=criterion, splitter=splitter, max_depth=max_depth, \n",
    "                       min_samples_split=min_samples_split, min_samples_leaf=min_samples_leaf, \n",
    "                       min_weight_fraction_leaf=min_weight_fraction_leaf,\n",
    "                       max_features=max_features, class_weight=class_weight\n",
    "                      )\n",
    "\n",
    "clf = RandomizedSearchCV(dt, hyperparameters, random_state=42, cv=10, verbose=10, n_jobs=1, scoring='roc_auc')\n",
    "best_model = clf.fit(mod.X_features, mod.y_target)\n",
    "# best_model = clf.fit(mod.X_features_test, mod.y_target_test) #testing\n",
    " \n",
    "# best hyper parameters\n",
    "print('Best criterion:', best_model.best_estimator_.get_params()['criterion'])\n",
    "print('Best splitter:', best_model.best_estimator_.get_params()['splitter'])\n",
    "print('Best max_depth:', best_model.best_estimator_.get_params()['max_depth'])\n",
    "print('Best min_samples_split:', best_model.best_estimator_.get_params()['min_samples_split'])\n",
    "print('Best min_samples_leaf:', best_model.best_estimator_.get_params()['min_samples_leaf'])\n",
    "print('Best min_weight_fraction_leaf:', best_model.best_estimator_.get_params()['min_weight_fraction_leaf'])\n",
    "print('Best max_features:', best_model.best_estimator_.get_params()['max_features'])\n",
    "print('Best class_weight:', best_model.best_estimator_.get_params()['class_weight'])\n",
    "print(clf.best_estimator_)\n",
    "pd.DataFrame(clf.cv_results_)\n"
   ]
  },
  {
   "cell_type": "code",
   "execution_count": null,
   "metadata": {},
   "outputs": [],
   "source": [
    "### Tuning CatBoost READY ###\n",
    "# Tune learning rate manually.\n",
    "cbc = CatBoostClassifier(random_state=42)\n",
    "\n",
    "max_depth = [2,3,5,7,9,11,13]\n",
    "learning_rate = [.1,.3,.5,.7,.9]\n",
    "# bagging_temperature = []\n",
    "subsample = [1,3,5,7]\n",
    "n_estimators = [50,75,100,150]\n",
    "depth = [2,4,6,8,10]\n",
    "grow_policy = ['SymmetricTree', 'Depthwise', 'Lossguide']\n",
    "\n",
    "\n",
    "hyperparameters = dict(\n",
    "#                         max_depth=max_depth, \n",
    "#                        learning_rate=learning_rate, \n",
    "#                        n_estimators=n_estimators,\n",
    "                       subsample=subsample,\n",
    "#                        depth=depth,\n",
    "                       grow_policy=grow_policy\n",
    "                      )\n",
    "\n",
    "clf = RandomizedSearchCV(cbc, hyperparameters, random_state=42, cv=10, verbose=10, n_jobs=1, scoring='roc_auc')\n",
    "best_model = clf.fit(mod.X_features, mod.y_target)\n",
    "\n",
    "# best hyper parameters\n",
    "print('Best max_depth:', best_model.best_estimator_.get_params()['max_depth'])\n",
    "print('Best learning_rate:', best_model.best_estimator_.get_params()['learning_rate'])\n",
    "print('Best n_estimators:', best_model.best_estimator_.get_params()['n_estimators'])\n",
    "print('Best subsample:', best_model.best_estimator_.get_params()['subsample'])\n",
    "print(clf.best_estimator_)\n",
    "pd.DataFrame(clf.cv_results_)\n",
    "\n"
   ]
  },
  {
   "cell_type": "code",
   "execution_count": null,
   "metadata": {},
   "outputs": [],
   "source": [
    "df_temp_read = pd.read_csv('/Users/krahman/work/fraud_detection/saved_files/df_scores.csv')\n",
    "df_temp_read = df_temp_read.drop('Unnamed: 0', axis=1)\n",
    "# df_temp_read[len(df_temp_read)-40:]\n",
    "df_temp_read"
   ]
  },
  {
   "cell_type": "code",
   "execution_count": null,
   "metadata": {},
   "outputs": [],
   "source": []
  }
 ],
 "metadata": {
  "kernelspec": {
   "display_name": "Python 3",
   "language": "python",
   "name": "python3"
  },
  "language_info": {
   "codemirror_mode": {
    "name": "ipython",
    "version": 3
   },
   "file_extension": ".py",
   "mimetype": "text/x-python",
   "name": "python",
   "nbconvert_exporter": "python",
   "pygments_lexer": "ipython3",
   "version": "3.7.4"
  }
 },
 "nbformat": 4,
 "nbformat_minor": 2
}
