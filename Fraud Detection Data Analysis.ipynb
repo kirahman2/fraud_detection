{
 "cells": [
  {
   "cell_type": "markdown",
   "metadata": {},
   "source": [
    "## Importing Libraries"
   ]
  },
  {
   "cell_type": "code",
   "execution_count": 1,
   "metadata": {},
   "outputs": [],
   "source": [
    "import pandas as pd\n",
    "import seaborn as sns\n",
    "import numpy as np\n",
    "import matplotlib.pyplot as plt\n",
    "import warnings\n",
    "warnings.filterwarnings(\"ignore\")"
   ]
  },
  {
   "cell_type": "markdown",
   "metadata": {},
   "source": [
    "## Loading data"
   ]
  },
  {
   "cell_type": "code",
   "execution_count": 2,
   "metadata": {},
   "outputs": [],
   "source": [
    "train_transaction = pd.read_csv('/Users/krahman/work/fraud_detection/data/train_transaction.csv')\n",
    "train_identity = pd.read_csv('/Users/krahman/work/fraud_detection/data/train_identity.csv')\n",
    "df_raw = train_transaction.merge(train_identity, on='TransactionID', how='left') # merging df\n",
    "df_eda = df_raw.copy()\n",
    "df_train = df_raw.copy()\n",
    "df_features = pd.read_csv('/Users/krahman/work/fraud_detection/saved_files/df_imputed.csv')\n",
    "df_features = df_features.drop('Unnamed: 0', axis=1)"
   ]
  },
  {
   "cell_type": "markdown",
   "metadata": {},
   "source": [
    "## Dataframe Head"
   ]
  },
  {
   "cell_type": "code",
   "execution_count": 3,
   "metadata": {},
   "outputs": [
    {
     "data": {
      "text/html": [
       "<div>\n",
       "<style scoped>\n",
       "    .dataframe tbody tr th:only-of-type {\n",
       "        vertical-align: middle;\n",
       "    }\n",
       "\n",
       "    .dataframe tbody tr th {\n",
       "        vertical-align: top;\n",
       "    }\n",
       "\n",
       "    .dataframe thead th {\n",
       "        text-align: right;\n",
       "    }\n",
       "</style>\n",
       "<table border=\"1\" class=\"dataframe\">\n",
       "  <thead>\n",
       "    <tr style=\"text-align: right;\">\n",
       "      <th></th>\n",
       "      <th>TransactionID</th>\n",
       "      <th>isFraud</th>\n",
       "      <th>TransactionDT</th>\n",
       "      <th>TransactionAmt</th>\n",
       "      <th>ProductCD</th>\n",
       "      <th>card1</th>\n",
       "      <th>card2</th>\n",
       "      <th>card3</th>\n",
       "      <th>card4</th>\n",
       "      <th>card5</th>\n",
       "      <th>...</th>\n",
       "      <th>V330</th>\n",
       "      <th>V331</th>\n",
       "      <th>V332</th>\n",
       "      <th>V333</th>\n",
       "      <th>V334</th>\n",
       "      <th>V335</th>\n",
       "      <th>V336</th>\n",
       "      <th>V337</th>\n",
       "      <th>V338</th>\n",
       "      <th>V339</th>\n",
       "    </tr>\n",
       "  </thead>\n",
       "  <tbody>\n",
       "    <tr>\n",
       "      <td>0</td>\n",
       "      <td>2987000</td>\n",
       "      <td>0</td>\n",
       "      <td>86400</td>\n",
       "      <td>68.5</td>\n",
       "      <td>W</td>\n",
       "      <td>13926</td>\n",
       "      <td>NaN</td>\n",
       "      <td>150.0</td>\n",
       "      <td>discover</td>\n",
       "      <td>142.0</td>\n",
       "      <td>...</td>\n",
       "      <td>NaN</td>\n",
       "      <td>NaN</td>\n",
       "      <td>NaN</td>\n",
       "      <td>NaN</td>\n",
       "      <td>NaN</td>\n",
       "      <td>NaN</td>\n",
       "      <td>NaN</td>\n",
       "      <td>NaN</td>\n",
       "      <td>NaN</td>\n",
       "      <td>NaN</td>\n",
       "    </tr>\n",
       "    <tr>\n",
       "      <td>1</td>\n",
       "      <td>2987001</td>\n",
       "      <td>0</td>\n",
       "      <td>86401</td>\n",
       "      <td>29.0</td>\n",
       "      <td>W</td>\n",
       "      <td>2755</td>\n",
       "      <td>404.0</td>\n",
       "      <td>150.0</td>\n",
       "      <td>mastercard</td>\n",
       "      <td>102.0</td>\n",
       "      <td>...</td>\n",
       "      <td>NaN</td>\n",
       "      <td>NaN</td>\n",
       "      <td>NaN</td>\n",
       "      <td>NaN</td>\n",
       "      <td>NaN</td>\n",
       "      <td>NaN</td>\n",
       "      <td>NaN</td>\n",
       "      <td>NaN</td>\n",
       "      <td>NaN</td>\n",
       "      <td>NaN</td>\n",
       "    </tr>\n",
       "    <tr>\n",
       "      <td>2</td>\n",
       "      <td>2987002</td>\n",
       "      <td>0</td>\n",
       "      <td>86469</td>\n",
       "      <td>59.0</td>\n",
       "      <td>W</td>\n",
       "      <td>4663</td>\n",
       "      <td>490.0</td>\n",
       "      <td>150.0</td>\n",
       "      <td>visa</td>\n",
       "      <td>166.0</td>\n",
       "      <td>...</td>\n",
       "      <td>NaN</td>\n",
       "      <td>NaN</td>\n",
       "      <td>NaN</td>\n",
       "      <td>NaN</td>\n",
       "      <td>NaN</td>\n",
       "      <td>NaN</td>\n",
       "      <td>NaN</td>\n",
       "      <td>NaN</td>\n",
       "      <td>NaN</td>\n",
       "      <td>NaN</td>\n",
       "    </tr>\n",
       "    <tr>\n",
       "      <td>3</td>\n",
       "      <td>2987003</td>\n",
       "      <td>0</td>\n",
       "      <td>86499</td>\n",
       "      <td>50.0</td>\n",
       "      <td>W</td>\n",
       "      <td>18132</td>\n",
       "      <td>567.0</td>\n",
       "      <td>150.0</td>\n",
       "      <td>mastercard</td>\n",
       "      <td>117.0</td>\n",
       "      <td>...</td>\n",
       "      <td>NaN</td>\n",
       "      <td>NaN</td>\n",
       "      <td>NaN</td>\n",
       "      <td>NaN</td>\n",
       "      <td>NaN</td>\n",
       "      <td>NaN</td>\n",
       "      <td>NaN</td>\n",
       "      <td>NaN</td>\n",
       "      <td>NaN</td>\n",
       "      <td>NaN</td>\n",
       "    </tr>\n",
       "    <tr>\n",
       "      <td>4</td>\n",
       "      <td>2987004</td>\n",
       "      <td>0</td>\n",
       "      <td>86506</td>\n",
       "      <td>50.0</td>\n",
       "      <td>H</td>\n",
       "      <td>4497</td>\n",
       "      <td>514.0</td>\n",
       "      <td>150.0</td>\n",
       "      <td>mastercard</td>\n",
       "      <td>102.0</td>\n",
       "      <td>...</td>\n",
       "      <td>0.0</td>\n",
       "      <td>0.0</td>\n",
       "      <td>0.0</td>\n",
       "      <td>0.0</td>\n",
       "      <td>0.0</td>\n",
       "      <td>0.0</td>\n",
       "      <td>0.0</td>\n",
       "      <td>0.0</td>\n",
       "      <td>0.0</td>\n",
       "      <td>0.0</td>\n",
       "    </tr>\n",
       "  </tbody>\n",
       "</table>\n",
       "<p>5 rows × 394 columns</p>\n",
       "</div>"
      ],
      "text/plain": [
       "   TransactionID  isFraud  TransactionDT  TransactionAmt ProductCD  card1  \\\n",
       "0        2987000        0          86400            68.5         W  13926   \n",
       "1        2987001        0          86401            29.0         W   2755   \n",
       "2        2987002        0          86469            59.0         W   4663   \n",
       "3        2987003        0          86499            50.0         W  18132   \n",
       "4        2987004        0          86506            50.0         H   4497   \n",
       "\n",
       "   card2  card3       card4  card5  ... V330  V331  V332  V333  V334 V335  \\\n",
       "0    NaN  150.0    discover  142.0  ...  NaN   NaN   NaN   NaN   NaN  NaN   \n",
       "1  404.0  150.0  mastercard  102.0  ...  NaN   NaN   NaN   NaN   NaN  NaN   \n",
       "2  490.0  150.0        visa  166.0  ...  NaN   NaN   NaN   NaN   NaN  NaN   \n",
       "3  567.0  150.0  mastercard  117.0  ...  NaN   NaN   NaN   NaN   NaN  NaN   \n",
       "4  514.0  150.0  mastercard  102.0  ...  0.0   0.0   0.0   0.0   0.0  0.0   \n",
       "\n",
       "  V336  V337  V338  V339  \n",
       "0  NaN   NaN   NaN   NaN  \n",
       "1  NaN   NaN   NaN   NaN  \n",
       "2  NaN   NaN   NaN   NaN  \n",
       "3  NaN   NaN   NaN   NaN  \n",
       "4  0.0   0.0   0.0   0.0  \n",
       "\n",
       "[5 rows x 394 columns]"
      ]
     },
     "execution_count": 3,
     "metadata": {},
     "output_type": "execute_result"
    }
   ],
   "source": [
    "train_transaction.head()"
   ]
  },
  {
   "cell_type": "code",
   "execution_count": 4,
   "metadata": {},
   "outputs": [
    {
     "data": {
      "text/html": [
       "<div>\n",
       "<style scoped>\n",
       "    .dataframe tbody tr th:only-of-type {\n",
       "        vertical-align: middle;\n",
       "    }\n",
       "\n",
       "    .dataframe tbody tr th {\n",
       "        vertical-align: top;\n",
       "    }\n",
       "\n",
       "    .dataframe thead th {\n",
       "        text-align: right;\n",
       "    }\n",
       "</style>\n",
       "<table border=\"1\" class=\"dataframe\">\n",
       "  <thead>\n",
       "    <tr style=\"text-align: right;\">\n",
       "      <th></th>\n",
       "      <th>TransactionID</th>\n",
       "      <th>id_01</th>\n",
       "      <th>id_02</th>\n",
       "      <th>id_03</th>\n",
       "      <th>id_04</th>\n",
       "      <th>id_05</th>\n",
       "      <th>id_06</th>\n",
       "      <th>id_07</th>\n",
       "      <th>id_08</th>\n",
       "      <th>id_09</th>\n",
       "      <th>...</th>\n",
       "      <th>id_31</th>\n",
       "      <th>id_32</th>\n",
       "      <th>id_33</th>\n",
       "      <th>id_34</th>\n",
       "      <th>id_35</th>\n",
       "      <th>id_36</th>\n",
       "      <th>id_37</th>\n",
       "      <th>id_38</th>\n",
       "      <th>DeviceType</th>\n",
       "      <th>DeviceInfo</th>\n",
       "    </tr>\n",
       "  </thead>\n",
       "  <tbody>\n",
       "    <tr>\n",
       "      <td>0</td>\n",
       "      <td>2987004</td>\n",
       "      <td>0.0</td>\n",
       "      <td>70787.0</td>\n",
       "      <td>NaN</td>\n",
       "      <td>NaN</td>\n",
       "      <td>NaN</td>\n",
       "      <td>NaN</td>\n",
       "      <td>NaN</td>\n",
       "      <td>NaN</td>\n",
       "      <td>NaN</td>\n",
       "      <td>...</td>\n",
       "      <td>samsung browser 6.2</td>\n",
       "      <td>32.0</td>\n",
       "      <td>2220x1080</td>\n",
       "      <td>match_status:2</td>\n",
       "      <td>T</td>\n",
       "      <td>F</td>\n",
       "      <td>T</td>\n",
       "      <td>T</td>\n",
       "      <td>mobile</td>\n",
       "      <td>SAMSUNG SM-G892A Build/NRD90M</td>\n",
       "    </tr>\n",
       "    <tr>\n",
       "      <td>1</td>\n",
       "      <td>2987008</td>\n",
       "      <td>-5.0</td>\n",
       "      <td>98945.0</td>\n",
       "      <td>NaN</td>\n",
       "      <td>NaN</td>\n",
       "      <td>0.0</td>\n",
       "      <td>-5.0</td>\n",
       "      <td>NaN</td>\n",
       "      <td>NaN</td>\n",
       "      <td>NaN</td>\n",
       "      <td>...</td>\n",
       "      <td>mobile safari 11.0</td>\n",
       "      <td>32.0</td>\n",
       "      <td>1334x750</td>\n",
       "      <td>match_status:1</td>\n",
       "      <td>T</td>\n",
       "      <td>F</td>\n",
       "      <td>F</td>\n",
       "      <td>T</td>\n",
       "      <td>mobile</td>\n",
       "      <td>iOS Device</td>\n",
       "    </tr>\n",
       "    <tr>\n",
       "      <td>2</td>\n",
       "      <td>2987010</td>\n",
       "      <td>-5.0</td>\n",
       "      <td>191631.0</td>\n",
       "      <td>0.0</td>\n",
       "      <td>0.0</td>\n",
       "      <td>0.0</td>\n",
       "      <td>0.0</td>\n",
       "      <td>NaN</td>\n",
       "      <td>NaN</td>\n",
       "      <td>0.0</td>\n",
       "      <td>...</td>\n",
       "      <td>chrome 62.0</td>\n",
       "      <td>NaN</td>\n",
       "      <td>NaN</td>\n",
       "      <td>NaN</td>\n",
       "      <td>F</td>\n",
       "      <td>F</td>\n",
       "      <td>T</td>\n",
       "      <td>T</td>\n",
       "      <td>desktop</td>\n",
       "      <td>Windows</td>\n",
       "    </tr>\n",
       "    <tr>\n",
       "      <td>3</td>\n",
       "      <td>2987011</td>\n",
       "      <td>-5.0</td>\n",
       "      <td>221832.0</td>\n",
       "      <td>NaN</td>\n",
       "      <td>NaN</td>\n",
       "      <td>0.0</td>\n",
       "      <td>-6.0</td>\n",
       "      <td>NaN</td>\n",
       "      <td>NaN</td>\n",
       "      <td>NaN</td>\n",
       "      <td>...</td>\n",
       "      <td>chrome 62.0</td>\n",
       "      <td>NaN</td>\n",
       "      <td>NaN</td>\n",
       "      <td>NaN</td>\n",
       "      <td>F</td>\n",
       "      <td>F</td>\n",
       "      <td>T</td>\n",
       "      <td>T</td>\n",
       "      <td>desktop</td>\n",
       "      <td>NaN</td>\n",
       "    </tr>\n",
       "    <tr>\n",
       "      <td>4</td>\n",
       "      <td>2987016</td>\n",
       "      <td>0.0</td>\n",
       "      <td>7460.0</td>\n",
       "      <td>0.0</td>\n",
       "      <td>0.0</td>\n",
       "      <td>1.0</td>\n",
       "      <td>0.0</td>\n",
       "      <td>NaN</td>\n",
       "      <td>NaN</td>\n",
       "      <td>0.0</td>\n",
       "      <td>...</td>\n",
       "      <td>chrome 62.0</td>\n",
       "      <td>24.0</td>\n",
       "      <td>1280x800</td>\n",
       "      <td>match_status:2</td>\n",
       "      <td>T</td>\n",
       "      <td>F</td>\n",
       "      <td>T</td>\n",
       "      <td>T</td>\n",
       "      <td>desktop</td>\n",
       "      <td>MacOS</td>\n",
       "    </tr>\n",
       "  </tbody>\n",
       "</table>\n",
       "<p>5 rows × 41 columns</p>\n",
       "</div>"
      ],
      "text/plain": [
       "   TransactionID  id_01     id_02  id_03  id_04  id_05  id_06  id_07  id_08  \\\n",
       "0        2987004    0.0   70787.0    NaN    NaN    NaN    NaN    NaN    NaN   \n",
       "1        2987008   -5.0   98945.0    NaN    NaN    0.0   -5.0    NaN    NaN   \n",
       "2        2987010   -5.0  191631.0    0.0    0.0    0.0    0.0    NaN    NaN   \n",
       "3        2987011   -5.0  221832.0    NaN    NaN    0.0   -6.0    NaN    NaN   \n",
       "4        2987016    0.0    7460.0    0.0    0.0    1.0    0.0    NaN    NaN   \n",
       "\n",
       "   id_09  ...                id_31  id_32      id_33           id_34  id_35  \\\n",
       "0    NaN  ...  samsung browser 6.2   32.0  2220x1080  match_status:2      T   \n",
       "1    NaN  ...   mobile safari 11.0   32.0   1334x750  match_status:1      T   \n",
       "2    0.0  ...          chrome 62.0    NaN        NaN             NaN      F   \n",
       "3    NaN  ...          chrome 62.0    NaN        NaN             NaN      F   \n",
       "4    0.0  ...          chrome 62.0   24.0   1280x800  match_status:2      T   \n",
       "\n",
       "  id_36 id_37  id_38  DeviceType                     DeviceInfo  \n",
       "0     F     T      T      mobile  SAMSUNG SM-G892A Build/NRD90M  \n",
       "1     F     F      T      mobile                     iOS Device  \n",
       "2     F     T      T     desktop                        Windows  \n",
       "3     F     T      T     desktop                            NaN  \n",
       "4     F     T      T     desktop                          MacOS  \n",
       "\n",
       "[5 rows x 41 columns]"
      ]
     },
     "execution_count": 4,
     "metadata": {},
     "output_type": "execute_result"
    }
   ],
   "source": [
    "train_identity.head()"
   ]
  },
  {
   "cell_type": "markdown",
   "metadata": {},
   "source": [
    "## Dataframe Info"
   ]
  },
  {
   "cell_type": "code",
   "execution_count": 5,
   "metadata": {},
   "outputs": [
    {
     "name": "stdout",
     "output_type": "stream",
     "text": [
      "<class 'pandas.core.frame.DataFrame'>\n",
      "RangeIndex: 590540 entries, 0 to 590539\n",
      "Columns: 394 entries, TransactionID to V339\n",
      "dtypes: float64(376), int64(4), object(14)\n",
      "memory usage: 1.7+ GB\n"
     ]
    }
   ],
   "source": [
    "train_transaction.info();"
   ]
  },
  {
   "cell_type": "code",
   "execution_count": 6,
   "metadata": {},
   "outputs": [
    {
     "name": "stdout",
     "output_type": "stream",
     "text": [
      "<class 'pandas.core.frame.DataFrame'>\n",
      "RangeIndex: 144233 entries, 0 to 144232\n",
      "Data columns (total 41 columns):\n",
      "TransactionID    144233 non-null int64\n",
      "id_01            144233 non-null float64\n",
      "id_02            140872 non-null float64\n",
      "id_03            66324 non-null float64\n",
      "id_04            66324 non-null float64\n",
      "id_05            136865 non-null float64\n",
      "id_06            136865 non-null float64\n",
      "id_07            5155 non-null float64\n",
      "id_08            5155 non-null float64\n",
      "id_09            74926 non-null float64\n",
      "id_10            74926 non-null float64\n",
      "id_11            140978 non-null float64\n",
      "id_12            144233 non-null object\n",
      "id_13            127320 non-null float64\n",
      "id_14            80044 non-null float64\n",
      "id_15            140985 non-null object\n",
      "id_16            129340 non-null object\n",
      "id_17            139369 non-null float64\n",
      "id_18            45113 non-null float64\n",
      "id_19            139318 non-null float64\n",
      "id_20            139261 non-null float64\n",
      "id_21            5159 non-null float64\n",
      "id_22            5169 non-null float64\n",
      "id_23            5169 non-null object\n",
      "id_24            4747 non-null float64\n",
      "id_25            5132 non-null float64\n",
      "id_26            5163 non-null float64\n",
      "id_27            5169 non-null object\n",
      "id_28            140978 non-null object\n",
      "id_29            140978 non-null object\n",
      "id_30            77565 non-null object\n",
      "id_31            140282 non-null object\n",
      "id_32            77586 non-null float64\n",
      "id_33            73289 non-null object\n",
      "id_34            77805 non-null object\n",
      "id_35            140985 non-null object\n",
      "id_36            140985 non-null object\n",
      "id_37            140985 non-null object\n",
      "id_38            140985 non-null object\n",
      "DeviceType       140810 non-null object\n",
      "DeviceInfo       118666 non-null object\n",
      "dtypes: float64(23), int64(1), object(17)\n",
      "memory usage: 45.1+ MB\n"
     ]
    }
   ],
   "source": [
    "train_identity.info();"
   ]
  },
  {
   "cell_type": "markdown",
   "metadata": {},
   "source": [
    "## Data Quality Check"
   ]
  },
  {
   "cell_type": "code",
   "execution_count": 7,
   "metadata": {},
   "outputs": [],
   "source": [
    "target = 'isFraud'\n",
    "col_id = 'TransactionID'\n",
    "df_feat = df_eda.drop([col_id, target], axis=1)"
   ]
  },
  {
   "cell_type": "code",
   "execution_count": 8,
   "metadata": {
    "scrolled": true
   },
   "outputs": [
    {
     "name": "stdout",
     "output_type": "stream",
     "text": [
      "Total number of records: 590540\n",
      "Total number of duplicate records: 0\n",
      "Total number of features: 432\n",
      "Percentage of Fraudulent Transactions: 3.499 %\n",
      "Percentage of Non-Fraudulent Transactions: 96.501 %\n",
      "Total number of columns with null values: 414\n",
      "Total number of columns with more than 50% missing data: 214\n"
     ]
    }
   ],
   "source": [
    "# How many transactions are in the dataset?\n",
    "len_df = df_eda.shape[0]\n",
    "print(\"Total number of records:\", len_df)\n",
    "\n",
    "# How many duplicate records are in the dataset. \n",
    "val_duplicate_records = np.sum(df_eda[col_id].duplicated())\n",
    "print('Total number of duplicate records:', val_duplicate_records)\n",
    "\n",
    "# How many features are in the dataset?\n",
    "total_features = df_feat.shape[1]\n",
    "print('Total number of features:', total_features)\n",
    "\n",
    "# What is the fraud rate of the data set?\n",
    "fraud_rate = df_eda[target].value_counts() / df_eda.shape[0]\n",
    "val_perc_fraud = round(fraud_rate[1]*100, 3)\n",
    "val_perc_not_fraud = round(fraud_rate[0]*100, 3)\n",
    "print(\"Percentage of Fraudulent Transactions:\", val_perc_fraud, \"%\")\n",
    "print(\"Percentage of Non-Fraudulent Transactions:\", val_perc_not_fraud, \"%\")\n",
    "\n",
    "# How many columns have null values?\n",
    "df_null = df_feat.isnull().any().value_counts()\n",
    "val_total_null = df_null[1]\n",
    "print(\"Total number of columns with null values:\", val_total_null)\n",
    "\n",
    "# How many columns have more than 50% missing data?\n",
    "df_null_total = np.sum(df_feat.isnull())\n",
    "total_null_50_perc = df_null_total[df_null_total > (len_df*.5)].shape[0]\n",
    "print(\"Total number of columns with more than 50% missing data:\", total_null_50_perc)"
   ]
  },
  {
   "cell_type": "code",
   "execution_count": 9,
   "metadata": {},
   "outputs": [
    {
     "name": "stdout",
     "output_type": "stream",
     "text": [
      "Dataframe info:\n",
      "<class 'pandas.core.frame.DataFrame'>\n",
      "Int64Index: 590540 entries, 0 to 590539\n",
      "Columns: 434 entries, TransactionID to DeviceInfo\n",
      "dtypes: float64(399), int64(4), object(31)\n",
      "memory usage: 1.9+ GB\n",
      "None\n"
     ]
    }
   ],
   "source": [
    "print(\"Dataframe info:\")\n",
    "print(df_eda.info())"
   ]
  },
  {
   "cell_type": "code",
   "execution_count": 10,
   "metadata": {},
   "outputs": [
    {
     "name": "stdout",
     "output_type": "stream",
     "text": [
      "Column data types:\n",
      "TransactionID       int64\n",
      "isFraud             int64\n",
      "TransactionDT       int64\n",
      "TransactionAmt    float64\n",
      "ProductCD          object\n",
      "                   ...   \n",
      "id_36              object\n",
      "id_37              object\n",
      "id_38              object\n",
      "DeviceType         object\n",
      "DeviceInfo         object\n",
      "Length: 434, dtype: object\n"
     ]
    }
   ],
   "source": [
    "print(\"Column data types:\")\n",
    "print(df_eda.dtypes)"
   ]
  },
  {
   "cell_type": "markdown",
   "metadata": {},
   "source": [
    "## General Statistics of Dataset"
   ]
  },
  {
   "cell_type": "code",
   "execution_count": 11,
   "metadata": {},
   "outputs": [
    {
     "data": {
      "text/html": [
       "<div>\n",
       "<style scoped>\n",
       "    .dataframe tbody tr th:only-of-type {\n",
       "        vertical-align: middle;\n",
       "    }\n",
       "\n",
       "    .dataframe tbody tr th {\n",
       "        vertical-align: top;\n",
       "    }\n",
       "\n",
       "    .dataframe thead th {\n",
       "        text-align: right;\n",
       "    }\n",
       "</style>\n",
       "<table border=\"1\" class=\"dataframe\">\n",
       "  <thead>\n",
       "    <tr style=\"text-align: right;\">\n",
       "      <th></th>\n",
       "      <th>TransactionID</th>\n",
       "      <th>isFraud</th>\n",
       "      <th>TransactionDT</th>\n",
       "      <th>TransactionAmt</th>\n",
       "      <th>card1</th>\n",
       "      <th>card2</th>\n",
       "      <th>card3</th>\n",
       "      <th>card5</th>\n",
       "      <th>addr1</th>\n",
       "      <th>addr2</th>\n",
       "      <th>...</th>\n",
       "      <th>id_17</th>\n",
       "      <th>id_18</th>\n",
       "      <th>id_19</th>\n",
       "      <th>id_20</th>\n",
       "      <th>id_21</th>\n",
       "      <th>id_22</th>\n",
       "      <th>id_24</th>\n",
       "      <th>id_25</th>\n",
       "      <th>id_26</th>\n",
       "      <th>id_32</th>\n",
       "    </tr>\n",
       "  </thead>\n",
       "  <tbody>\n",
       "    <tr>\n",
       "      <td>count</td>\n",
       "      <td>5.905400e+05</td>\n",
       "      <td>590540.000000</td>\n",
       "      <td>5.905400e+05</td>\n",
       "      <td>590540.000000</td>\n",
       "      <td>590540.000000</td>\n",
       "      <td>581607.000000</td>\n",
       "      <td>588975.000000</td>\n",
       "      <td>586281.000000</td>\n",
       "      <td>524834.000000</td>\n",
       "      <td>524834.000000</td>\n",
       "      <td>...</td>\n",
       "      <td>139369.000000</td>\n",
       "      <td>45113.000000</td>\n",
       "      <td>139318.000000</td>\n",
       "      <td>139261.000000</td>\n",
       "      <td>5159.000000</td>\n",
       "      <td>5169.000000</td>\n",
       "      <td>4747.000000</td>\n",
       "      <td>5132.000000</td>\n",
       "      <td>5163.000000</td>\n",
       "      <td>77586.000000</td>\n",
       "    </tr>\n",
       "    <tr>\n",
       "      <td>mean</td>\n",
       "      <td>3.282270e+06</td>\n",
       "      <td>0.034990</td>\n",
       "      <td>7.372311e+06</td>\n",
       "      <td>135.027176</td>\n",
       "      <td>9898.734658</td>\n",
       "      <td>362.555488</td>\n",
       "      <td>153.194925</td>\n",
       "      <td>199.278897</td>\n",
       "      <td>290.733794</td>\n",
       "      <td>86.800630</td>\n",
       "      <td>...</td>\n",
       "      <td>189.451377</td>\n",
       "      <td>14.237337</td>\n",
       "      <td>353.128174</td>\n",
       "      <td>403.882666</td>\n",
       "      <td>368.269820</td>\n",
       "      <td>16.002708</td>\n",
       "      <td>12.800927</td>\n",
       "      <td>329.608924</td>\n",
       "      <td>149.070308</td>\n",
       "      <td>26.508597</td>\n",
       "    </tr>\n",
       "    <tr>\n",
       "      <td>std</td>\n",
       "      <td>1.704744e+05</td>\n",
       "      <td>0.183755</td>\n",
       "      <td>4.617224e+06</td>\n",
       "      <td>239.162522</td>\n",
       "      <td>4901.170153</td>\n",
       "      <td>157.793246</td>\n",
       "      <td>11.336444</td>\n",
       "      <td>41.244453</td>\n",
       "      <td>101.741072</td>\n",
       "      <td>2.690623</td>\n",
       "      <td>...</td>\n",
       "      <td>30.375360</td>\n",
       "      <td>1.561302</td>\n",
       "      <td>141.095343</td>\n",
       "      <td>152.160327</td>\n",
       "      <td>198.847038</td>\n",
       "      <td>6.897665</td>\n",
       "      <td>2.372447</td>\n",
       "      <td>97.461089</td>\n",
       "      <td>32.101995</td>\n",
       "      <td>3.737502</td>\n",
       "    </tr>\n",
       "    <tr>\n",
       "      <td>min</td>\n",
       "      <td>2.987000e+06</td>\n",
       "      <td>0.000000</td>\n",
       "      <td>8.640000e+04</td>\n",
       "      <td>0.251000</td>\n",
       "      <td>1000.000000</td>\n",
       "      <td>100.000000</td>\n",
       "      <td>100.000000</td>\n",
       "      <td>100.000000</td>\n",
       "      <td>100.000000</td>\n",
       "      <td>10.000000</td>\n",
       "      <td>...</td>\n",
       "      <td>100.000000</td>\n",
       "      <td>10.000000</td>\n",
       "      <td>100.000000</td>\n",
       "      <td>100.000000</td>\n",
       "      <td>100.000000</td>\n",
       "      <td>10.000000</td>\n",
       "      <td>11.000000</td>\n",
       "      <td>100.000000</td>\n",
       "      <td>100.000000</td>\n",
       "      <td>0.000000</td>\n",
       "    </tr>\n",
       "    <tr>\n",
       "      <td>25%</td>\n",
       "      <td>3.134635e+06</td>\n",
       "      <td>0.000000</td>\n",
       "      <td>3.027058e+06</td>\n",
       "      <td>43.321000</td>\n",
       "      <td>6019.000000</td>\n",
       "      <td>214.000000</td>\n",
       "      <td>150.000000</td>\n",
       "      <td>166.000000</td>\n",
       "      <td>204.000000</td>\n",
       "      <td>87.000000</td>\n",
       "      <td>...</td>\n",
       "      <td>166.000000</td>\n",
       "      <td>13.000000</td>\n",
       "      <td>266.000000</td>\n",
       "      <td>256.000000</td>\n",
       "      <td>252.000000</td>\n",
       "      <td>14.000000</td>\n",
       "      <td>11.000000</td>\n",
       "      <td>321.000000</td>\n",
       "      <td>119.000000</td>\n",
       "      <td>24.000000</td>\n",
       "    </tr>\n",
       "    <tr>\n",
       "      <td>50%</td>\n",
       "      <td>3.282270e+06</td>\n",
       "      <td>0.000000</td>\n",
       "      <td>7.306528e+06</td>\n",
       "      <td>68.769000</td>\n",
       "      <td>9678.000000</td>\n",
       "      <td>361.000000</td>\n",
       "      <td>150.000000</td>\n",
       "      <td>226.000000</td>\n",
       "      <td>299.000000</td>\n",
       "      <td>87.000000</td>\n",
       "      <td>...</td>\n",
       "      <td>166.000000</td>\n",
       "      <td>15.000000</td>\n",
       "      <td>341.000000</td>\n",
       "      <td>472.000000</td>\n",
       "      <td>252.000000</td>\n",
       "      <td>14.000000</td>\n",
       "      <td>11.000000</td>\n",
       "      <td>321.000000</td>\n",
       "      <td>149.000000</td>\n",
       "      <td>24.000000</td>\n",
       "    </tr>\n",
       "    <tr>\n",
       "      <td>75%</td>\n",
       "      <td>3.429904e+06</td>\n",
       "      <td>0.000000</td>\n",
       "      <td>1.124662e+07</td>\n",
       "      <td>125.000000</td>\n",
       "      <td>14184.000000</td>\n",
       "      <td>512.000000</td>\n",
       "      <td>150.000000</td>\n",
       "      <td>226.000000</td>\n",
       "      <td>330.000000</td>\n",
       "      <td>87.000000</td>\n",
       "      <td>...</td>\n",
       "      <td>225.000000</td>\n",
       "      <td>15.000000</td>\n",
       "      <td>427.000000</td>\n",
       "      <td>533.000000</td>\n",
       "      <td>486.500000</td>\n",
       "      <td>14.000000</td>\n",
       "      <td>15.000000</td>\n",
       "      <td>371.000000</td>\n",
       "      <td>169.000000</td>\n",
       "      <td>32.000000</td>\n",
       "    </tr>\n",
       "    <tr>\n",
       "      <td>max</td>\n",
       "      <td>3.577539e+06</td>\n",
       "      <td>1.000000</td>\n",
       "      <td>1.581113e+07</td>\n",
       "      <td>31937.391000</td>\n",
       "      <td>18396.000000</td>\n",
       "      <td>600.000000</td>\n",
       "      <td>231.000000</td>\n",
       "      <td>237.000000</td>\n",
       "      <td>540.000000</td>\n",
       "      <td>102.000000</td>\n",
       "      <td>...</td>\n",
       "      <td>229.000000</td>\n",
       "      <td>29.000000</td>\n",
       "      <td>671.000000</td>\n",
       "      <td>661.000000</td>\n",
       "      <td>854.000000</td>\n",
       "      <td>44.000000</td>\n",
       "      <td>26.000000</td>\n",
       "      <td>548.000000</td>\n",
       "      <td>216.000000</td>\n",
       "      <td>32.000000</td>\n",
       "    </tr>\n",
       "  </tbody>\n",
       "</table>\n",
       "<p>8 rows × 403 columns</p>\n",
       "</div>"
      ],
      "text/plain": [
       "       TransactionID        isFraud  TransactionDT  TransactionAmt  \\\n",
       "count   5.905400e+05  590540.000000   5.905400e+05   590540.000000   \n",
       "mean    3.282270e+06       0.034990   7.372311e+06      135.027176   \n",
       "std     1.704744e+05       0.183755   4.617224e+06      239.162522   \n",
       "min     2.987000e+06       0.000000   8.640000e+04        0.251000   \n",
       "25%     3.134635e+06       0.000000   3.027058e+06       43.321000   \n",
       "50%     3.282270e+06       0.000000   7.306528e+06       68.769000   \n",
       "75%     3.429904e+06       0.000000   1.124662e+07      125.000000   \n",
       "max     3.577539e+06       1.000000   1.581113e+07    31937.391000   \n",
       "\n",
       "               card1          card2          card3          card5  \\\n",
       "count  590540.000000  581607.000000  588975.000000  586281.000000   \n",
       "mean     9898.734658     362.555488     153.194925     199.278897   \n",
       "std      4901.170153     157.793246      11.336444      41.244453   \n",
       "min      1000.000000     100.000000     100.000000     100.000000   \n",
       "25%      6019.000000     214.000000     150.000000     166.000000   \n",
       "50%      9678.000000     361.000000     150.000000     226.000000   \n",
       "75%     14184.000000     512.000000     150.000000     226.000000   \n",
       "max     18396.000000     600.000000     231.000000     237.000000   \n",
       "\n",
       "               addr1          addr2  ...          id_17         id_18  \\\n",
       "count  524834.000000  524834.000000  ...  139369.000000  45113.000000   \n",
       "mean      290.733794      86.800630  ...     189.451377     14.237337   \n",
       "std       101.741072       2.690623  ...      30.375360      1.561302   \n",
       "min       100.000000      10.000000  ...     100.000000     10.000000   \n",
       "25%       204.000000      87.000000  ...     166.000000     13.000000   \n",
       "50%       299.000000      87.000000  ...     166.000000     15.000000   \n",
       "75%       330.000000      87.000000  ...     225.000000     15.000000   \n",
       "max       540.000000     102.000000  ...     229.000000     29.000000   \n",
       "\n",
       "               id_19          id_20        id_21        id_22        id_24  \\\n",
       "count  139318.000000  139261.000000  5159.000000  5169.000000  4747.000000   \n",
       "mean      353.128174     403.882666   368.269820    16.002708    12.800927   \n",
       "std       141.095343     152.160327   198.847038     6.897665     2.372447   \n",
       "min       100.000000     100.000000   100.000000    10.000000    11.000000   \n",
       "25%       266.000000     256.000000   252.000000    14.000000    11.000000   \n",
       "50%       341.000000     472.000000   252.000000    14.000000    11.000000   \n",
       "75%       427.000000     533.000000   486.500000    14.000000    15.000000   \n",
       "max       671.000000     661.000000   854.000000    44.000000    26.000000   \n",
       "\n",
       "             id_25        id_26         id_32  \n",
       "count  5132.000000  5163.000000  77586.000000  \n",
       "mean    329.608924   149.070308     26.508597  \n",
       "std      97.461089    32.101995      3.737502  \n",
       "min     100.000000   100.000000      0.000000  \n",
       "25%     321.000000   119.000000     24.000000  \n",
       "50%     321.000000   149.000000     24.000000  \n",
       "75%     371.000000   169.000000     32.000000  \n",
       "max     548.000000   216.000000     32.000000  \n",
       "\n",
       "[8 rows x 403 columns]"
      ]
     },
     "execution_count": 11,
     "metadata": {},
     "output_type": "execute_result"
    }
   ],
   "source": [
    "df_eda.describe()"
   ]
  },
  {
   "cell_type": "code",
   "execution_count": 12,
   "metadata": {},
   "outputs": [
    {
     "data": {
      "text/html": [
       "<div>\n",
       "<style scoped>\n",
       "    .dataframe tbody tr th:only-of-type {\n",
       "        vertical-align: middle;\n",
       "    }\n",
       "\n",
       "    .dataframe tbody tr th {\n",
       "        vertical-align: top;\n",
       "    }\n",
       "\n",
       "    .dataframe thead th {\n",
       "        text-align: right;\n",
       "    }\n",
       "</style>\n",
       "<table border=\"1\" class=\"dataframe\">\n",
       "  <thead>\n",
       "    <tr style=\"text-align: right;\">\n",
       "      <th></th>\n",
       "      <th>TransactionID</th>\n",
       "      <th>TransactionDT</th>\n",
       "      <th>TransactionAmt</th>\n",
       "      <th>card1</th>\n",
       "      <th>card2</th>\n",
       "      <th>card3</th>\n",
       "      <th>card5</th>\n",
       "      <th>addr1</th>\n",
       "      <th>addr2</th>\n",
       "      <th>dist1</th>\n",
       "      <th>...</th>\n",
       "      <th>id_17</th>\n",
       "      <th>id_18</th>\n",
       "      <th>id_19</th>\n",
       "      <th>id_20</th>\n",
       "      <th>id_21</th>\n",
       "      <th>id_22</th>\n",
       "      <th>id_24</th>\n",
       "      <th>id_25</th>\n",
       "      <th>id_26</th>\n",
       "      <th>id_32</th>\n",
       "    </tr>\n",
       "    <tr>\n",
       "      <th>isFraud</th>\n",
       "      <th></th>\n",
       "      <th></th>\n",
       "      <th></th>\n",
       "      <th></th>\n",
       "      <th></th>\n",
       "      <th></th>\n",
       "      <th></th>\n",
       "      <th></th>\n",
       "      <th></th>\n",
       "      <th></th>\n",
       "      <th></th>\n",
       "      <th></th>\n",
       "      <th></th>\n",
       "      <th></th>\n",
       "      <th></th>\n",
       "      <th></th>\n",
       "      <th></th>\n",
       "      <th></th>\n",
       "      <th></th>\n",
       "      <th></th>\n",
       "      <th></th>\n",
       "    </tr>\n",
       "  </thead>\n",
       "  <tbody>\n",
       "    <tr>\n",
       "      <td>0</td>\n",
       "      <td>3.281810e+06</td>\n",
       "      <td>7.360791e+06</td>\n",
       "      <td>134.511665</td>\n",
       "      <td>9911.464381</td>\n",
       "      <td>362.453981</td>\n",
       "      <td>152.862034</td>\n",
       "      <td>199.542212</td>\n",
       "      <td>290.643341</td>\n",
       "      <td>86.813620</td>\n",
       "      <td>117.360098</td>\n",
       "      <td>...</td>\n",
       "      <td>188.113697</td>\n",
       "      <td>14.213882</td>\n",
       "      <td>354.854950</td>\n",
       "      <td>401.133705</td>\n",
       "      <td>364.479400</td>\n",
       "      <td>15.757959</td>\n",
       "      <td>12.802301</td>\n",
       "      <td>328.622269</td>\n",
       "      <td>148.112917</td>\n",
       "      <td>26.452391</td>\n",
       "    </tr>\n",
       "    <tr>\n",
       "      <td>1</td>\n",
       "      <td>3.294952e+06</td>\n",
       "      <td>7.690033e+06</td>\n",
       "      <td>149.244779</td>\n",
       "      <td>9547.654164</td>\n",
       "      <td>365.370850</td>\n",
       "      <td>162.368648</td>\n",
       "      <td>191.994328</td>\n",
       "      <td>294.317134</td>\n",
       "      <td>86.286024</td>\n",
       "      <td>174.588854</td>\n",
       "      <td>...</td>\n",
       "      <td>204.991400</td>\n",
       "      <td>14.497189</td>\n",
       "      <td>333.060156</td>\n",
       "      <td>435.838002</td>\n",
       "      <td>410.382629</td>\n",
       "      <td>18.727700</td>\n",
       "      <td>12.786070</td>\n",
       "      <td>340.764988</td>\n",
       "      <td>159.743529</td>\n",
       "      <td>27.716024</td>\n",
       "    </tr>\n",
       "  </tbody>\n",
       "</table>\n",
       "<p>2 rows × 402 columns</p>\n",
       "</div>"
      ],
      "text/plain": [
       "         TransactionID  TransactionDT  TransactionAmt        card1  \\\n",
       "isFraud                                                              \n",
       "0         3.281810e+06   7.360791e+06      134.511665  9911.464381   \n",
       "1         3.294952e+06   7.690033e+06      149.244779  9547.654164   \n",
       "\n",
       "              card2       card3       card5       addr1      addr2  \\\n",
       "isFraud                                                              \n",
       "0        362.453981  152.862034  199.542212  290.643341  86.813620   \n",
       "1        365.370850  162.368648  191.994328  294.317134  86.286024   \n",
       "\n",
       "              dist1  ...       id_17      id_18       id_19       id_20  \\\n",
       "isFraud              ...                                                  \n",
       "0        117.360098  ...  188.113697  14.213882  354.854950  401.133705   \n",
       "1        174.588854  ...  204.991400  14.497189  333.060156  435.838002   \n",
       "\n",
       "              id_21      id_22      id_24       id_25       id_26      id_32  \n",
       "isFraud                                                                       \n",
       "0        364.479400  15.757959  12.802301  328.622269  148.112917  26.452391  \n",
       "1        410.382629  18.727700  12.786070  340.764988  159.743529  27.716024  \n",
       "\n",
       "[2 rows x 402 columns]"
      ]
     },
     "execution_count": 12,
     "metadata": {},
     "output_type": "execute_result"
    }
   ],
   "source": [
    "fraud_summary = df_eda.groupby('isFraud')\n",
    "fraud_summary.mean().to_csv('/Users/krahman/work/fraud_detection/saved_files/fraud_groupby.csv')\n",
    "fraud_summary.mean()"
   ]
  },
  {
   "cell_type": "markdown",
   "metadata": {},
   "source": [
    "## Columns with Null Values"
   ]
  },
  {
   "cell_type": "code",
   "execution_count": 13,
   "metadata": {},
   "outputs": [
    {
     "data": {
      "text/html": [
       "<div>\n",
       "<style scoped>\n",
       "    .dataframe tbody tr th:only-of-type {\n",
       "        vertical-align: middle;\n",
       "    }\n",
       "\n",
       "    .dataframe tbody tr th {\n",
       "        vertical-align: top;\n",
       "    }\n",
       "\n",
       "    .dataframe thead th {\n",
       "        text-align: right;\n",
       "    }\n",
       "</style>\n",
       "<table border=\"1\" class=\"dataframe\">\n",
       "  <thead>\n",
       "    <tr style=\"text-align: right;\">\n",
       "      <th></th>\n",
       "      <th>index</th>\n",
       "      <th>0</th>\n",
       "    </tr>\n",
       "  </thead>\n",
       "  <tbody>\n",
       "    <tr>\n",
       "      <td>0</td>\n",
       "      <td>TransactionID</td>\n",
       "      <td>False</td>\n",
       "    </tr>\n",
       "    <tr>\n",
       "      <td>1</td>\n",
       "      <td>isFraud</td>\n",
       "      <td>False</td>\n",
       "    </tr>\n",
       "    <tr>\n",
       "      <td>2</td>\n",
       "      <td>TransactionDT</td>\n",
       "      <td>False</td>\n",
       "    </tr>\n",
       "    <tr>\n",
       "      <td>3</td>\n",
       "      <td>TransactionAmt</td>\n",
       "      <td>False</td>\n",
       "    </tr>\n",
       "    <tr>\n",
       "      <td>4</td>\n",
       "      <td>ProductCD</td>\n",
       "      <td>False</td>\n",
       "    </tr>\n",
       "    <tr>\n",
       "      <td>...</td>\n",
       "      <td>...</td>\n",
       "      <td>...</td>\n",
       "    </tr>\n",
       "    <tr>\n",
       "      <td>429</td>\n",
       "      <td>id_36</td>\n",
       "      <td>True</td>\n",
       "    </tr>\n",
       "    <tr>\n",
       "      <td>430</td>\n",
       "      <td>id_37</td>\n",
       "      <td>True</td>\n",
       "    </tr>\n",
       "    <tr>\n",
       "      <td>431</td>\n",
       "      <td>id_38</td>\n",
       "      <td>True</td>\n",
       "    </tr>\n",
       "    <tr>\n",
       "      <td>432</td>\n",
       "      <td>DeviceType</td>\n",
       "      <td>True</td>\n",
       "    </tr>\n",
       "    <tr>\n",
       "      <td>433</td>\n",
       "      <td>DeviceInfo</td>\n",
       "      <td>True</td>\n",
       "    </tr>\n",
       "  </tbody>\n",
       "</table>\n",
       "<p>434 rows × 2 columns</p>\n",
       "</div>"
      ],
      "text/plain": [
       "              index      0\n",
       "0     TransactionID  False\n",
       "1           isFraud  False\n",
       "2     TransactionDT  False\n",
       "3    TransactionAmt  False\n",
       "4         ProductCD  False\n",
       "..              ...    ...\n",
       "429           id_36   True\n",
       "430           id_37   True\n",
       "431           id_38   True\n",
       "432      DeviceType   True\n",
       "433      DeviceInfo   True\n",
       "\n",
       "[434 rows x 2 columns]"
      ]
     },
     "execution_count": 13,
     "metadata": {},
     "output_type": "execute_result"
    }
   ],
   "source": [
    "list_null = df_train.isnull().any()\n",
    "df_null = pd.DataFrame(list_null).reset_index()\n",
    "df_null"
   ]
  },
  {
   "cell_type": "markdown",
   "metadata": {},
   "source": [
    "## Duplicate Values"
   ]
  },
  {
   "cell_type": "code",
   "execution_count": 14,
   "metadata": {},
   "outputs": [
    {
     "name": "stdout",
     "output_type": "stream",
     "text": [
      "Training dataframe transaction duplicates: 0\n",
      "Training dataframe identity duplicates: 0\n"
     ]
    }
   ],
   "source": [
    "train_transaction_sum = train_transaction.duplicated().sum()\n",
    "train_identity_sum = train_identity.duplicated().sum()\n",
    "print('Training dataframe transaction duplicates: {}'.format(train_transaction_sum))\n",
    "print('Training dataframe identity duplicates: {}'.format(train_identity_sum))\n",
    "columns = train_transaction.columns\n",
    "# print('Train feature columns:\\n', list(columns))"
   ]
  },
  {
   "cell_type": "markdown",
   "metadata": {},
   "source": [
    "### NEXT"
   ]
  },
  {
   "cell_type": "code",
   "execution_count": 15,
   "metadata": {},
   "outputs": [
    {
     "data": {
      "text/html": [
       "<div>\n",
       "<style scoped>\n",
       "    .dataframe tbody tr th:only-of-type {\n",
       "        vertical-align: middle;\n",
       "    }\n",
       "\n",
       "    .dataframe tbody tr th {\n",
       "        vertical-align: top;\n",
       "    }\n",
       "\n",
       "    .dataframe thead th {\n",
       "        text-align: right;\n",
       "    }\n",
       "</style>\n",
       "<table border=\"1\" class=\"dataframe\">\n",
       "  <thead>\n",
       "    <tr style=\"text-align: right;\">\n",
       "      <th></th>\n",
       "      <th>TransactionID</th>\n",
       "      <th>TransactionDT</th>\n",
       "      <th>TransactionAmt</th>\n",
       "      <th>card1</th>\n",
       "      <th>card2</th>\n",
       "      <th>card3</th>\n",
       "      <th>card5</th>\n",
       "      <th>addr1</th>\n",
       "      <th>addr2</th>\n",
       "      <th>dist1</th>\n",
       "      <th>...</th>\n",
       "      <th>id_17</th>\n",
       "      <th>id_18</th>\n",
       "      <th>id_19</th>\n",
       "      <th>id_20</th>\n",
       "      <th>id_21</th>\n",
       "      <th>id_22</th>\n",
       "      <th>id_24</th>\n",
       "      <th>id_25</th>\n",
       "      <th>id_26</th>\n",
       "      <th>id_32</th>\n",
       "    </tr>\n",
       "    <tr>\n",
       "      <th>isFraud</th>\n",
       "      <th></th>\n",
       "      <th></th>\n",
       "      <th></th>\n",
       "      <th></th>\n",
       "      <th></th>\n",
       "      <th></th>\n",
       "      <th></th>\n",
       "      <th></th>\n",
       "      <th></th>\n",
       "      <th></th>\n",
       "      <th></th>\n",
       "      <th></th>\n",
       "      <th></th>\n",
       "      <th></th>\n",
       "      <th></th>\n",
       "      <th></th>\n",
       "      <th></th>\n",
       "      <th></th>\n",
       "      <th></th>\n",
       "      <th></th>\n",
       "      <th></th>\n",
       "    </tr>\n",
       "  </thead>\n",
       "  <tbody>\n",
       "    <tr>\n",
       "      <td>0</td>\n",
       "      <td>3.281810e+06</td>\n",
       "      <td>7.360791e+06</td>\n",
       "      <td>134.511665</td>\n",
       "      <td>9911.464381</td>\n",
       "      <td>362.453981</td>\n",
       "      <td>152.862034</td>\n",
       "      <td>199.542212</td>\n",
       "      <td>290.643341</td>\n",
       "      <td>86.813620</td>\n",
       "      <td>117.360098</td>\n",
       "      <td>...</td>\n",
       "      <td>188.113697</td>\n",
       "      <td>14.213882</td>\n",
       "      <td>354.854950</td>\n",
       "      <td>401.133705</td>\n",
       "      <td>364.479400</td>\n",
       "      <td>15.757959</td>\n",
       "      <td>12.802301</td>\n",
       "      <td>328.622269</td>\n",
       "      <td>148.112917</td>\n",
       "      <td>26.452391</td>\n",
       "    </tr>\n",
       "    <tr>\n",
       "      <td>1</td>\n",
       "      <td>3.294952e+06</td>\n",
       "      <td>7.690033e+06</td>\n",
       "      <td>149.244779</td>\n",
       "      <td>9547.654164</td>\n",
       "      <td>365.370850</td>\n",
       "      <td>162.368648</td>\n",
       "      <td>191.994328</td>\n",
       "      <td>294.317134</td>\n",
       "      <td>86.286024</td>\n",
       "      <td>174.588854</td>\n",
       "      <td>...</td>\n",
       "      <td>204.991400</td>\n",
       "      <td>14.497189</td>\n",
       "      <td>333.060156</td>\n",
       "      <td>435.838002</td>\n",
       "      <td>410.382629</td>\n",
       "      <td>18.727700</td>\n",
       "      <td>12.786070</td>\n",
       "      <td>340.764988</td>\n",
       "      <td>159.743529</td>\n",
       "      <td>27.716024</td>\n",
       "    </tr>\n",
       "  </tbody>\n",
       "</table>\n",
       "<p>2 rows × 402 columns</p>\n",
       "</div>"
      ],
      "text/plain": [
       "         TransactionID  TransactionDT  TransactionAmt        card1  \\\n",
       "isFraud                                                              \n",
       "0         3.281810e+06   7.360791e+06      134.511665  9911.464381   \n",
       "1         3.294952e+06   7.690033e+06      149.244779  9547.654164   \n",
       "\n",
       "              card2       card3       card5       addr1      addr2  \\\n",
       "isFraud                                                              \n",
       "0        362.453981  152.862034  199.542212  290.643341  86.813620   \n",
       "1        365.370850  162.368648  191.994328  294.317134  86.286024   \n",
       "\n",
       "              dist1  ...       id_17      id_18       id_19       id_20  \\\n",
       "isFraud              ...                                                  \n",
       "0        117.360098  ...  188.113697  14.213882  354.854950  401.133705   \n",
       "1        174.588854  ...  204.991400  14.497189  333.060156  435.838002   \n",
       "\n",
       "              id_21      id_22      id_24       id_25       id_26      id_32  \n",
       "isFraud                                                                       \n",
       "0        364.479400  15.757959  12.802301  328.622269  148.112917  26.452391  \n",
       "1        410.382629  18.727700  12.786070  340.764988  159.743529  27.716024  \n",
       "\n",
       "[2 rows x 402 columns]"
      ]
     },
     "execution_count": 15,
     "metadata": {},
     "output_type": "execute_result"
    }
   ],
   "source": [
    "fraud_summary = df_train.groupby('isFraud')\n",
    "fraud_summary.mean().to_csv('/Users/krahman/work/fraud_detection/saved_files/fraud_groupby.csv')\n",
    "fraud_summary.mean()"
   ]
  },
  {
   "cell_type": "code",
   "execution_count": 16,
   "metadata": {},
   "outputs": [
    {
     "data": {
      "text/plain": [
       "TransactionID     False\n",
       "isFraud           False\n",
       "TransactionDT     False\n",
       "TransactionAmt    False\n",
       "ProductCD         False\n",
       "                  ...  \n",
       "id_36              True\n",
       "id_37              True\n",
       "id_38              True\n",
       "DeviceType         True\n",
       "DeviceInfo         True\n",
       "Length: 434, dtype: bool"
      ]
     },
     "execution_count": 16,
     "metadata": {},
     "output_type": "execute_result"
    }
   ],
   "source": [
    "df_train.isnull().any()"
   ]
  },
  {
   "cell_type": "markdown",
   "metadata": {},
   "source": [
    "## Transaction By Credit Card Company"
   ]
  },
  {
   "cell_type": "code",
   "execution_count": 17,
   "metadata": {},
   "outputs": [],
   "source": [
    "# Creating dataframe nad filling na values for columns card4 and card6\n",
    "mode_card4 = df_eda.card4.mode()[0]\n",
    "df_eda['card4'] = df_eda.card4.fillna(mode_card4)\n",
    "\n",
    "mode_card6 = df_eda.card6.mode()[0]\n",
    "df_eda['card6'] = df_eda.card6.fillna(mode_card6)\n",
    "\n",
    "df_eda_not_fraud = df_eda[df_eda.isFraud==0]\n",
    "df_eda_fraud = df_eda[df_eda.isFraud==1]"
   ]
  },
  {
   "cell_type": "markdown",
   "metadata": {},
   "source": [
    "### Not Fraudulent"
   ]
  },
  {
   "cell_type": "code",
   "execution_count": 18,
   "metadata": {},
   "outputs": [
    {
     "data": {
      "image/png": "[encoded data removed]",
      "text/plain": [
       "<Figure size 432x252 with 1 Axes>"
      ]
     },
     "metadata": {
      "needs_background": "light"
     },
     "output_type": "display_data"
    }
   ],
   "source": [
    "plt.subplots(figsize=(6, 3.5))\n",
    "plt.hist(df_eda_not_fraud.card4.sort_values(ascending=False))\n",
    "plt.title(\"Non-Fraudulent Credit Card Transactions\", fontsize=13)\n",
    "plt.ylabel(\"Total Transactions\", fontsize=12)\n",
    "plt.xlabel(\"Credit Card Company\", fontsize=12)\n",
    "plt.show()"
   ]
  },
  {
   "cell_type": "markdown",
   "metadata": {},
   "source": [
    "### Fraudulent"
   ]
  },
  {
   "cell_type": "code",
   "execution_count": 19,
   "metadata": {},
   "outputs": [
    {
     "data": {
      "image/png": "[encoded data removed]",
      "text/plain": [
       "<Figure size 432x252 with 1 Axes>"
      ]
     },
     "metadata": {
      "needs_background": "light"
     },
     "output_type": "display_data"
    }
   ],
   "source": [
    "plt.subplots(figsize=(6, 3.5))\n",
    "plt.hist(df_eda_fraud.card4.sort_values(ascending=False))\n",
    "plt.title(\"Fraudulent Credit Card Transactions\", fontsize=13)\n",
    "plt.ylabel(\"Total Transactions\", fontsize=12)\n",
    "plt.xlabel(\"Credit Card Company\", fontsize=12)\n",
    "plt.show()"
   ]
  },
  {
   "cell_type": "markdown",
   "metadata": {},
   "source": [
    "# Transactions By Card Type"
   ]
  },
  {
   "cell_type": "markdown",
   "metadata": {},
   "source": [
    "#### Creating Dataframes"
   ]
  },
  {
   "cell_type": "code",
   "execution_count": 20,
   "metadata": {},
   "outputs": [],
   "source": [
    "# Among all fraudulent transactions, do we see more debit or credit card transactions that are fraudulent?\n",
    "df_card6_not_fraud = df_eda_not_fraud[(df_eda_not_fraud.card6=='credit') \n",
    "                                    | (df_eda_not_fraud.card6=='debit')]\n",
    "df_card6_not_fraud = df_card6_not_fraud.card6.sort_values(ascending=False)\n",
    "df_card6_fraud = df_eda_fraud.card6.sort_values(ascending=False)"
   ]
  },
  {
   "cell_type": "markdown",
   "metadata": {},
   "source": [
    "### Transactions By Card Type - Not Fraudulent"
   ]
  },
  {
   "cell_type": "code",
   "execution_count": 21,
   "metadata": {},
   "outputs": [
    {
     "data": {
      "image/png": "[encoded data removed]",
      "text/plain": [
       "<Figure size 432x252 with 1 Axes>"
      ]
     },
     "metadata": {
      "needs_background": "light"
     },
     "output_type": "display_data"
    }
   ],
   "source": [
    "plt.subplots(figsize=(6, 3.5))\n",
    "plt.hist(df_card6_not_fraud)\n",
    "plt.title(\"Non-Fraudulent Credit Card Transactions\", fontsize=13)\n",
    "plt.ylabel(\"Total Transactions\", fontsize=12)\n",
    "plt.xlabel(\"Credit Card Type\", fontsize=12)\n",
    "plt.show()"
   ]
  },
  {
   "cell_type": "markdown",
   "metadata": {},
   "source": [
    "### Transactions By Card Type - Fraudulent"
   ]
  },
  {
   "cell_type": "code",
   "execution_count": 22,
   "metadata": {},
   "outputs": [
    {
     "data": {
      "image/png": "[encoded data removed]",
      "text/plain": [
       "<Figure size 432x252 with 1 Axes>"
      ]
     },
     "metadata": {
      "needs_background": "light"
     },
     "output_type": "display_data"
    }
   ],
   "source": [
    "plt.subplots(figsize=(6, 3.5))\n",
    "plt.hist(df_card6_fraud)\n",
    "plt.title(\"Fraudulent Credit Card Transactions\", fontsize=13)\n",
    "plt.ylabel(\"Total Transactions\", fontsize=12)\n",
    "plt.xlabel(\"Credit Card Type\", fontsize=12)\n",
    "plt.show()"
   ]
  },
  {
   "cell_type": "markdown",
   "metadata": {},
   "source": [
    "## Transactions By Email Provider"
   ]
  },
  {
   "cell_type": "markdown",
   "metadata": {},
   "source": [
    "#### Creating Dataframes "
   ]
  },
  {
   "cell_type": "code",
   "execution_count": 23,
   "metadata": {},
   "outputs": [],
   "source": [
    "# filling na\n",
    "mode_p_emaildomain = df_eda['P_emaildomain'].mode()[0] #del if we decide to go with filling na with 'missing'\n",
    "df_eda['P_emaildomain'] = df_eda['P_emaildomain'].fillna('missing')\n",
    "mode_card6 = df_eda['card6'].mode()[0]\n",
    "df_eda['card6'] = df_eda['card6'].fillna(mode_card6)\n",
    "df_eda['addr1'] = df_eda['addr1'].fillna(0) # 0 means missing addr1 value\n",
    "\n",
    "# not fraud dataframe\n",
    "df_email_notfraud = df_eda[df_eda.isFraud==0].P_emaildomain\n",
    "df_email_notfraud = df_email_notfraud.value_counts()\n",
    "df_email_notfraud = df_email_notfraud.reset_index()\n",
    "df_email_notfraud = df_email_notfraud.rename(columns={'P_emaildomain':'email_notfraud_count',\n",
    "                                                      'index':'index_email'})\n",
    "\n",
    "# fraud dataframe\n",
    "df_email_fraud = df_eda[df_eda.isFraud==1].P_emaildomain\n",
    "df_email_fraud = df_email_fraud.value_counts()\n",
    "df_email_fraud = df_email_fraud.reset_index()\n",
    "df_email_fraud = df_email_fraud.rename(columns={'P_emaildomain':'email_fraud_count',\n",
    "                                                'index':'index_email'})\n",
    "# merging not fraud and fraud dataframes\n",
    "df_email_eda = df_email_notfraud.merge(df_email_fraud, how='left', on='index_email')\n",
    "df_email_eda = df_email_eda.fillna(0)\n",
    "df_email_eda['email_total'] = (df_email_eda['email_fraud_count']\n",
    "                             + df_email_eda['email_notfraud_count'])\n",
    "df_email_eda['email_percent_fraud'] = df_email_eda['email_fraud_count'] / 20663.0\n",
    "df_email_eda['email_fraud_ratio'] = (df_email_eda['email_fraud_count'] \n",
    "                                   / df_email_eda['email_total'])\n",
    "\n",
    "\n",
    "# email total dataframe\n",
    "df_em_total = df_email_eda.sort_values('email_total', ascending=False)\n",
    "df_em_total = df_em_total.head(10)\n",
    "df_em_total = df_em_total.sort_values('email_total', ascending=True)\n",
    "# email fraud percentage dataframe\n",
    "df_em_perc_fraud = df_email_eda.sort_values('email_percent_fraud', ascending=False)\n",
    "df_em_perc_fraud = df_em_perc_fraud.head(10)\n",
    "df_em_perc_fraud = df_em_perc_fraud.sort_values('email_percent_fraud', ascending=True)\n",
    "# email fraud ratio  dataframe\n",
    "df_em_ratio = df_email_eda.sort_values('email_fraud_ratio', ascending=False)\n",
    "df_em_ratio = df_em_perc_fraud.head(10)\n",
    "df_em_ratio = df_em_perc_fraud.sort_values('email_fraud_ratio', ascending=True)"
   ]
  },
  {
   "cell_type": "markdown",
   "metadata": {},
   "source": [
    "### Top 10 Email Providers"
   ]
  },
  {
   "cell_type": "code",
   "execution_count": 24,
   "metadata": {},
   "outputs": [
    {
     "data": {
      "image/png": "[encoded data removed]",
      "text/plain": [
       "<Figure size 648x288 with 1 Axes>"
      ]
     },
     "metadata": {
      "needs_background": "light"
     },
     "output_type": "display_data"
    }
   ],
   "source": [
    "# # email all\n",
    "# \"what we find is that the most common email occurence shows this...\"\n",
    "plt.subplots(figsize=(9, 4))\n",
    "plt.title('Top 10 Email Providers', fontsize=14)\n",
    "plt.ylabel('Email Provider', fontsize=12)\n",
    "plt.xlabel('Number of Records', fontsize=12)\n",
    "plt.barh(df_em_total.index_email, df_em_total.email_total)\n",
    "plt.show()"
   ]
  },
  {
   "cell_type": "markdown",
   "metadata": {},
   "source": [
    "### Email Provider by Fraud Percentage"
   ]
  },
  {
   "cell_type": "code",
   "execution_count": 25,
   "metadata": {},
   "outputs": [
    {
     "data": {
      "image/png": "[encoded data removed]",
      "text/plain": [
       "<Figure size 648x288 with 1 Axes>"
      ]
     },
     "metadata": {
      "needs_background": "light"
     },
     "output_type": "display_data"
    }
   ],
   "source": [
    "# email fraud percentage\n",
    "# \"but the email ratio is this...\" \n",
    "plt.subplots(figsize=(9, 4))\n",
    "plt.title('Email Providers With Highest Fraud Percentage Occurrence', fontsize=14)\n",
    "plt.ylabel('Email Provider', fontsize=12)\n",
    "plt.xlabel('Fraud Percentage (%)', fontsize=12)\n",
    "plt.barh(df_em_perc_fraud.index_email, df_em_perc_fraud.email_percent_fraud)\n",
    "plt.show()"
   ]
  },
  {
   "cell_type": "markdown",
   "metadata": {},
   "source": [
    "### Email Provider by Fraud Ratio"
   ]
  },
  {
   "cell_type": "code",
   "execution_count": 26,
   "metadata": {
    "scrolled": true
   },
   "outputs": [
    {
     "data": {
      "image/png": "[encoded data removed]",
      "text/plain": [
       "<Figure size 648x288 with 1 Axes>"
      ]
     },
     "metadata": {
      "needs_background": "light"
     },
     "output_type": "display_data"
    }
   ],
   "source": [
    "# email fraud ratio\n",
    "plt.subplots(figsize=(9, 4))\n",
    "plt.title('Email Providers With Highest Fraud Ratio', fontsize=14)\n",
    "plt.ylabel('Email Provider', fontsize=12)\n",
    "plt.xlabel('Fraud Percentage (%)', fontsize=12)\n",
    "plt.barh(df_em_ratio.index_email, df_em_ratio.email_fraud_ratio)\n",
    "plt.show()"
   ]
  },
  {
   "cell_type": "markdown",
   "metadata": {},
   "source": [
    "### Binning Email Providers"
   ]
  },
  {
   "cell_type": "markdown",
   "metadata": {},
   "source": [
    "#### Creating Dataframes"
   ]
  },
  {
   "cell_type": "code",
   "execution_count": 27,
   "metadata": {},
   "outputs": [],
   "source": [
    "df_email_total = df_eda.P_emaildomain.value_counts().reset_index()\n",
    "df_email_total = df_email_total.rename(columns={'P_emaildomain':'email_count',\n",
    "                                                'index':'index_email'})\n",
    "df_uncommon_emails = df_email_total[(df_email_total.index_email != 'gmail.com')\n",
    "                                     & (df_email_total.index_email != 'yahoo.com')\n",
    "                                     & (df_email_total.index_email != 'hotmail.com')\n",
    "                                     & (df_email_total.index_email != 'anonymous.com')\n",
    "                                     & (df_email_total.index_email != 'aol.com')\n",
    "                                  ]\n",
    "\n",
    "df_email_eda = df_email_eda.sort_values('email_total', ascending=False)\n",
    "df_uncommon_email = df_email_eda[(df_email_eda.index_email != 'gmail.com')\n",
    "                                     & (df_email_eda.index_email != 'yahoo.com')\n",
    "                                     & (df_email_eda.index_email != 'hotmail.com')\n",
    "                                     & (df_email_eda.index_email != 'anonymous.com')\n",
    "                                     & (df_email_eda.index_email != 'aol.com')\n",
    "                                  ]\n",
    "df_common_email = df_email_eda.head(5)\n",
    "\n",
    "# create other providers row (binning)\n",
    "val_total_notfraud = np.sum(df_uncommon_email.email_notfraud_count)\n",
    "val_total_fraud = np.sum(df_uncommon_email.email_fraud_count)\n",
    "val_total_email = np.sum(df_uncommon_email.email_total)\n",
    "val_percent_fraud = val_total_fraud / val_total_email\n",
    "val_ratio_fraud = val_total_fraud / val_total_notfraud\n",
    "# create new row\n",
    "series_index = pd.Series('other providers', name='index_email')\n",
    "series_notfraud = pd.Series(val_total_notfraud, name='email_notfraud_count')\n",
    "series_fraud = pd.Series(val_total_fraud, name='email_fraud_count')\n",
    "series_perc = pd.Series(val_percent_fraud, name='email_percent_fraud')\n",
    "series_ratio = pd.Series(val_ratio_fraud, name='email_fraud_ratio')\n",
    "series_total = pd.Series(val_total_email, name='email_total')\n",
    "# add results to top 5 dataframe\n",
    "df_small_em_providers = pd.concat([series_index, series_notfraud, series_fraud, \n",
    "                                   series_total, series_perc, series_ratio], axis=1)\n",
    "\n",
    "df_top5_all = pd.concat([df_common_email, df_small_em_providers], axis=0)\n",
    "df_top5_all = df_top5_all.set_index('index_email')\n",
    "\n",
    "# dataframes to use for EDA\n",
    "df_top5_count = df_top5_all.sort_values('email_total', ascending=True)\n",
    "\n",
    "df_top5_perc = df_top5_all.reindex(index = ['anonymous.com','hotmail.com','missing',\n",
    "                                            'yahoo.com','other providers','gmail.com'])\n",
    "\n",
    "df_top5_ratio = df_top5_all.sort_values('email_fraud_ratio', ascending=True)"
   ]
  },
  {
   "cell_type": "markdown",
   "metadata": {},
   "source": [
    "### Binning Top Email Providers"
   ]
  },
  {
   "cell_type": "code",
   "execution_count": 28,
   "metadata": {},
   "outputs": [
    {
     "data": {
      "image/png": "[encoded data removed]",
      "text/plain": [
       "<Figure size 720x216 with 1 Axes>"
      ]
     },
     "metadata": {
      "needs_background": "light"
     },
     "output_type": "display_data"
    }
   ],
   "source": [
    "# top 5 email count \n",
    "plt.subplots(figsize=(10, 3))\n",
    "plt.title('Top 6 Email Providers (binning)', fontsize=13)\n",
    "plt.ylabel('Email Provider', fontsize=11)\n",
    "plt.xlabel('Number of Email Records', fontsize=11)\n",
    "plt.barh(df_top5_count.index, df_top5_count.email_total)\n",
    "plt.show()"
   ]
  },
  {
   "cell_type": "markdown",
   "metadata": {},
   "source": [
    "### Email Providers by Fraud Percentage"
   ]
  },
  {
   "cell_type": "code",
   "execution_count": 29,
   "metadata": {},
   "outputs": [
    {
     "data": {
      "image/png": "[encoded data removed]",
      "text/plain": [
       "<Figure size 720x216 with 1 Axes>"
      ]
     },
     "metadata": {
      "needs_background": "light"
     },
     "output_type": "display_data"
    }
   ],
   "source": [
    "# top 5 highest fraud percent\n",
    "plt.subplots(figsize=(10, 3))\n",
    "plt.title('Email Providers With Highest Fraud Percentage (binning)', fontsize=13)\n",
    "plt.ylabel('Email Provider', fontsize=11)\n",
    "plt.xlabel('Fraud Percentage (%)', fontsize=11)\n",
    "plt.barh(df_top5_perc.index, df_top5_perc.email_percent_fraud)\n",
    "plt.show()"
   ]
  },
  {
   "cell_type": "markdown",
   "metadata": {},
   "source": [
    "### Email Providers By Fraud Ratio"
   ]
  },
  {
   "cell_type": "code",
   "execution_count": 30,
   "metadata": {},
   "outputs": [
    {
     "data": {
      "image/png": "[encoded data removed]",
      "text/plain": [
       "<Figure size 720x216 with 1 Axes>"
      ]
     },
     "metadata": {
      "needs_background": "light"
     },
     "output_type": "display_data"
    }
   ],
   "source": [
    "# top 5 highest ratio\n",
    "plt.subplots(figsize=(10, 3))\n",
    "plt.title('Email Providers With Highest Ratio (binning)', fontsize=13)\n",
    "plt.ylabel('Email Provider', fontsize=11)\n",
    "plt.xlabel('Ratio (fraud : not fraud)', fontsize=11)\n",
    "plt.barh(df_top5_ratio.index, df_top5_ratio.email_fraud_ratio)\n",
    "plt.show()"
   ]
  },
  {
   "cell_type": "markdown",
   "metadata": {},
   "source": [
    "## Transactions By Card Type"
   ]
  },
  {
   "cell_type": "markdown",
   "metadata": {},
   "source": [
    "#### Creating Dataframes"
   ]
  },
  {
   "cell_type": "code",
   "execution_count": 31,
   "metadata": {
    "scrolled": true
   },
   "outputs": [],
   "source": [
    "# not fraud dataframe\n",
    "df_card6_notfraud = df_eda[df_eda.isFraud==0].card6\n",
    "df_card6_notfraud = df_card6_notfraud.value_counts()\n",
    "df_card6_notfraud = df_card6_notfraud.reset_index()\n",
    "df_card6_notfraud = df_card6_notfraud.rename(columns={'card6':'card6_notfraud_count',\n",
    "                                                      'index':'index_card6'})\n",
    "\n",
    "# fraud dataframe\n",
    "df_card6_fraud = df_eda[df_eda.isFraud==1].card6\n",
    "df_card6_fraud = df_card6_fraud.value_counts()\n",
    "df_card6_fraud = df_card6_fraud.reset_index()\n",
    "df_card6_fraud = df_card6_fraud.rename(columns={'card6':'card6_fraud_count',\n",
    "                                                      'index':'index_card6'})\n",
    "\n",
    "# merging not fraud and fraud dataframes\n",
    "df_card6_eda = df_card6_notfraud.merge(df_card6_fraud, how='left', on='index_card6')\n",
    "df_card6_eda = df_card6_eda.fillna(0)\n",
    "df_card6_eda = df_card6_eda.loc[0:1, :] # keep only debit and credit values\n",
    "\n",
    "df_card6_eda['card6_total'] = (df_card6_eda['card6_fraud_count']\n",
    "                             + df_card6_eda['card6_notfraud_count'])\n",
    "df_card6_eda['card6_percent_fraud'] = df_card6_eda['card6_fraud_count'] / 20663.0\n",
    "df_card6_eda['card6_fraud_ratio'] = (df_card6_eda['card6_fraud_count'] \n",
    "                                   / df_card6_eda['card6_total'])\n",
    "\n",
    "# card6 total dataframe\n",
    "df_card6_total = df_card6_eda.sort_values('card6_total', ascending=False)\n",
    "df_card6_total = df_card6_total.head(20)\n",
    "df_card6_total = df_card6_total.sort_values('card6_total', ascending=True)\n",
    "# card6 fraud percentage dataframe\n",
    "df_card6_perc_fraud = df_card6_eda.sort_values('card6_percent_fraud', ascending=False)\n",
    "df_card6_perc_fraud = df_card6_perc_fraud.head(20)\n",
    "df_card6_perc_fraud = df_card6_perc_fraud.sort_values('card6_percent_fraud', ascending=True)\n",
    "# card6 fraud ratio dataframe\n",
    "df_card6_ratio = df_card6_eda.sort_values('card6_fraud_ratio', ascending=False)\n",
    "df_card6_ratio = df_card6_ratio.head(20)\n",
    "df_card6_ratio = df_card6_ratio.sort_values('card6_fraud_ratio', ascending=True)"
   ]
  },
  {
   "cell_type": "markdown",
   "metadata": {},
   "source": [
    "### Total Debit and Credit Transactions"
   ]
  },
  {
   "cell_type": "code",
   "execution_count": 32,
   "metadata": {},
   "outputs": [
    {
     "data": {
      "image/png": "[encoded data removed]",
      "text/plain": [
       "<Figure size 576x144 with 1 Axes>"
      ]
     },
     "metadata": {
      "needs_background": "light"
     },
     "output_type": "display_data"
    }
   ],
   "source": [
    "# credit/debit all\n",
    "plt.subplots(figsize=(8, 2))\n",
    "plt.title('Debit Versus Credit', fontsize=13)\n",
    "plt.ylabel('Transaction', fontsize=12)\n",
    "plt.xlabel('Number of Transactions', fontsize=12)\n",
    "plt.barh(df_card6_total.index_card6, df_card6_total.card6_total)\n",
    "plt.show()"
   ]
  },
  {
   "cell_type": "markdown",
   "metadata": {},
   "source": [
    "### Debit Versus Credit Fraud Percentage"
   ]
  },
  {
   "cell_type": "code",
   "execution_count": 33,
   "metadata": {},
   "outputs": [
    {
     "data": {
      "image/png": "[encoded data removed]",
      "text/plain": [
       "<Figure size 576x144 with 1 Axes>"
      ]
     },
     "metadata": {
      "needs_background": "light"
     },
     "output_type": "display_data"
    }
   ],
   "source": [
    "# credit/debit fraud percentage\n",
    "plt.subplots(figsize=(8, 2))\n",
    "plt.title('Transaction Type With Highest Fraud Percentage', fontsize=13)\n",
    "plt.ylabel('Transaction', fontsize=12)\n",
    "plt.xlabel('Fraud Percentage (%)', fontsize=12)\n",
    "plt.barh(df_card6_perc_fraud.index_card6, df_card6_perc_fraud.card6_percent_fraud)\n",
    "plt.show()"
   ]
  },
  {
   "cell_type": "markdown",
   "metadata": {},
   "source": [
    "### Debit Versus Credit Fraud Ratio"
   ]
  },
  {
   "cell_type": "code",
   "execution_count": 34,
   "metadata": {},
   "outputs": [
    {
     "data": {
      "image/png": "[encoded data removed]",
      "text/plain": [
       "<Figure size 576x144 with 1 Axes>"
      ]
     },
     "metadata": {
      "needs_background": "light"
     },
     "output_type": "display_data"
    }
   ],
   "source": [
    "# credit/debit fraud ratio\n",
    "plt.subplots(figsize=(8, 2))\n",
    "plt.title('Transaction Type With Highest Fraud Ratio', fontsize=13)\n",
    "plt.ylabel('Transaction', fontsize=12)\n",
    "plt.xlabel('Fraud Ratio (%)', fontsize=12)\n",
    "plt.barh(df_card6_ratio.index_card6.sort_values(), df_card6_ratio.card6_fraud_ratio)\n",
    "plt.show()"
   ]
  },
  {
   "cell_type": "markdown",
   "metadata": {},
   "source": [
    "## Transactions by Address"
   ]
  },
  {
   "cell_type": "markdown",
   "metadata": {},
   "source": [
    "#### Creating Dataframes"
   ]
  },
  {
   "cell_type": "code",
   "execution_count": 35,
   "metadata": {
    "scrolled": true
   },
   "outputs": [],
   "source": [
    "# not fraud dataframe\n",
    "df_addr1_notfraud = df_eda[df_eda.isFraud==0].addr1\n",
    "df_addr1_notfraud = df_addr1_notfraud.value_counts()\n",
    "df_addr1_notfraud = df_addr1_notfraud.reset_index()\n",
    "df_addr1_notfraud = df_addr1_notfraud.rename(columns={'addr1':'addr1_notfraud_count',\n",
    "                                                      'index':'index_addr1'})\n",
    "df_addr1_notfraud.index_addr1 = df_addr1_notfraud.index_addr1.astype(str)\n",
    "\n",
    "# fraud dataframe\n",
    "df_addr1_fraud = df_eda[df_eda.isFraud==1].addr1\n",
    "df_addr1_fraud = df_addr1_fraud.value_counts()\n",
    "df_addr1_fraud = df_addr1_fraud.reset_index()\n",
    "df_addr1_fraud = df_addr1_fraud.rename(columns={'addr1':'addr1_fraud_count',\n",
    "                                                      'index':'index_addr1'})\n",
    "df_addr1_fraud.index_addr1 = df_addr1_notfraud.index_addr1.astype(str)\n",
    "\n",
    "# merging not fraud and fraud dataframes\n",
    "df_addr1_eda = df_addr1_notfraud.merge(df_addr1_fraud, how='left', on='index_addr1')\n",
    "df_addr1_eda = df_addr1_eda.fillna(0)\n",
    "df_addr1_eda.loc[0, 'index_addr1'] = 'missing'\n",
    "df_addr1_eda['addr1_total'] = (df_addr1_eda['addr1_fraud_count']\n",
    "                             + df_addr1_eda['addr1_notfraud_count'])\n",
    "df_addr1_eda['addr1_percent_fraud'] = df_addr1_eda['addr1_fraud_count'] / 20663.0\n",
    "df_addr1_eda['addr1_fraud_ratio'] = (df_addr1_eda['addr1_fraud_count'] \n",
    "                                   / df_addr1_eda['addr1_total'])\n",
    "\n",
    "# email total dataframe\n",
    "df_addr1_total = df_addr1_eda.sort_values('addr1_total', ascending=False)\n",
    "df_addr1_total = df_addr1_total.head(10)\n",
    "df_addr1_total = df_addr1_total.sort_values('addr1_total', ascending=True)\n",
    "# email fraud percentage dataframe\n",
    "df_addr1_perc_fraud = df_addr1_eda.sort_values('addr1_percent_fraud', ascending=False)\n",
    "df_addr1_perc_fraud = df_addr1_perc_fraud.head(10)\n",
    "df_addr1_perc_fraud = df_addr1_perc_fraud.sort_values('addr1_percent_fraud', ascending=True)\n",
    "# email fraud ratio  dataframe\n",
    "df_addr1_ratio = df_addr1_eda.sort_values('addr1_fraud_ratio', ascending=False)\n",
    "df_addr1_ratio = df_addr1_ratio.head(10)\n",
    "df_addr1_ratio = df_addr1_ratio.sort_values('addr1_fraud_ratio', ascending=True)"
   ]
  },
  {
   "cell_type": "markdown",
   "metadata": {},
   "source": [
    "### Top 10 Addresses"
   ]
  },
  {
   "cell_type": "code",
   "execution_count": 36,
   "metadata": {},
   "outputs": [
    {
     "data": {
      "image/png": "[encoded data removed]",
      "text/plain": [
       "<Figure size 720x216 with 1 Axes>"
      ]
     },
     "metadata": {
      "needs_background": "light"
     },
     "output_type": "display_data"
    }
   ],
   "source": [
    "plt.subplots(figsize=(10, 3))\n",
    "plt.title('Top 10 Most Common Addresses', fontsize=14)\n",
    "plt.ylabel('Anonymous Address', fontsize=12)\n",
    "plt.xlabel('Total Number of Records', fontsize=12)\n",
    "plt.barh(df_addr1_total.index_addr1, df_addr1_total.addr1_total)\n",
    "plt.show()"
   ]
  },
  {
   "cell_type": "markdown",
   "metadata": {},
   "source": [
    "### Address by Fraud Percentage"
   ]
  },
  {
   "cell_type": "code",
   "execution_count": 37,
   "metadata": {},
   "outputs": [
    {
     "data": {
      "image/png": "[encoded data removed]",
      "text/plain": [
       "<Figure size 720x216 with 1 Axes>"
      ]
     },
     "metadata": {
      "needs_background": "light"
     },
     "output_type": "display_data"
    }
   ],
   "source": [
    "plt.subplots(figsize=(10, 3))\n",
    "plt.title('Addresses With Highest Fraud Percentage', fontsize=14)\n",
    "plt.ylabel('Anonymous Address', fontsize=12)\n",
    "plt.xlabel('Fraud Percentage (%)', fontsize=12)\n",
    "plt.barh(df_addr1_perc_fraud.index_addr1, df_addr1_perc_fraud.addr1_percent_fraud)\n",
    "plt.show()"
   ]
  },
  {
   "cell_type": "markdown",
   "metadata": {},
   "source": [
    "### Address by Fraud Ratio"
   ]
  },
  {
   "cell_type": "code",
   "execution_count": 38,
   "metadata": {},
   "outputs": [
    {
     "data": {
      "image/png": "[encoded data removed]",
      "text/plain": [
       "<Figure size 720x216 with 1 Axes>"
      ]
     },
     "metadata": {
      "needs_background": "light"
     },
     "output_type": "display_data"
    }
   ],
   "source": [
    "plt.subplots(figsize=(10, 3))\n",
    "plt.title('Addresses With Highest Fraud Ratio', fontsize=14)\n",
    "plt.ylabel('Anonymous Address', fontsize=12)\n",
    "plt.xlabel('Fraud Percentage (%)', fontsize=12)\n",
    "plt.barh(df_addr1_ratio.index_addr1, df_addr1_ratio.addr1_fraud_ratio)\n",
    "plt.show()"
   ]
  },
  {
   "cell_type": "markdown",
   "metadata": {},
   "source": [
    "## Transactions By Product Category"
   ]
  },
  {
   "cell_type": "markdown",
   "metadata": {},
   "source": [
    "### Creating Dataframe"
   ]
  },
  {
   "cell_type": "code",
   "execution_count": 39,
   "metadata": {
    "scrolled": true
   },
   "outputs": [],
   "source": [
    "df_product_cd_notfraud = df_eda[df_eda.isFraud==0].ProductCD.sort_values(ascending=False)\n",
    "df_product_cd_fraud = df_eda[df_eda.isFraud==1].ProductCD.sort_values(ascending=False)"
   ]
  },
  {
   "cell_type": "markdown",
   "metadata": {},
   "source": [
    "### Transactions By Product Type - Not Fraudulent"
   ]
  },
  {
   "cell_type": "code",
   "execution_count": 40,
   "metadata": {},
   "outputs": [
    {
     "data": {
      "image/png": "[encoded data removed]",
      "text/plain": [
       "<Figure size 504x288 with 1 Axes>"
      ]
     },
     "metadata": {
      "needs_background": "light"
     },
     "output_type": "display_data"
    }
   ],
   "source": [
    "plt.subplots(figsize=(7, 4))\n",
    "plt.title(\"Non-Fraudulent Credit Card Transactions\", fontsize=13)\n",
    "plt.ylabel('Total Transactions', fontsize=12)\n",
    "plt.xlabel('Product Type', fontsize=12)\n",
    "plt.hist(df_product_cd_notfraud)\n",
    "plt.show()"
   ]
  },
  {
   "cell_type": "markdown",
   "metadata": {},
   "source": [
    "### Transactions By Product Type - Fraudulent"
   ]
  },
  {
   "cell_type": "code",
   "execution_count": 41,
   "metadata": {},
   "outputs": [
    {
     "data": {
      "image/png": "[encoded data removed]",
      "text/plain": [
       "<Figure size 504x288 with 1 Axes>"
      ]
     },
     "metadata": {
      "needs_background": "light"
     },
     "output_type": "display_data"
    }
   ],
   "source": [
    "plt.subplots(figsize=(7, 4))\n",
    "plt.title(\"Fraudulent Credit Card Transactions\", fontsize=13)\n",
    "plt.ylabel('Total Transactions', fontsize=12)\n",
    "plt.xlabel('Product Type', fontsize=12)\n",
    "plt.hist(df_product_cd_fraud)\n",
    "plt.show()"
   ]
  },
  {
   "cell_type": "markdown",
   "metadata": {},
   "source": [
    "## Transaction by Transaction Amount ($)"
   ]
  },
  {
   "cell_type": "markdown",
   "metadata": {},
   "source": [
    "#### Creating Dataframe"
   ]
  },
  {
   "cell_type": "code",
   "execution_count": 42,
   "metadata": {
    "scrolled": true
   },
   "outputs": [],
   "source": [
    "# EDA TransactionAmt\n",
    "df_transactionamt_not_fraud = df_eda[df_eda.isFraud==0].TransactionAmt\n",
    "df_transactionamt_fraud = df_eda[df_eda.isFraud==1].TransactionAmt"
   ]
  },
  {
   "cell_type": "markdown",
   "metadata": {},
   "source": [
    "### Transaction Amount - Not Fraudulent"
   ]
  },
  {
   "cell_type": "code",
   "execution_count": 43,
   "metadata": {},
   "outputs": [
    {
     "data": {
      "image/png": "[encoded data removed]",
      "text/plain": [
       "<Figure size 504x288 with 1 Axes>"
      ]
     },
     "metadata": {
      "needs_background": "light"
     },
     "output_type": "display_data"
    }
   ],
   "source": [
    "plt.subplots(figsize=(7,4))\n",
    "sns.distplot(df_transactionamt_not_fraud)\n",
    "plt.title('Non-Fraudulent Transactions, mean = $135', fontsize=13)\n",
    "plt.ylabel('Total # of Transactions', fontsize=12)\n",
    "plt.xlabel('Transaction Amount', fontsize=12)\n",
    "plt.show()"
   ]
  },
  {
   "cell_type": "markdown",
   "metadata": {},
   "source": [
    "### Transaction Amount - Fraudulent"
   ]
  },
  {
   "cell_type": "code",
   "execution_count": 44,
   "metadata": {},
   "outputs": [
    {
     "data": {
      "image/png": "[encoded data removed]",
      "text/plain": [
       "<Figure size 504x288 with 1 Axes>"
      ]
     },
     "metadata": {
      "needs_background": "light"
     },
     "output_type": "display_data"
    }
   ],
   "source": [
    "plt.subplots(figsize=(7,4))\n",
    "sns.distplot(df_transactionamt_fraud)\n",
    "plt.title('Fraudulent Transactions, mean = $149', fontsize=13)\n",
    "plt.ylabel('Total # of Transactions', fontsize=12)\n",
    "plt.xlabel('Transaction Amount', fontsize=12)\n",
    "plt.show()"
   ]
  },
  {
   "cell_type": "markdown",
   "metadata": {},
   "source": [
    "## Heatmap"
   ]
  },
  {
   "cell_type": "code",
   "execution_count": 46,
   "metadata": {},
   "outputs": [
    {
     "data": {
      "image/png": "[encoded data removed]",
      "text/plain": [
       "<Figure size 432x288 with 2 Axes>"
      ]
     },
     "metadata": {
      "needs_background": "light"
     },
     "output_type": "display_data"
    }
   ],
   "source": [
    "fraud_summary = df_features.groupby('isFraud')\n",
    "fraud_summary.mean().to_csv('/Users/krahman/work/fraud_detection/saved_files/fraud_summary.csv')\n",
    "\n",
    "corr = df_features.corr()\n",
    "corr.to_csv('/Users/krahman/work/fraud_detection/saved_files/corr_matrix.csv')\n",
    "corr2 = corr[corr['isFraud']>.17]\n",
    "corr2 = corr2.loc[:,corr2.index]\n",
    "\n",
    "sns.heatmap(corr2,\n",
    "           xticklabels=corr2.columns.values,\n",
    "           yticklabels=corr2.columns.values)\n",
    "plt.title('Heatmap of Correlation Matrix')\n",
    "plt.show()"
   ]
  }
 ],
 "metadata": {
  "kernelspec": {
   "display_name": "Python 3",
   "language": "python",
   "name": "python3"
  },
  "language_info": {
   "codemirror_mode": {
    "name": "ipython",
    "version": 3
   },
   "file_extension": ".py",
   "mimetype": "text/x-python",
   "name": "python",
   "nbconvert_exporter": "python",
   "pygments_lexer": "ipython3",
   "version": "3.7.4"
  }
 },
 "nbformat": 4,
 "nbformat_minor": 2
}
